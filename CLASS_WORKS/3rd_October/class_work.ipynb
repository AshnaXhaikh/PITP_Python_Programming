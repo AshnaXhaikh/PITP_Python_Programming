{
 "cells": [
  {
   "cell_type": "markdown",
   "id": "a5733ec8",
   "metadata": {},
   "source": [
    "# **PITP Class Work (03-10-2025)**\n",
    "\n",
    "### **1. Try Except Blocks**"
   ]
  },
  {
   "cell_type": "code",
   "execution_count": null,
   "id": "0beb3981",
   "metadata": {},
   "outputs": [
    {
     "name": "stdout",
     "output_type": "stream",
     "text": [
      "Error Occurred! Cannot divide by zero.\n"
     ]
    }
   ],
   "source": [
    "# divide two numbers with exception handling\n",
    "\n",
    "try: \n",
    "    a = int(input(\"Enter numerator: \"))\n",
    "    b = int(input(\"Enter denominator: \"))\n",
    "    result = a / b\n",
    "    print(f\"Result = {result}\")\n",
    "except: \n",
    "    print(f\"Error Occurred! Cannot divide by zero.\")"
   ]
  },
  {
   "cell_type": "markdown",
   "id": "c3748cef",
   "metadata": {},
   "source": [
    "Q 2: Handle invalid input"
   ]
  },
  {
   "cell_type": "code",
   "execution_count": 2,
   "id": "740c6ed8",
   "metadata": {},
   "outputs": [
    {
     "name": "stdout",
     "output_type": "stream",
     "text": [
      "Invalid input! Please enter a number only.\n"
     ]
    }
   ],
   "source": [
    "try:\n",
    "    num = int(input(\"Enter a number: \"))\n",
    "    print(f\"You entered: {num}\")\n",
    "except:\n",
    "    print(\"Invalid input! Please enter a number only.\")"
   ]
  },
  {
   "cell_type": "markdown",
   "id": "e8395572",
   "metadata": {},
   "source": [
    "Q 3: Multiple inputs with exception handling "
   ]
  },
  {
   "cell_type": "code",
   "execution_count": 3,
   "id": "a51f9e2d",
   "metadata": {},
   "outputs": [
    {
     "name": "stdout",
     "output_type": "stream",
     "text": [
      "Error: Please enter only numbers!\n"
     ]
    }
   ],
   "source": [
    "try:\n",
    "    x = int(input(\"Enter first number: \"))\n",
    "    y = int(input(\"Enter a second number.\"))\n",
    "except:\n",
    "    print(\"Error: Please enter only numbers!\")"
   ]
  },
  {
   "cell_type": "markdown",
   "id": "3f771216",
   "metadata": {},
   "source": [
    "### **2. Handling Specific Exceptions**"
   ]
  },
  {
   "cell_type": "code",
   "execution_count": 9,
   "id": "d333be5d",
   "metadata": {},
   "outputs": [
    {
     "name": "stdout",
     "output_type": "stream",
     "text": [
      "a = 5\n",
      "b = 0\n",
      "Error: You can't divide by zero!\n"
     ]
    }
   ],
   "source": [
    "# program to handle exception\n",
    "try:\n",
    "    a = int(input(\"Enter numerator: \"))\n",
    "    b = int(input(\"Enter denominator: \"))\n",
    "    result = a / b\n",
    "    print(f\"a = {a}\\nb = {b}\")\n",
    "    print(f\"Result: {result}\")\n",
    "except ZeroDivisionError:\n",
    "    print(f\"a = {a}\\nb = {b}\")\n",
    "    print(\"Error: You can't divide by zero!\")\n",
    "except ValueError:\n",
    "    print(f\"a = {a}\\nb = {b}\")\n",
    "    print(\"Error: Please enter valid integers only.\")"
   ]
  },
  {
   "cell_type": "markdown",
   "id": "32c02737",
   "metadata": {},
   "source": [
    "Q 2: Handle FileNotFoundError "
   ]
  },
  {
   "cell_type": "code",
   "execution_count": 10,
   "metadata": {},
   "outputs": [
    {
     "name": "stdout",
     "output_type": "stream",
     "text": [
      "Error: File does not exist.\n"
     ]
    }
   ],
   "source": [
    "# program to handle file not found error\n",
    "try:\n",
    "    f = open(\"data.txt\", \"r\")\n",
    "    print(f.read())\n",
    "except FileNotFoundError:\n",
    "    print(\"Error: File does not exist.\")"
   ]
  },
  {
   "cell_type": "markdown",
   "id": "9529464e",
   "metadata": {},
   "source": [
    "Q 3: Handle IndexError in a list"
   ]
  },
  {
   "cell_type": "code",
   "execution_count": 13,
   "metadata": {},
   "outputs": [
    {
     "name": "stdout",
     "output_type": "stream",
     "text": [
      "elements in number: 3\n",
      "Error: index is out of range!\n"
     ]
    }
   ],
   "source": [
    "# program to handle index error\n",
    "numbers = [10, 24, 21]\n",
    "\n",
    "try:\n",
    "    print(numbers[5]) # index is invalid \n",
    "    print(f\"elements in number: {len(numbers)}\")\n",
    "except IndexError:\n",
    "    print(f\"elements in number: {len(numbers)}\")\n",
    "    print(\"Error: index is out of range!\")"
   ]
  },
  {
   "cell_type": "markdown",
   "id": "8336aaf4",
   "metadata": {},
   "source": [
    "# **3. Raising Exceptions**"
   ]
  },
  {
   "cell_type": "markdown",
   "id": "3e0503ad",
   "metadata": {},
   "source": [
    "Q 1: Raise exception for age check "
   ]
  },
  {
   "cell_type": "code",
   "execution_count": 14,
   "id": "f461acbf",
   "metadata": {},
   "outputs": [],
   "source": [
    "\n",
    "# Program to raise exception manually \n",
    "def check_age(age): \n",
    "    if age < 18: \n",
    "        raise ValueError(\"Age must be 18 or above to vote.\") \n",
    "    else: \n",
    "        print(\"You are eligible to vote.\") "
   ]
  },
  {
   "cell_type": "code",
   "execution_count": 16,
   "id": "fba02bc1",
   "metadata": {},
   "outputs": [
    {
     "name": "stdout",
     "output_type": "stream",
     "text": [
      "Exception: Age must be 18 or above to vote.\n"
     ]
    }
   ],
   "source": [
    "try: \n",
    "    age = int(input(\"Enter your age: \")) \n",
    "    check_age(age) \n",
    "except ValueError as e: \n",
    "    print(\"Exception:\", e) "
   ]
  },
  {
   "cell_type": "markdown",
   "id": "8d762c3d",
   "metadata": {},
   "source": [
    "Q 2: Raise exception if marks are invalid "
   ]
  },
  {
   "cell_type": "code",
   "execution_count": 17,
   "id": "0836b778",
   "metadata": {},
   "outputs": [],
   "source": [
    "# Program to raise exception for invalid marks \n",
    "def check_marks(marks):\n",
    "    if marks < 0 or marks > 100:\n",
    "        raise ValueError(\"Marks must be between 0 and 100\")\n",
    "    else: \n",
    "        print(\"Valid marks: \", marks)"
   ]
  },
  {
   "cell_type": "code",
   "execution_count": 20,
   "id": "96bd3090",
   "metadata": {},
   "outputs": [
    {
     "name": "stdout",
     "output_type": "stream",
     "text": [
      "Entered Marks: 110\n",
      "Exception: Marks must be between 0 and 100\n"
     ]
    }
   ],
   "source": [
    "try:\n",
    "    score = int(input(\"Enter marks: \"))\n",
    "    check_marks(score)\n",
    "    print(f\"Entered Marks: {score}\")\n",
    "except ValueError as e:\n",
    "    print(f\"Entered Marks: {score}\")\n",
    "    print(f\"Exception: {e}\")"
   ]
  },
  {
   "cell_type": "markdown",
   "id": "c2b79fed",
   "metadata": {},
   "source": [
    "Q 3: Raise exception in withdraw function "
   ]
  },
  {
   "cell_type": "code",
   "execution_count": 21,
   "id": "9f513029",
   "metadata": {},
   "outputs": [],
   "source": [
    "# Program to raise exception in banking example \n",
    "balance = 5000\n",
    "\n",
    "def withdraw(amount):\n",
    "    if amount > balance:\n",
    "        raise Exception(\"Insufficient balance!\")\n",
    "    else: \n",
    "        print(\"Withdrawal successful. Remaining balance:\", balance - amount) "
   ]
  },
  {
   "cell_type": "code",
   "execution_count": 22,
   "id": "1891cc14",
   "metadata": {},
   "outputs": [
    {
     "name": "stdout",
     "output_type": "stream",
     "text": [
      "Withdrawal successful. Remaining balance: 3000\n"
     ]
    }
   ],
   "source": [
    "try: \n",
    "    amt = int(input(\"Enter withdrawal amount: \")) \n",
    "    withdraw(amt) \n",
    "except Exception as e: \n",
    "    print(\"Exception:\", e) "
   ]
  },
  {
   "cell_type": "markdown",
   "id": "8281e265",
   "metadata": {},
   "source": [
    "# **4. Finally Clause**"
   ]
  },
  {
   "cell_type": "markdown",
   "id": "09bd290d",
   "metadata": {},
   "source": [
    "Q 1: Demonstrate finally with division"
   ]
  },
  {
   "cell_type": "code",
   "execution_count": 23,
   "id": "739427ae",
   "metadata": {},
   "outputs": [
    {
     "name": "stdout",
     "output_type": "stream",
     "text": [
      "Division by zero not allowed.\n",
      "Finally block executed.\n"
     ]
    }
   ],
   "source": [
    "\n",
    "# Program to show finally block \n",
    "try: \n",
    "    a = int(input(\"Enter number 1: \")) \n",
    "    b = int(input(\"Enter number 2: \")) \n",
    "    result = a / b \n",
    "    print(\"Result:\", result) \n",
    "except ZeroDivisionError: \n",
    "    print(\"Division by zero not allowed.\") \n",
    "finally: \n",
    "    print(\"Finally block executed.\") "
   ]
  },
  {
   "cell_type": "markdown",
   "id": "071e6304",
   "metadata": {},
   "source": [
    "C.Q 2: File handling with finally"
   ]
  },
  {
   "cell_type": "code",
   "execution_count": 24,
   "id": "df2b53d2",
   "metadata": {},
   "outputs": [
    {
     "name": "stdout",
     "output_type": "stream",
     "text": [
      "File not found!\n",
      "Closing file operation (if opened).\n"
     ]
    }
   ],
   "source": [
    " \n",
    "# Program to show finally with file handling \n",
    "try: \n",
    "    f = open(\"data.txt\", \"r\") \n",
    "    print(f.read()) \n",
    "except FileNotFoundError: \n",
    "    print(\"File not found!\") \n",
    "finally: \n",
    "    print(\"Closing file operation (if opened).\") "
   ]
  },
  {
   "cell_type": "markdown",
   "id": "d9307fab",
   "metadata": {},
   "source": [
    "Q 3: Always print program end "
   ]
  },
  {
   "cell_type": "code",
   "execution_count": null,
   "id": "d930f515",
   "metadata": {},
   "outputs": [],
   "source": [
    "# alwaysprint end message\n",
    "try:\n",
    "    no = int(input(\"Enter a number: \"))\n",
    "    print(f\"Square of {no} = {no**2}\")\n",
    "except ValueError:\n",
    "    print(\"Invalid input! enter numbers only.\")\n",
    "finally:\n",
    "    print(\"End of program.\")"
   ]
  }
 ],
 "metadata": {
  "kernelspec": {
   "display_name": "ashna",
   "language": "python",
   "name": "python3"
  },
  "language_info": {
   "codemirror_mode": {
    "name": "ipython",
    "version": 3
   },
   "file_extension": ".py",
   "mimetype": "text/x-python",
   "name": "python",
   "nbconvert_exporter": "python",
   "pygments_lexer": "ipython3",
   "version": "3.11.9"
  }
 },
 "nbformat": 4,
 "nbformat_minor": 5
}
