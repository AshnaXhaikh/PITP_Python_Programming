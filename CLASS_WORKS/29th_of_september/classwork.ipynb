{
 "cells": [
  {
   "cell_type": "markdown",
   "id": "8535c3fb",
   "metadata": {},
   "source": [
    "# **1. Defining Functions**"
   ]
  },
  {
   "cell_type": "code",
   "execution_count": 1,
   "id": "8d57fb1d",
   "metadata": {},
   "outputs": [
    {
     "name": "stdout",
     "output_type": "stream",
     "text": [
      "Hello, Python!\n"
     ]
    }
   ],
   "source": [
    "# C.Q 1: Define a function that prints \"Hello, Python!\" \n",
    "# Program to define a simple function \n",
    "def greet(): \n",
    "    print(\"Hello, Python!\") \n",
    "# Function call \n",
    "greet() "
   ]
  },
  {
   "cell_type": "code",
   "execution_count": 2,
   "id": "50dfd036",
   "metadata": {},
   "outputs": [
    {
     "name": "stdout",
     "output_type": "stream",
     "text": [
      "Welcome Ashna to Python class!\n"
     ]
    }
   ],
   "source": [
    "# C.Q 2: Define a function that takes your name and prints a welcome message. \n",
    "# Program to define a function that welcomes user \n",
    "def welcome(): \n",
    "    name = input(\"Enter your name: \") \n",
    "    print(\"Welcome\", name, \"to Python class!\") \n",
    "welcome() "
   ]
  },
  {
   "cell_type": "markdown",
   "id": "c7f33aa5",
   "metadata": {},
   "source": [
    "# **2. Parameters**"
   ]
  },
  {
   "cell_type": "code",
   "execution_count": 3,
   "id": "eca7dfaa",
   "metadata": {},
   "outputs": [],
   "source": [
    "# C.Q 1: Define a function that takes a name as parameter and prints a greeting. \n",
    "# Program with parameter \n",
    "def greet(name): \n",
    "    print(\"Hello,\", name, \"how are you?\") "
   ]
  },
  {
   "cell_type": "code",
   "execution_count": 4,
   "metadata": {},
   "outputs": [
    {
     "name": "stdout",
     "output_type": "stream",
     "text": [
      "Hello, Alice how are you?\n"
     ]
    }
   ],
   "source": [
    "greet(\"Alice\")"
   ]
  },
  {
   "cell_type": "code",
   "execution_count": 5,
   "id": "cc29bb60",
   "metadata": {},
   "outputs": [
    {
     "name": "stdout",
     "output_type": "stream",
     "text": [
      "Sum is: 15\n",
      "Sum is: 50\n"
     ]
    }
   ],
   "source": [
    "# C.Q 2: Define a function that takes two numbers as parameters and prints their sum. \n",
    "# Program with two parameters \n",
    "\n",
    "def add_numbers(a, b): \n",
    "    print(\"Sum is:\", a + b) \n",
    "add_numbers(5, 10) \n",
    "add_numbers(20, 30) "
   ]
  },
  {
   "cell_type": "markdown",
   "id": "4d222ff2",
   "metadata": {},
   "source": [
    "# **3. Return Values**"
   ]
  },
  {
   "cell_type": "code",
   "execution_count": 6,
   "id": "97edece4",
   "metadata": {},
   "outputs": [
    {
     "name": "stdout",
     "output_type": "stream",
     "text": [
      "Product is: 20\n"
     ]
    }
   ],
   "source": [
    "# C.Q 1: Define a function that takes two numbers and returns their product. \n",
    "# Program using return value \n",
    "def multiply(a, b): \n",
    "    return a * b \n",
    "result = multiply(4, 5) \n",
    "print(\"Product is:\", result) "
   ]
  },
  {
   "cell_type": "code",
   "execution_count": 7,
   "id": "d5bb4bb7",
   "metadata": {},
   "outputs": [
    {
     "name": "stdout",
     "output_type": "stream",
     "text": [
      "Odd\n",
      "Even\n"
     ]
    }
   ],
   "source": [
    "# C.Q 2: Define a function that takes a number and returns whether it is even or odd. \n",
    "# Program to check even or odd using return \n",
    "def check_even_odd(num): \n",
    "    if num % 2 == 0: \n",
    "        return \"Even\" \n",
    "    else: \n",
    "        return \"Odd\" \n",
    "print(check_even_odd(7)) \n",
    "print(check_even_odd(12)) "
   ]
  },
  {
   "cell_type": "markdown",
   "id": "dddeec29",
   "metadata": {},
   "source": [
    "# **4. Variable Scope (Local vs Global)**"
   ]
  },
  {
   "cell_type": "code",
   "execution_count": 8,
   "id": "e252b64b",
   "metadata": {},
   "outputs": [
    {
     "name": "stdout",
     "output_type": "stream",
     "text": [
      "I am local\n"
     ]
    }
   ],
   "source": [
    "# C.Q 1: Demonstrate local variable inside a function. \n",
    "# Program showing local variable \n",
    "def show_local(): \n",
    "    message = \"I am local\"  # local variable \n",
    "    print(message) \n",
    "show_local() \n",
    "# print(message)  # This will give error because 'message' is local "
   ]
  },
  {
   "cell_type": "code",
   "execution_count": 9,
   "id": "c9e93378",
   "metadata": {},
   "outputs": [
    {
     "name": "stdout",
     "output_type": "stream",
     "text": [
      "Inside function: 10\n",
      "Outside function: 10\n"
     ]
    }
   ],
   "source": [
    "# C.Q 2: Demonstrate global variable usage. \n",
    "# Program showing global variable \n",
    "count = 10  # global variable \n",
    "def show_global(): \n",
    "    print(\"Inside function:\", count) \n",
    "show_global() \n",
    "print(\"Outside function:\", count) "
   ]
  },
  {
   "cell_type": "code",
   "execution_count": 10,
   "id": "5858b72b",
   "metadata": {},
   "outputs": [
    {
     "name": "stdout",
     "output_type": "stream",
     "text": [
      "Inside function: 6\n",
      "Outside function: 6\n"
     ]
    }
   ],
   "source": [
    "# C.Q 3: Modify global variable inside a function using global keyword. \n",
    "# Program to modify global variable \n",
    "count = 5 \n",
    "def update_count(): \n",
    "    global count \n",
    "    count = count + 1 \n",
    "    print(\"Inside function:\", count) \n",
    "update_count() \n",
    "print(\"Outside function:\", count) "
   ]
  }
 ],
 "metadata": {
  "kernelspec": {
   "display_name": "ashna",
   "language": "python",
   "name": "python3"
  },
  "language_info": {
   "codemirror_mode": {
    "name": "ipython",
    "version": 3
   },
   "file_extension": ".py",
   "mimetype": "text/x-python",
   "name": "python",
   "nbconvert_exporter": "python",
   "pygments_lexer": "ipython3",
   "version": "3.11.9"
  }
 },
 "nbformat": 4,
 "nbformat_minor": 5
}
