{
 "cells": [
  {
   "cell_type": "code",
   "execution_count": 2,
   "id": "d9482d92",
   "metadata": {},
   "outputs": [],
   "source": [
    "users = {\n",
    "    \"admin\": \"1234\",\n",
    "    \"user\": \"abcd\"\n",
    "}\n",
    "\n",
    "def login():\n",
    "    try:\n",
    "        username = input(\"Enter username: \").strip()\n",
    "        password = input(\"Enter password: \").strip()\n",
    "\n",
    "        if not username or not password:\n",
    "            raise ValueError(\"Username and password cannot be empty.\")\n",
    "        \n",
    "        if users.get(username) == password:\n",
    "            print(\"login successful!\")\n",
    "            return True\n",
    "        else:\n",
    "            print(\"Invalid username or password.\")\n",
    "            return False\n",
    "    except ValueError as ve:\n",
    "        print(\"Error: \", ve)\n",
    "        return False\n",
    "    except Exception as e:\n",
    "        print(\"An unexpected error occurred: \", e)\n",
    "        return False\n",
    "    \n"
   ]
  },
  {
   "cell_type": "code",
   "execution_count": 3,
   "id": "08387cba",
   "metadata": {},
   "outputs": [],
   "source": [
    "def calculator():\n",
    "    print(\"\\nWelcome to the Calculator!\")\n",
    "    print(\"Available operations: +, -, *, /\")\n",
    "\n",
    "    while True:\n",
    "        try:\n",
    "            num1 = float(input(\"enter first number: \"))\n",
    "            op = input(\"enter operation (+, -, *, /) or 'q' to quit: \").strip()\n",
    "            if op.lower() == \"q\":\n",
    "                print(\"Exiting calculator. Goodbye!\")\n",
    "                break\n",
    "            num2 = float(input(\"Enter second number: \"))\n",
    "\n",
    "            if op == \"+\":\n",
    "                result = num1 + num2\n",
    "            elif op == \"-\":\n",
    "                result = num1 = num2\n",
    "            elif op == \"*\":\n",
    "                result = num1 * num2\n",
    "            elif op == \"/\":\n",
    "                if num2 == 0:\n",
    "                    raise ZeroDivisionError(\"Cannot divide by zero.\")\n",
    "                result = num1 / num2\n",
    "            else:\n",
    "                raise ValueError(\"Invalid operation.\")\n",
    "            \n",
    "            print(f\"Result: {result}\")\n",
    "\n",
    "        except ValueError as ve:\n",
    "            print(\"Value Error: \", ve)\n",
    "        except ZeroDivisionError as zde:\n",
    "            print(\"Math Error: \", zde)\n",
    "        except Exception as e:\n",
    "            print(\"Unexpected error: \", e)\n",
    "\n",
    "        # Ask if the user wants to continue\n",
    "        cont = input(\"Do you want to perform another calculation? (y/n): \").strip().lower()\n",
    "        if cont != \"y\":\n",
    "            print(\"Exiting calculator. Goodbye!\")\n",
    "            break"
   ]
  },
  {
   "cell_type": "code",
   "execution_count": 5,
   "id": "100f4d1b",
   "metadata": {},
   "outputs": [
    {
     "name": "stdout",
     "output_type": "stream",
     "text": [
      "login successful!\n",
      "\n",
      "Welcome to the Calculator!\n",
      "Available operations: +, -, *, /\n",
      "Result: 0.5\n",
      "Exiting calculator. Goodbye!\n"
     ]
    }
   ],
   "source": [
    "if login():\n",
    "    calculator()"
   ]
  },
  {
   "cell_type": "code",
   "execution_count": null,
   "id": "752a3498",
   "metadata": {},
   "outputs": [],
   "source": []
  }
 ],
 "metadata": {
  "kernelspec": {
   "display_name": "ashna",
   "language": "python",
   "name": "python3"
  },
  "language_info": {
   "codemirror_mode": {
    "name": "ipython",
    "version": 3
   },
   "file_extension": ".py",
   "mimetype": "text/x-python",
   "name": "python",
   "nbconvert_exporter": "python",
   "pygments_lexer": "ipython3",
   "version": "3.11.9"
  }
 },
 "nbformat": 4,
 "nbformat_minor": 5
}
