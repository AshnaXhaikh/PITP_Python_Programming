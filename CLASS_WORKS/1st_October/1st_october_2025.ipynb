{
 "cells": [
  {
   "cell_type": "markdown",
   "id": "7713f2fb",
   "metadata": {},
   "source": [
    "# Bank Account Management System"
   ]
  },
  {
   "cell_type": "code",
   "execution_count": null,
   "id": "9468f7b9",
   "metadata": {},
   "outputs": [],
   "source": [
    "\n",
    "balance = 1000\n",
    "\n",
    "def deposit(amount):\n",
    "    global balance\n",
    "    balance += amount\n",
    "    return balance\n",
    "\n",
    "def withdraw(amount):\n",
    "    global balance\n",
    "    if amount > balance:\n",
    "        return \"Insufficient funds\"\n",
    "    balance -= amount\n",
    "    return balance\n",
    "\n",
    "def get_balance():\n",
    "    return balance\n",
    "\n",
    "\n"
   ]
  },
  {
   "cell_type": "code",
   "execution_count": null,
   "id": "6dedcc61",
   "metadata": {},
   "outputs": [
    {
     "name": "stdout",
     "output_type": "stream",
     "text": [
      "Balance after deposit: 1500\n",
      "Balance after withdrawal: 1300\n"
     ]
    }
   ],
   "source": [
    "deposit = deposit(500)\n",
    "print(\"Balance after deposit:\", deposit)\n",
    "withdraw = withdraw(200)\n",
    "print(\"Balance after withdrawal:\", withdraw)\n"
   ]
  },
  {
   "cell_type": "markdown",
   "id": "23cdd5e9",
   "metadata": {},
   "source": [
    "# 1. Importing Modules "
   ]
  },
  {
   "cell_type": "markdown",
   "id": "b6ea66f9",
   "metadata": {},
   "source": [
    "Q 1: Import the math module and calculate square root of a number. "
   ]
  },
  {
   "cell_type": "code",
   "execution_count": 4,
   "id": "35d9c865",
   "metadata": {},
   "outputs": [
    {
     "name": "stdout",
     "output_type": "stream",
     "text": [
      "The square root of 100 is 10.0\n"
     ]
    }
   ],
   "source": [
    "import math \n",
    "\n",
    "num = int(input(\"Enter a number to find its square root: \"))\n",
    "sqrt = math.sqrt(num)\n",
    "print(f\"The square root of {num} is {sqrt}\")"
   ]
  },
  {
   "cell_type": "markdown",
   "id": "a8170d07",
   "metadata": {},
   "source": [
    "Q 2: Import only a specific function from a module. "
   ]
  },
  {
   "cell_type": "code",
   "execution_count": 5,
   "id": "c7754b15",
   "metadata": {},
   "outputs": [
    {
     "name": "stdout",
     "output_type": "stream",
     "text": [
      "The factorial of 7 is 5040\n"
     ]
    }
   ],
   "source": [
    "# import factorial function from math module\n",
    "from math import factorial\n",
    "\n",
    "num = int(input(\"Enter a number to find its factorial: \"))\n",
    "fact = factorial(num) \n",
    "\n",
    "print(f\"The factorial of {num} is {fact}\")"
   ]
  },
  {
   "cell_type": "markdown",
   "id": "01632c2c",
   "metadata": {},
   "source": [
    "Q 3: Use the random module to generate a random number. "
   ]
  },
  {
   "cell_type": "code",
   "execution_count": 6,
   "id": "60759e09",
   "metadata": {},
   "outputs": [
    {
     "name": "stdout",
     "output_type": "stream",
     "text": [
      "Random number between 1 and 10: 2\n"
     ]
    }
   ],
   "source": [
    "# program to generate a random number between 1 and 10\n",
    "import random\n",
    "\n",
    "num = random.randint(1, 10)\n",
    "print(f\"Random number between 1 and 10: {num}\")"
   ]
  },
  {
   "cell_type": "markdown",
   "id": "8531384f",
   "metadata": {},
   "source": [
    "## **Importing Modules in Jupyter Notebook**"
   ]
  },
  {
   "cell_type": "markdown",
   "id": "b8c2bd0b",
   "metadata": {},
   "source": [
    "1) Importing guess number game from custom module"
   ]
  },
  {
   "cell_type": "code",
   "execution_count": 6,
   "id": "0d06712f",
   "metadata": {},
   "outputs": [
    {
     "name": "stdout",
     "output_type": "stream",
     "text": [
      "I am thinking of a number between 1 to 100\n",
      "You entered: 30\n",
      "Too Low!, Try agian.\n",
      "You entered: 50\n",
      "Too Low!, Try agian.\n",
      "You entered: 70\n",
      "Too High!, Try again.\n",
      "You entered: 60\n",
      "Too High!, Try again.\n",
      "You entered: 55\n",
      "Too High!, Try again.\n",
      "You entered: 54\n",
      "Too High!, Try again.\n",
      "You entered: 53\n",
      "Congrats! you've guessed the exact number.\n"
     ]
    }
   ],
   "source": [
    "import importlib\n",
    "import mymodule\n",
    "\n",
    "importlib.reload(mymodule)   # reloads updated code\n",
    "mymodule.guess_num_game()\n"
   ]
  },
  {
   "cell_type": "markdown",
   "id": "cd603c3c",
   "metadata": {},
   "source": [
    "2) Import add function from `mymodule`"
   ]
  },
  {
   "cell_type": "code",
   "execution_count": 8,
   "id": "bb60bf36",
   "metadata": {},
   "outputs": [
    {
     "name": "stdout",
     "output_type": "stream",
     "text": [
      "10 + 16 = 26\n"
     ]
    }
   ],
   "source": [
    "a = int(input(\"Enter a number: \"))\n",
    "b = int(input(\"Enter a number: \"))\n",
    "\n",
    "# first I will reload updates\n",
    "importlib.reload(mymodule)\n",
    "print(f\"{a} + {b} = {mymodule.add(a, b)}\")"
   ]
  },
  {
   "cell_type": "markdown",
   "id": "f9c421af",
   "metadata": {},
   "source": [
    "3) Import `greet()` function from `mymodule`"
   ]
  },
  {
   "cell_type": "code",
   "execution_count": 17,
   "id": "8bd01ff9",
   "metadata": {},
   "outputs": [
    {
     "name": "stdout",
     "output_type": "stream",
     "text": [
      "Hello, Ashna Xhaikh!\n"
     ]
    }
   ],
   "source": [
    "from mymodule import greet\n",
    "\n",
    "name = input(\"Enter your name: \")\n",
    "\n",
    "hello = greet(name)\n",
    "\n",
    "print(hello)"
   ]
  },
  {
   "cell_type": "markdown",
   "id": "0c9f2b02",
   "metadata": {},
   "source": [
    "## **Importing Modules from Python packages**"
   ]
  },
  {
   "cell_type": "code",
   "execution_count": null,
   "id": "f6e30036",
   "metadata": {},
   "outputs": [
    {
     "name": "stdout",
     "output_type": "stream",
     "text": [
      "Added d:\\fastAPI\\Python_programming\\path\\to\\your\\local_package_folder to system path.\n",
      "\n",
      "Could not find 'my_module'. Make sure the path and file name are correct.\n"
     ]
    }
   ],
   "source": [
    "import sys\n",
    "import os\n",
    "\n",
    "# --- Configuration ---\n",
    "# 1. Define the path to the directory containing your package.\n",
    "#    Replace 'path/to/your/package_directory' with the actual relative or absolute path.\n",
    "#    Example: If your notebook is in 'notebooks/' and your package is in 'src/mypackage',\n",
    "#    the path would be '../src'.\n",
    "package_path = 'D:\\fastAPI\\Python_programming\\Understand_Python_Package' \n",
    "\n",
    "# Get the absolute path for robustness\n",
    "absolute_path = os.path.abspath(package_path)\n",
    "\n",
    "# 2. Add the path to the system path list\n",
    "#    This allows Python's import mechanism to find modules in this folder.\n",
    "if absolute_path not in sys.path:\n",
    "    sys.path.append(absolute_path)\n",
    "    print(f\"Added {absolute_path} to system path.\")\n",
    "else:\n",
    "    print(f\"Path already in sys.path.\")\n",
    "\n",
    "# 3. Now you can import modules from that directory\n",
    "#    If the directory contains 'my_module.py', you can import it like this:\n",
    "try:\n",
    "    import mypackage\n",
    "    print(\"\\nSuccessfully imported my_module!\")\n",
    "    # Use functions from the module: my_module.some_function()\n",
    "except ImportError:\n",
    "    print(\"\\nCould not find 'my_module'. Make sure the path and file name are correct.\")\n"
   ]
  },
  {
   "cell_type": "code",
   "execution_count": null,
   "id": "e09422f4",
   "metadata": {},
   "outputs": [],
   "source": []
  }
 ],
 "metadata": {
  "kernelspec": {
   "display_name": "ashna",
   "language": "python",
   "name": "python3"
  },
  "language_info": {
   "codemirror_mode": {
    "name": "ipython",
    "version": 3
   },
   "file_extension": ".py",
   "mimetype": "text/x-python",
   "name": "python",
   "nbconvert_exporter": "python",
   "pygments_lexer": "ipython3",
   "version": "3.11.9"
  }
 },
 "nbformat": 4,
 "nbformat_minor": 5
}
