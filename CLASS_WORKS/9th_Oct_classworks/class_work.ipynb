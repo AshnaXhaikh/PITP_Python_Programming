{
 "cells": [
  {
   "cell_type": "markdown",
   "id": "2616a66f",
   "metadata": {},
   "source": [
    "**1. Key-Value Pairs (Dictionaries Basics)**"
   ]
  },
  {
   "cell_type": "markdown",
   "id": "1a0409a8",
   "metadata": {},
   "source": [
    "Q 1: Create and print a dictionary "
   ]
  },
  {
   "cell_type": "code",
   "execution_count": 2,
   "id": "38b6cd1f",
   "metadata": {},
   "outputs": [
    {
     "name": "stdout",
     "output_type": "stream",
     "text": [
      "Student information: {'name': 'Ashna', 'age': 18, 'grade': 'A'}\n"
     ]
    }
   ],
   "source": [
    "# Program to create and display a dictionary \n",
    "\n",
    "student = {\"name\": \"Ashna\", \"age\": 18, \"grade\": \"A\"} \n",
    "print(\"Student information:\", student) "
   ]
  },
  {
   "cell_type": "markdown",
   "id": "7bd9627f",
   "metadata": {},
   "source": [
    "Q 2: Access values using keys "
   ]
  },
  {
   "cell_type": "code",
   "execution_count": 4,
   "id": "2f08d838",
   "metadata": {},
   "outputs": [
    {
     "name": "stdout",
     "output_type": "stream",
     "text": [
      "Name: Ashna\n",
      "Age: 18\n",
      "Grade: A\n"
     ]
    }
   ],
   "source": [
    "\n",
    "# Program to access dictionary values \n",
    "student = {\"name\": \"Ashna\", \"age\": 18, \"grade\": \"A\"} \n",
    "print(\"Name:\", student[\"name\"])\n",
    "print(\"Age:\", student[\"age\"]) \n",
    "print(\"Grade:\", student[\"grade\"]) "
   ]
  },
  {
   "cell_type": "markdown",
   "id": "397ae4f3",
   "metadata": {},
   "source": [
    "Q 3: Add, update, and delete keys "
   ]
  },
  {
   "cell_type": "code",
   "execution_count": 6,
   "id": "5cc402ce",
   "metadata": {},
   "outputs": [
    {
     "name": "stdout",
     "output_type": "stream",
     "text": [
      "Updated student record: {'age': 18, 'grade': 'A'}\n"
     ]
    }
   ],
   "source": [
    "# Program to add, update, and delete dictionary items \n",
    "student = {\"name\": \"Ashna\", \"age\": 17} \n",
    "student[\"grade\"] = \"A\" # add key     \n",
    "student[\"age\"] = 18    # updating value       \n",
    "del student[\"name\"]    # deleting key       \n",
    "\n",
    "print(\"Updated student record:\", student) "
   ]
  },
  {
   "cell_type": "markdown",
   "id": "06b18845",
   "metadata": {},
   "source": [
    "### **2. Dictionary Methods**"
   ]
  },
  {
   "cell_type": "markdown",
   "id": "c9fff4b7",
   "metadata": {},
   "source": [
    "Q 1: Use keys(), values(), and items()"
   ]
  },
  {
   "cell_type": "code",
   "execution_count": 7,
   "metadata": {},
   "outputs": [
    {
     "name": "stdout",
     "output_type": "stream",
     "text": [
      "Keys: dict_keys(['name', 'city', 'age'])\n",
      "Values: dict_values(['Sara', 'Lahore', 25])\n",
      "Items: dict_items([('name', 'Sara'), ('city', 'Lahore'), ('age', 25)])\n"
     ]
    }
   ],
   "source": [
    "# Program to use dictionary methods \n",
    "person = {\"name\": \"Sara\", \"city\": \"Lahore\", \"age\": 25}\n",
    " \n",
    "print(\"Keys:\", person.keys()) \n",
    "print(\"Values:\", person.values()) \n",
    "print(\"Items:\", person.items()) "
   ]
  },
  {
   "cell_type": "markdown",
   "id": "c310d400",
   "metadata": {},
   "source": [
    "Q 2: Use get() and pop()"
   ]
  },
  {
   "cell_type": "code",
   "execution_count": 9,
   "id": "1e8ddf94",
   "metadata": {},
   "outputs": [
    {
     "name": "stdout",
     "output_type": "stream",
     "text": [
      "Grade: B\n",
      "After removing 'age': {'name': 'sara', 'grade': 'B'}\n"
     ]
    }
   ],
   "source": [
    "# Program using get() and pop() methods \n",
    "student = {\"name\": \"sara\", \"age\": 20, \"grade\": \"B\"} \n",
    "print(\"Grade:\", student.get(\"grade\")) \n",
    "student.pop(\"age\") \n",
    "print(\"After removing 'age':\", student) "
   ]
  },
  {
   "cell_type": "markdown",
   "id": "7ed30d62",
   "metadata": {},
   "source": [
    "Q 3: Copy and clear a dictionary"
   ]
  },
  {
   "cell_type": "code",
   "execution_count": 10,
   "id": "034c46d1",
   "metadata": {},
   "outputs": [
    {
     "name": "stdout",
     "output_type": "stream",
     "text": [
      "Copied dictionary: {'brand': 'Toyota', 'model': 'Corolla'}\n",
      "Original dictionary after clear: {}\n"
     ]
    }
   ],
   "source": [
    " # Program to copy and clear dictionary \n",
    "car = {\"brand\": \"Toyota\", \"model\": \"Corolla\"} \n",
    "new_car = car.copy()  \n",
    "\n",
    "# duplicate \n",
    "print(\"Copied dictionary:\", new_car) \n",
    "car.clear()  \n",
    "            \n",
    "# remove all items \n",
    "print(\"Original dictionary after clear:\", car) "
   ]
  },
  {
   "cell_type": "markdown",
   "id": "ed61a0be",
   "metadata": {},
   "source": [
    "### **3. Set Operations**"
   ]
  },
  {
   "cell_type": "markdown",
   "id": "04bf7e77",
   "metadata": {},
   "source": [
    "Q 1: Create a set and remove duplicates"
   ]
  },
  {
   "cell_type": "code",
   "execution_count": 11,
   "id": "60b2582e",
   "metadata": {},
   "outputs": [
    {
     "name": "stdout",
     "output_type": "stream",
     "text": [
      "Unique numbers in set: {1, 2, 3, 4, 5}\n"
     ]
    }
   ],
   "source": [
    "# Program to show that sets remove duplicates automatically \n",
    "numbers = {1, 2, 3, 3, 4, 5, 5} \n",
    "print(\"Unique numbers in set:\", numbers) "
   ]
  },
  {
   "cell_type": "markdown",
   "id": "f96c6119",
   "metadata": {},
   "source": [
    "Q 2: Perform union and intersection "
   ]
  },
  {
   "cell_type": "code",
   "execution_count": 12,
   "id": "b0fb7507",
   "metadata": {},
   "outputs": [
    {
     "name": "stdout",
     "output_type": "stream",
     "text": [
      "Union: {1, 2, 3, 4, 5, 6}\n",
      "Intersection: {3, 4}\n"
     ]
    }
   ],
   "source": [
    "# Program for union and intersection of sets \n",
    "A = {1, 2, 3, 4} \n",
    "B = {3, 4, 5, 6} \n",
    "print(\"Union:\", A.union(B)) \n",
    "print(\"Intersection:\", A.intersection(B)) "
   ]
  },
  {
   "cell_type": "markdown",
   "id": "cc438c76",
   "metadata": {},
   "source": [
    "Q 3: Difference and symmetric difference "
   ]
  },
  {
   "cell_type": "code",
   "execution_count": 13,
   "id": "63868dfb",
   "metadata": {},
   "outputs": [
    {
     "name": "stdout",
     "output_type": "stream",
     "text": [
      "Difference (A - B): {1, 2}\n",
      "Symmetric Difference: {1, 2, 5, 6}\n"
     ]
    }
   ],
   "source": [
    "# Program to demonstrate difference and symmetric difference \n",
    "A = {1, 2, 3, 4} \n",
    "B = {3, 4, 5, 6} \n",
    "print(\"Difference (A - B):\", A - B) \n",
    "print(\"Symmetric Difference:\", A.symmetric_difference(B)) "
   ]
  },
  {
   "cell_type": "markdown",
   "id": "d4eeb424",
   "metadata": {},
   "source": [
    "### **4. Use Cases for Each Data Structure**"
   ]
  },
  {
   "cell_type": "markdown",
   "id": "79005da7",
   "metadata": {},
   "source": [
    "Q 1: Using list for storing student marks "
   ]
  },
  {
   "cell_type": "code",
   "execution_count": 14,
   "id": "caee2081",
   "metadata": {},
   "outputs": [
    {
     "name": "stdout",
     "output_type": "stream",
     "text": [
      "Average marks: 86.25\n"
     ]
    }
   ],
   "source": [
    "\n",
    "# Program using list \n",
    "marks = [85, 90, 78, 92] \n",
    "average = sum(marks) / len(marks) \n",
    "print(\"Average marks:\", average) "
   ]
  },
  {
   "cell_type": "markdown",
   "id": "64689d31",
   "metadata": {},
   "source": [
    "Q 2: Using dictionary for storing student data "
   ]
  },
  {
   "cell_type": "code",
   "execution_count": 15,
   "id": "2e36092c",
   "metadata": {},
   "outputs": [
    {
     "name": "stdout",
     "output_type": "stream",
     "text": [
      "Student info: {'name': 'alice', 'age': 20, 'marks': 88}\n",
      "Student name: alice\n"
     ]
    }
   ],
   "source": [
    "# Program using dictionary \n",
    "student = {\"name\": \"alice\", \"age\": 20, \"marks\": 88} \n",
    "print(\"Student info:\", student) \n",
    "print(\"Student name:\", student[\"name\"]) "
   ]
  },
  {
   "cell_type": "markdown",
   "id": "0bbede1e",
   "metadata": {},
   "source": [
    "Q 3: Using set to store unique subjects"
   ]
  },
  {
   "cell_type": "code",
   "execution_count": 16,
   "id": "2d4aac5e",
   "metadata": {},
   "outputs": [
    {
     "name": "stdout",
     "output_type": "stream",
     "text": [
      "Unique subjects: {'English', 'Science', 'Math'}\n"
     ]
    }
   ],
   "source": [
    "# Program using set to remove duplicate values \n",
    "subjects = {\"Math\", \"English\", \"Science\", \"Math\", \"Science\"} \n",
    "print(\"Unique subjects:\", subjects) "
   ]
  }
 ],
 "metadata": {
  "kernelspec": {
   "display_name": "ashna",
   "language": "python",
   "name": "python3"
  },
  "language_info": {
   "codemirror_mode": {
    "name": "ipython",
    "version": 3
   },
   "file_extension": ".py",
   "mimetype": "text/x-python",
   "name": "python",
   "nbconvert_exporter": "python",
   "pygments_lexer": "ipython3",
   "version": "3.11.9"
  }
 },
 "nbformat": 4,
 "nbformat_minor": 5
}
