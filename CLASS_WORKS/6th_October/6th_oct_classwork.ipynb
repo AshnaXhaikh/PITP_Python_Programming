{
 "cells": [
  {
   "cell_type": "markdown",
   "id": "93d1b46c",
   "metadata": {},
   "source": [
    "## **PITP Class Work Quesitons** by **Ashna Imtiaz**"
   ]
  },
  {
   "cell_type": "markdown",
   "id": "b019245a",
   "metadata": {},
   "source": [
    "# **1. List Operations**"
   ]
  },
  {
   "cell_type": "markdown",
   "id": "dcc95520",
   "metadata": {},
   "source": [
    "Q 1: Create and print a list "
   ]
  },
  {
   "cell_type": "code",
   "execution_count": null,
   "id": "f312fc34",
   "metadata": {},
   "outputs": [],
   "source": [
    "# Program to create and display a list \n",
    "fruits = [\"apple\", \"banana\", \"cherry\"] \n",
    "print(\"List of fruits:\", fruits) "
   ]
  },
  {
   "cell_type": "markdown",
   "id": "f229cda8",
   "metadata": {},
   "source": [
    "Q 2: Add and remove elements from a list "
   ]
  },
  {
   "cell_type": "code",
   "execution_count": 1,
   "id": "6a1b131e",
   "metadata": {},
   "outputs": [
    {
     "name": "stdout",
     "output_type": "stream",
     "text": [
      "Updated list: ['apple', 'kiwi', 'orange']\n"
     ]
    }
   ],
   "source": [
    "#  Program to demonstrate list operations \n",
    "fruits = [\"apple\", \"mango\", \"kiwi\"] \n",
    "fruits.append(\"orange\")        \n",
    "fruits.remove(\"mango\")        \n",
    "print(\"Updated list:\", fruits) "
   ]
  },
  {
   "cell_type": "markdown",
   "id": "c63aa654",
   "metadata": {},
   "source": [
    "Q 3: Sort and reverse a list"
   ]
  },
  {
   "cell_type": "code",
   "execution_count": 2,
   "id": "0c89bbff",
   "metadata": {},
   "outputs": [
    {
     "name": "stdout",
     "output_type": "stream",
     "text": [
      "sorted list: [2, 2, 3, 5, 6, 8]\n"
     ]
    }
   ],
   "source": [
    "# program to sort and reverse a list\n",
    "nums = [3, 5, 6, 2, 8, 2]\n",
    "nums.sort()\n",
    "print(f\"sorted list: {nums}\")"
   ]
  },
  {
   "cell_type": "code",
   "execution_count": 3,
   "metadata": {},
   "outputs": [
    {
     "name": "stdout",
     "output_type": "stream",
     "text": [
      "reversed list: [8, 6, 5, 3, 2, 2]\n"
     ]
    }
   ],
   "source": [
    "nums.reverse()\n",
    "print(f\"reversed list: {nums}\")"
   ]
  },
  {
   "cell_type": "markdown",
   "id": "0575b30c",
   "metadata": {},
   "source": [
    "# **2. Slicing**"
   ]
  },
  {
   "cell_type": "markdown",
   "id": "1f006760",
   "metadata": {},
   "source": [
    "Q 1: Print part of a list using slicing"
   ]
  },
  {
   "cell_type": "code",
   "execution_count": 4,
   "metadata": {},
   "outputs": [
    {
     "name": "stdout",
     "output_type": "stream",
     "text": [
      "First three fruits: ['apple', 'banana', 'cherry']\n",
      "Last two fruits: ['kiwi', 'melon']\n"
     ]
    }
   ],
   "source": [
    "# Program to demonstrate list slicing \n",
    "fruits = [\"apple\", \"banana\", \"cherry\", \"orange\", \"kiwi\", \"melon\"] \n",
    "print(\"First three fruits:\", fruits[:3]) \n",
    "print(\"Last two fruits:\", fruits[-2:]) "
   ]
  },
  {
   "cell_type": "markdown",
   "id": "ea43e84c",
   "metadata": {},
   "source": [
    "Q 2: Slice list with step value "
   ]
  },
  {
   "cell_type": "code",
   "execution_count": 5,
   "id": "30b8c304",
   "metadata": {},
   "outputs": [
    {
     "name": "stdout",
     "output_type": "stream",
     "text": [
      "Every second number: [1, 3, 5, 7, 9]\n"
     ]
    }
   ],
   "source": [
    "# Program to slice with step \n",
    "numbers = [1, 2, 3, 4, 5, 6, 7, 8, 9] \n",
    "print(f\"Every second number: {numbers[::2]}\")"
   ]
  },
  {
   "cell_type": "markdown",
   "id": "fac39ef3",
   "metadata": {},
   "source": [
    "Q 3: Modify part of a list using slicing "
   ]
  },
  {
   "cell_type": "code",
   "execution_count": 6,
   "id": "bdf8afd7",
   "metadata": {},
   "outputs": [
    {
     "name": "stdout",
     "output_type": "stream",
     "text": [
      "Updated colors list: ['red', 'black', 'white', 'pink']\n"
     ]
    }
   ],
   "source": [
    "# Program to modify list using slicing \n",
    "colors = [\"red\", \"blue\", \"green\", \"pink\"] \n",
    "colors[1:3] = [\"black\", \"white\"] \n",
    "print(\"Updated colors list:\", colors) "
   ]
  },
  {
   "cell_type": "markdown",
   "id": "3c09baff",
   "metadata": {},
   "source": [
    "# **3. List Comprehensions**"
   ]
  },
  {
   "cell_type": "markdown",
   "id": "ce52177c",
   "metadata": {},
   "source": [
    "C.Q 1: Create a list of squares "
   ]
  },
  {
   "cell_type": "code",
   "execution_count": 7,
   "id": "69794ff4",
   "metadata": {},
   "outputs": [
    {
     "name": "stdout",
     "output_type": "stream",
     "text": [
      "List of squares: [1, 4, 9, 16, 25]\n"
     ]
    }
   ],
   "source": [
    "# Program to create list of squares using list comprehension \n",
    "\n",
    "squares = [x**2 for x in range(1, 6)] \n",
    "print(\"List of squares:\", squares) "
   ]
  },
  {
   "cell_type": "markdown",
   "id": "2807b7d1",
   "metadata": {},
   "source": [
    "Q 2: Filter even numbers from a list"
   ]
  },
  {
   "cell_type": "code",
   "execution_count": 8,
   "id": "4bc30b89",
   "metadata": {},
   "outputs": [
    {
     "name": "stdout",
     "output_type": "stream",
     "text": [
      "Even numbers: [2, 4, 6, 8]\n"
     ]
    }
   ],
   "source": [
    "# program to filter even numbers using list comprehension\n",
    "find_even = [x for x in [1, 2, 3, 4, 5, 6, 7, 8, 9] if x % 2 == 0]\n",
    "print(f\"Even numbers: {find_even}\")"
   ]
  },
  {
   "cell_type": "markdown",
   "id": "39aa5a61",
   "metadata": {},
   "source": [
    "Q 3: Convert all strings to uppercase "
   ]
  },
  {
   "cell_type": "code",
   "execution_count": 9,
   "id": "060b70db",
   "metadata": {},
   "outputs": [
    {
     "name": "stdout",
     "output_type": "stream",
     "text": [
      "Uppercase fruits: ['APRICOT', 'STRAWBERRY', 'CHERRY']\n"
     ]
    }
   ],
   "source": [
    "# Program to convert list of strings to uppercase\n",
    " \n",
    "fruits = [\"apricot\", \"strawberry\", \"cherry\"] \n",
    "upper_fruits = [fruit.upper() for fruit in fruits] \n",
    "print(\"Uppercase fruits:\", upper_fruits) "
   ]
  },
  {
   "cell_type": "markdown",
   "id": "a99cc3de",
   "metadata": {},
   "source": [
    "# **4. Tuple Packing & Unpacking**"
   ]
  },
  {
   "cell_type": "markdown",
   "id": "93f9820c",
   "metadata": {},
   "source": [
    "C.Q 1: Create and unpack a tuple "
   ]
  },
  {
   "cell_type": "code",
   "execution_count": 10,
   "id": "adba1526",
   "metadata": {},
   "outputs": [
    {
     "name": "stdout",
     "output_type": "stream",
     "text": [
      "Name: Ashna\n",
      "Age: 18\n",
      "City: Mpk\n"
     ]
    }
   ],
   "source": [
    "\n",
    "# Program to demonstrate tuple packing and unpacking \n",
    "person = (\"Ashna\", 18, \"Mpk\")   # packing \n",
    "name, age, city = person          \n",
    "print(\"Name:\", name) \n",
    "print(\"Age:\", age) \n",
    "print(\"City:\", city) "
   ]
  },
  {
   "cell_type": "markdown",
   "id": "d1343653",
   "metadata": {},
   "source": [
    "Q 2: Unpack partial values using * operator "
   ]
  },
  {
   "cell_type": "code",
   "execution_count": 11,
   "id": "f2bfbca3",
   "metadata": {},
   "outputs": [
    {
     "name": "stdout",
     "output_type": "stream",
     "text": [
      "First: 10\n",
      "Middle: [20, 30, 40]\n",
      "Last: 50\n"
     ]
    }
   ],
   "source": [
    "\n",
    "# Program to unpack tuple with * \n",
    "numbers = (10, 20, 30, 40, 50) \n",
    "first, *middle, last = numbers \n",
    "print(\"First:\", first) \n",
    "print(\"Middle:\", middle) \n",
    "print(\"Last:\", last) "
   ]
  },
  {
   "cell_type": "markdown",
   "id": "142f91b2",
   "metadata": {},
   "source": [
    "Q 3: Swap two variables using tuple unpacking "
   ]
  },
  {
   "cell_type": "code",
   "execution_count": 12,
   "id": "f4429e1c",
   "metadata": {},
   "outputs": [
    {
     "name": "stdout",
     "output_type": "stream",
     "text": [
      "After swapping: a = 10, b = 5\n"
     ]
    }
   ],
   "source": [
    "\n",
    "# Program to swap values using tuple unpacking \n",
    "a = 5 \n",
    "b = 10 \n",
    "a, b = b, a \n",
    "print(f\"After swapping: a = {a}, b = {b}\") "
   ]
  },
  {
   "cell_type": "markdown",
   "id": "8f666ad2",
   "metadata": {},
   "source": [
    "# **5. Immutable vs Mutable**"
   ]
  },
  {
   "cell_type": "markdown",
   "id": "a8f4d96b",
   "metadata": {},
   "source": [
    "Q 1: Show list mutability"
   ]
  },
  {
   "cell_type": "code",
   "execution_count": 13,
   "id": "29b8763c",
   "metadata": {},
   "outputs": [
    {
     "name": "stdout",
     "output_type": "stream",
     "text": [
      "Modified list: [1, 100, 3]\n"
     ]
    }
   ],
   "source": [
    " # Program to show list is mutable \n",
    "numbers = [1, 2, 3] \n",
    "numbers[1] = 100 \n",
    "print(\"Modified list:\", numbers) "
   ]
  },
  {
   "cell_type": "markdown",
   "id": "84d5c64b",
   "metadata": {},
   "source": [
    "Q 2: Show tuple immutability "
   ]
  },
  {
   "cell_type": "code",
   "execution_count": 14,
   "id": "11821370",
   "metadata": {},
   "outputs": [
    {
     "name": "stdout",
     "output_type": "stream",
     "text": [
      "Tuples cannot be changed once created!\n"
     ]
    }
   ],
   "source": [
    "\n",
    "# Program to show tuple is immutable \n",
    "fruits = (\"apple\", \"orange\", \"grapes\") \n",
    "# fruits[0] = \"mango\"  # This will cause an error \n",
    "print(\"Tuples cannot be changed once created!\") "
   ]
  },
  {
   "cell_type": "markdown",
   "id": "35967955",
   "metadata": {},
   "source": [
    "Q 3: Compare list and tuple behavior "
   ]
  },
  {
   "cell_type": "code",
   "execution_count": 15,
   "id": "5ca3afad",
   "metadata": {},
   "outputs": [
    {
     "name": "stdout",
     "output_type": "stream",
     "text": [
      "Modified list: [10, 200, 30]\n",
      "Tuple remains unchanged: (10, 20, 30)\n"
     ]
    }
   ],
   "source": [
    "\n",
    "# Program comparing list (mutable) and tuple (immutable) \n",
    "list_data = [10, 20, 30] \n",
    "tuple_data = (10, 20, 30) \n",
    "list_data[1] = 200 \n",
    "print(\"Modified list:\", list_data) \n",
    "# tuple_data[1] = 200  #Uncommenting this will raise an error \n",
    "print(\"Tuple remains unchanged:\", tuple_data) "
   ]
  },
  {
   "cell_type": "markdown",
   "id": "0ca3f44d",
   "metadata": {},
   "source": []
  },
  {
   "cell_type": "markdown",
   "id": "04f0251d",
   "metadata": {},
   "source": []
  }
 ],
 "metadata": {
  "kernelspec": {
   "display_name": "ashna",
   "language": "python",
   "name": "python3"
  },
  "language_info": {
   "codemirror_mode": {
    "name": "ipython",
    "version": 3
   },
   "file_extension": ".py",
   "mimetype": "text/x-python",
   "name": "python",
   "nbconvert_exporter": "python",
   "pygments_lexer": "ipython3",
   "version": "3.11.9"
  }
 },
 "nbformat": 4,
 "nbformat_minor": 5
}
