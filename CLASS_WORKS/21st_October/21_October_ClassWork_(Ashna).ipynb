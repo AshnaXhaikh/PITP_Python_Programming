{
 "cells": [
  {
   "cell_type": "markdown",
   "id": "8fd9c321",
   "metadata": {},
   "source": [
    "## **PITP Class Work (21-10-2025)**"
   ]
  },
  {
   "cell_type": "markdown",
   "id": "9cbe70ea",
   "metadata": {},
   "source": [
    "### **Topic 1: Reading & Writing Text Files**"
   ]
  },
  {
   "cell_type": "markdown",
   "id": "fa16bfe2",
   "metadata": {},
   "source": [
    "Program 1: Write and Read from a Text File"
   ]
  },
  {
   "cell_type": "code",
   "execution_count": 2,
   "id": "e4cb3de0",
   "metadata": {},
   "outputs": [],
   "source": [
    "file = open(\"info.txt\", \"w\")\n",
    "\n",
    "# Step 2: Write some lines \n",
    "file.write(\"Python makes file handling simple.\\n\") \n",
    "file.write(\"This is a classwork example.\\n\") \n",
    "file.write(\"We are learning reading and writing files.\\n\") \n",
    "file.close()"
   ]
  },
  {
   "cell_type": "code",
   "execution_count": 3,
   "id": "0244198f",
   "metadata": {},
   "outputs": [
    {
     "name": "stdout",
     "output_type": "stream",
     "text": [
      "File Content:\n",
      "\n",
      "Python makes file handling simple.\n",
      "This is a classwork example.\n",
      "We are learning reading and writing files.\n",
      "\n"
     ]
    }
   ],
   "source": [
    "# Step 3: Read the file content \n",
    "file = open(\"info.txt\", \"r\") \n",
    "print(\"File Content:\\n\") \n",
    "print(file.read()) \n",
    "file.close() "
   ]
  },
  {
   "cell_type": "markdown",
   "id": "fae86691",
   "metadata": {},
   "source": [
    "### **Program 2: Count Lines, Words, and Characters**"
   ]
  },
  {
   "cell_type": "code",
   "execution_count": 4,
   "id": "df13b184",
   "metadata": {},
   "outputs": [],
   "source": [
    "file = open(\"story.txt\", \"w\") \n",
    "file.write(\"Python is powerful.\\n\") \n",
    "file.write(\"File handling is easy.\\n\") \n",
    "file.write(\"Let's count lines and words!\\n\") \n",
    "file.close() \n"
   ]
  },
  {
   "cell_type": "code",
   "execution_count": 6,
   "id": "14272a56",
   "metadata": {},
   "outputs": [],
   "source": [
    "file = open(\"story.txt\", \"r\")\n",
    "text = file.read()\n",
    "lines = text.splitlines()\n",
    "words = text.split()\n",
    "chars = len(text)\n",
    "file.close()\n"
   ]
  },
  {
   "cell_type": "code",
   "execution_count": 9,
   "id": "5cad3e59",
   "metadata": {},
   "outputs": [
    {
     "data": {
      "text/plain": [
       "(['Python is powerful.',\n",
       "  'File handling is easy.',\n",
       "  \"Let's count lines and words!\"],\n",
       " ['Python',\n",
       "  'is',\n",
       "  'powerful.',\n",
       "  'File',\n",
       "  'handling',\n",
       "  'is',\n",
       "  'easy.',\n",
       "  \"Let's\",\n",
       "  'count',\n",
       "  'lines',\n",
       "  'and',\n",
       "  'words!'],\n",
       " 72)"
      ]
     },
     "execution_count": 9,
     "metadata": {},
     "output_type": "execute_result"
    }
   ],
   "source": [
    "lines, words, chars"
   ]
  },
  {
   "cell_type": "code",
   "execution_count": 10,
   "id": "4620428d",
   "metadata": {},
   "outputs": [
    {
     "name": "stdout",
     "output_type": "stream",
     "text": [
      "Total Lines: 3\n",
      "Total Words: 12\n",
      "Total Characters: 72\n"
     ]
    }
   ],
   "source": [
    "print(\"Total Lines:\", len(lines)) \n",
    "print(\"Total Words:\", len(words)) \n",
    "print(\"Total Characters:\", chars) \n",
    "# Logic: Use .splitlines() and .split() to count data. "
   ]
  },
  {
   "cell_type": "markdown",
   "id": "879f9dac",
   "metadata": {},
   "source": [
    "### **Program 3: Copy Content from One File to Another**"
   ]
  },
  {
   "cell_type": "code",
   "execution_count": 11,
   "id": "a3adbf3c",
   "metadata": {},
   "outputs": [
    {
     "name": "stdout",
     "output_type": "stream",
     "text": [
      "File copied successfully!\n"
     ]
    }
   ],
   "source": [
    "\n",
    "# Program 3: Copy content from one file into another \n",
    "# Create a file with some text \n",
    "with open(\"source.txt\", \"w\") as f: \n",
    "    f.write(\"This is the original file.\\n\") \n",
    "    f.write(\"It will be copied to another file.\") \n",
    "# Copy the content \n",
    "with open(\"source.txt\", \"r\") as src:\n",
    "    content = src.read()\n",
    "\n",
    "with open(\"copy.txt\", \"w\") as dest:\n",
    "    dest.write(content)\n",
    "\n",
    "print(\"File copied successfully!\")"
   ]
  },
  {
   "cell_type": "markdown",
   "id": "6b19898d",
   "metadata": {},
   "source": [
    "### **Topic 2: Working with CSV Files**"
   ]
  },
  {
   "cell_type": "markdown",
   "id": "d85c7ff2",
   "metadata": {},
   "source": [
    "Program 1: Create and Read CSV File"
   ]
  },
  {
   "cell_type": "code",
   "execution_count": 12,
   "id": "63df9149",
   "metadata": {},
   "outputs": [
    {
     "name": "stdout",
     "output_type": "stream",
     "text": [
      "['Name', 'Age', 'Grade']\n",
      "['Alice', '14', 'A']\n",
      "['Sara', '15', 'B']\n",
      "['Zara', '18', 'A']\n"
     ]
    }
   ],
   "source": [
    "import csv\n",
    "\n",
    "# create a csv file with headers and rows\n",
    "with open(\"data.csv\", \"w\", newline=\"\") as file:\n",
    "    writer = csv.writer(file)\n",
    "    writer.writerow([\"Name\", \"Age\", \"Grade\"])\n",
    "    writer.writerow([\"Alice\", 14, \"A\"])\n",
    "    writer.writerow([\"Sara\", 15, \"B\"])\n",
    "    writer.writerow([\"Zara\", 18, \"A\"])\n",
    "\n",
    "# read and display all data from the csv file\n",
    "with open(\"data.csv\", \"r\") as file:\n",
    "    reader = csv.reader(file)\n",
    "    for row in reader:\n",
    "        print(row)\n",
    "    "
   ]
  },
  {
   "cell_type": "markdown",
   "id": "6163b846",
   "metadata": {},
   "source": [
    "Logic: Use csv.writer to create data, csv.reader to read it. "
   ]
  },
  {
   "cell_type": "markdown",
   "id": "d51032f0",
   "metadata": {},
   "source": [
    "Program 2: Read CSV and Filter Data"
   ]
  },
  {
   "cell_type": "code",
   "execution_count": 13,
   "id": "26a7a96d",
   "metadata": {},
   "outputs": [
    {
     "name": "stdout",
     "output_type": "stream",
     "text": [
      "Students with Grade A:\n",
      "Alice\n",
      "Zara\n"
     ]
    }
   ],
   "source": [
    "# read csv and print only students with grade A\n",
    "import csv\n",
    "\n",
    "with open(\"data.csv\", \"r\") as file:\n",
    "    reader = csv.reader(file)\n",
    "    next(reader) # skip header\n",
    "    print(\"Students with Grade A:\")\n",
    "    for row in reader:\n",
    "        if row[2] == \"A\":\n",
    "            print(row[0]) # print only the name\n",
    "            "
   ]
  },
  {
   "cell_type": "markdown",
   "id": "d2e35f18",
   "metadata": {},
   "source": [
    "Logic: Skip header → Check condition → Print filtered rows."
   ]
  },
  {
   "cell_type": "markdown",
   "id": "1b96dda9",
   "metadata": {},
   "source": [
    "Program 2: Add a New Row into an Existing CSV"
   ]
  },
  {
   "cell_type": "code",
   "execution_count": 14,
   "id": "267ccd05",
   "metadata": {},
   "outputs": [
    {
     "name": "stdout",
     "output_type": "stream",
     "text": [
      "New student added successfully!\n"
     ]
    }
   ],
   "source": [
    "# append a new student record\n",
    "import csv\n",
    "# open in append mode (\"a\") to add new data\n",
    "with open(\"data.csv\", \"a\", newline=\"\") as file:\n",
    "    writer = csv.writer(file)\n",
    "    writer.writerow([\"Hina\", 18, \"B\"])\n",
    "\n",
    "print(\"New student added successfully!\")"
   ]
  },
  {
   "cell_type": "markdown",
   "id": "5a30bdb7",
   "metadata": {},
   "source": [
    "Logic: Append new data without overwriting the file. "
   ]
  },
  {
   "cell_type": "markdown",
   "id": "a5f97e2c",
   "metadata": {},
   "source": [
    "### **Topic 3: Context Managers (with statement)**\n"
   ]
  },
  {
   "cell_type": "markdown",
   "id": "7260c573",
   "metadata": {},
   "source": [
    "Program 1: Read and Write using with statement."
   ]
  },
  {
   "cell_type": "code",
   "execution_count": 15,
   "id": "f30c76ee",
   "metadata": {},
   "outputs": [
    {
     "name": "stdout",
     "output_type": "stream",
     "text": [
      "Using 'with' statement for file handling.\n",
      "It automatically manages file closing. \n",
      "\n"
     ]
    }
   ],
   "source": [
    "with open(\"notes.txt\", \"w\") as file:\n",
    "    file.write(\"Using 'with' statement for file handling.\\n\")\n",
    "    file.write(\"It automatically manages file closing. \\n\")\n",
    "\n",
    "with open(\"notes.txt\", \"r\") as file:\n",
    "    print(file.read())\n"
   ]
  },
  {
   "cell_type": "markdown",
   "id": "13ca15af",
   "metadata": {},
   "source": [
    "Logic: with automatically closes the file, even if an error occurs. "
   ]
  },
  {
   "cell_type": "markdown",
   "id": "1ff64ddb",
   "metadata": {},
   "source": [
    "Program 2: Copy File Using with"
   ]
  },
  {
   "cell_type": "code",
   "execution_count": 16,
   "id": "2581c329",
   "metadata": {},
   "outputs": [
    {
     "name": "stdout",
     "output_type": "stream",
     "text": [
      "File copied using context manager!\n"
     ]
    }
   ],
   "source": [
    "with open(\"source.txt\", \"w\") as f:\n",
    "    f.write(\"Learning context managers in Python.\\n\")\n",
    "\n",
    "# Read and write using with statement\n",
    "with open(\"source.txt\", \"r\") as src, open(\"backup.txt\", \"w\") as dest:\n",
    "    for line in src:\n",
    "        dest.write(line)\n",
    "print(\"File copied using context manager!\")"
   ]
  },
  {
   "cell_type": "markdown",
   "id": "24cbca1a",
   "metadata": {},
   "source": [
    "Logic: Open multiple files in one with statement."
   ]
  },
  {
   "cell_type": "markdown",
   "id": "9b5d289d",
   "metadata": {},
   "source": [
    "Program 3: Handle Missing File with `with` and `try-except`."
   ]
  },
  {
   "cell_type": "code",
   "execution_count": 17,
   "id": "b01d0aba",
   "metadata": {},
   "outputs": [
    {
     "name": "stdout",
     "output_type": "stream",
     "text": [
      "Error: The file does not exist!\n"
     ]
    }
   ],
   "source": [
    "# handle error if file does not exist\n",
    "\n",
    "try:\n",
    "    with open(\"not_found.txt\", \"r\") as file:\n",
    "        print(file.read())\n",
    "except FileNotFoundError:\n",
    "    print(\"Error: The file does not exist!\")\n",
    "    "
   ]
  }
 ],
 "metadata": {
  "kernelspec": {
   "display_name": "ashna",
   "language": "python",
   "name": "python3"
  },
  "language_info": {
   "codemirror_mode": {
    "name": "ipython",
    "version": 3
   },
   "file_extension": ".py",
   "mimetype": "text/x-python",
   "name": "python",
   "nbconvert_exporter": "python",
   "pygments_lexer": "ipython3",
   "version": "3.11.9"
  }
 },
 "nbformat": 4,
 "nbformat_minor": 5
}
