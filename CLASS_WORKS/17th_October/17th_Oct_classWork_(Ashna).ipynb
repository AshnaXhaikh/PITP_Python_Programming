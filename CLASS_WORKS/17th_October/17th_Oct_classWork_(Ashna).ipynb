{
 "cells": [
  {
   "cell_type": "markdown",
   "id": "f8182e95",
   "metadata": {},
   "source": [
    "## **The University Of Mirpurkhas PITP Class Work (17-10-2025) by Ashna Imtiaz**"
   ]
  },
  {
   "cell_type": "markdown",
   "id": "252f7819",
   "metadata": {},
   "source": [
    "#### **Topic 1: Instance Methods**"
   ]
  },
  {
   "cell_type": "markdown",
   "id": "47bf32da",
   "metadata": {},
   "source": [
    "C.Q 1: Simple Instance Method \n",
    "\n",
    "> Program showing instance method \n",
    "\n",
    "> Instance methods use 'self' and work with object data "
   ]
  },
  {
   "cell_type": "code",
   "execution_count": 2,
   "id": "80d29dce",
   "metadata": {},
   "outputs": [
    {
     "name": "stdout",
     "output_type": "stream",
     "text": [
      "Student name: Ashna\n"
     ]
    }
   ],
   "source": [
    "class Student: \n",
    "    def __init__(self, name): \n",
    "        self.name = name \n",
    "    def display(self):   # instance method \n",
    "        print(\"Student name:\", self.name) \n",
    "\n",
    "s1 = Student(\"Ashna\") \n",
    "s1.display() "
   ]
  },
  {
   "cell_type": "markdown",
   "id": "40d53973",
   "metadata": {},
   "source": [
    "C.Q 2: Instance Method to Perform Action \n",
    "> Program to calculate area using instance method "
   ]
  },
  {
   "cell_type": "code",
   "execution_count": 4,
   "id": "a9bb732f",
   "metadata": {},
   "outputs": [
    {
     "name": "stdout",
     "output_type": "stream",
     "text": [
      "Area of rectangle:, 15cm^2\n"
     ]
    }
   ],
   "source": [
    "class Rectangle: \n",
    "    def __init__(self, length, width): \n",
    "        self.length = length \n",
    "        self.width = width \n",
    "    def area(self):   # instance method\n",
    "        return self.length * self.width \n",
    "    \n",
    "rect = Rectangle(5, 3) \n",
    "print(f\"Area of rectangle:, {rect.area()}cm^2\")  "
   ]
  },
  {
   "cell_type": "markdown",
   "id": "3957a0df",
   "metadata": {},
   "source": [
    "C.Q 3: Modify Object Data Using Instance Method \n",
    "> Program to update attribute using instance method "
   ]
  },
  {
   "cell_type": "code",
   "execution_count": 5,
   "id": "bc743c2e",
   "metadata": {},
   "outputs": [
    {
     "name": "stdout",
     "output_type": "stream",
     "text": [
      "Old Salary: 50000\n",
      "Updated Salary: 60000\n"
     ]
    }
   ],
   "source": [
    "\n",
    "class Employee: \n",
    "    def __init__(self, name, salary): \n",
    "        self.name = name \n",
    "        self.salary = salary \n",
    "    def update_salary(self, new_salary): \n",
    "        self.salary = new_salary \n",
    "        \n",
    "emp = Employee(\"Sara\", 50000) \n",
    "print(\"Old Salary:\", emp.salary) \n",
    "emp.update_salary(60000) \n",
    "print(\"Updated Salary:\", emp.salary) "
   ]
  },
  {
   "cell_type": "markdown",
   "id": "18e20b14",
   "metadata": {},
   "source": [
    "### **Topic 2: Class Methods**\n",
    "\n",
    "C.Q 1: Basic Class Method Example \n",
    "> Program showing a class method \n",
    "\n",
    "> Class methods use @classmethod and 'cls' as first parameter \n"
   ]
  },
  {
   "cell_type": "code",
   "execution_count": 1,
   "id": "26b848e7",
   "metadata": {},
   "outputs": [
    {
     "name": "stdout",
     "output_type": "stream",
     "text": [
      "School Name: The Smart School\n",
      "College Name: Ibn e Rushd\n"
     ]
    }
   ],
   "source": [
    "class School:\n",
    "    schl_name = \"The Smart School\"\n",
    "    clg_name = \"Ibn e Rushd\"\n",
    "\n",
    "    @classmethod\n",
    "    def show_school(cls):\n",
    "        print(f\"School Name: {cls.schl_name}\")\n",
    "        print(f\"College Name: {cls.clg_name}\")\n",
    "\n",
    "School.show_school()"
   ]
  },
  {
   "cell_type": "markdown",
   "id": "e952fc19",
   "metadata": {},
   "source": [
    "C.Q 2: Modify Class Variable Using Class Method \n",
    "> Program to modify class variable with class method \n",
    " "
   ]
  },
  {
   "cell_type": "code",
   "execution_count": 9,
   "id": "1c210321",
   "metadata": {},
   "outputs": [
    {
     "name": "stdout",
     "output_type": "stream",
     "text": [
      "Before: ABC Pvt Ltd\n",
      "After: XYZ Corporation\n"
     ]
    }
   ],
   "source": [
    "class Employee:\n",
    "    company = \"ABC Pvt Ltd\"\n",
    "\n",
    "    @classmethod\n",
    "    def change_company(cls, new_name):\n",
    "        cls.company = new_name\n",
    "\n",
    "print(f\"Before: {Employee.company}\")\n",
    "Employee.change_company(\"XYZ Corporation\")\n",
    "print(f\"After: {Employee.company}\")"
   ]
  },
  {
   "cell_type": "markdown",
   "id": "b0cbbdf9",
   "metadata": {},
   "source": [
    "C.Q 3: Class Method and Instance Together \n",
    "> Program using both instance and class methods "
   ]
  },
  {
   "cell_type": "code",
   "execution_count": 10,
   "id": "f729c5dc",
   "metadata": {},
   "outputs": [
    {
     "name": "stdout",
     "output_type": "stream",
     "text": [
      "Name: Ashna, School: Askhia School\n",
      "Name: Ashna, School: Now I study in College\n"
     ]
    }
   ],
   "source": [
    "class Student: \n",
    "    school = \"Askhia School\" \n",
    "    def __init__(self, name): \n",
    "        self.name = name \n",
    "        \n",
    "    @classmethod \n",
    "    def change_school(cls, new_school): \n",
    "        cls.school = new_school\n",
    "\n",
    "    def info(self):\n",
    "        print(f\"Name: {self.name}, School: {self.school}\")\n",
    "\n",
    "s1 = Student(\"Ashna\")\n",
    "s1.info()\n",
    "s1.change_school(\"Now I study in College\")\n",
    "s1.info()\n"
   ]
  },
  {
   "cell_type": "code",
   "execution_count": 11,
   "id": "c0845031",
   "metadata": {},
   "outputs": [
    {
     "name": "stdout",
     "output_type": "stream",
     "text": [
      "Name: Sara, School: Greenwood High\n"
     ]
    }
   ],
   "source": [
    "Student.change_school(\"Greenwood High\")\n",
    "s2 = Student(\"Sara\")\n",
    "s2.info()"
   ]
  },
  {
   "cell_type": "markdown",
   "id": "7b952dfb",
   "metadata": {},
   "source": [
    "# **Topic 3: Static Methods**"
   ]
  },
  {
   "cell_type": "markdown",
   "id": "b9570d23",
   "metadata": {},
   "source": [
    "C.Q 1: Define and Call a Static Method \n",
    "> Program showing static method \n",
    "\n",
    "> Static methods do not use self or cls "
   ]
  },
  {
   "cell_type": "code",
   "execution_count": 12,
   "id": "8030e32b",
   "metadata": {},
   "outputs": [
    {
     "name": "stdout",
     "output_type": "stream",
     "text": [
      "Sum: 8\n"
     ]
    }
   ],
   "source": [
    "\n",
    "class MathUtils: \n",
    "    @staticmethod \n",
    "    def add(a, b): \n",
    "        return a + b \n",
    "\n",
    "print(\"Sum:\", MathUtils.add(5, 3)) "
   ]
  },
  {
   "cell_type": "markdown",
   "id": "3b495452",
   "metadata": {},
   "source": [
    "C.Q 2: Static Method Inside a Class \n",
    "> Program to check even or odd using static method"
   ]
  },
  {
   "cell_type": "code",
   "execution_count": 13,
   "id": "fbf10156",
   "metadata": {},
   "outputs": [
    {
     "name": "stdout",
     "output_type": "stream",
     "text": [
      "Is 6 even? True\n",
      "Is 7 even? False\n"
     ]
    }
   ],
   "source": [
    " \n",
    "class NumberCheck: \n",
    "    @staticmethod \n",
    "    def is_even(num): \n",
    "        return num % 2 == 0\n",
    "\n",
    "print(\"Is 6 even?\", NumberCheck.is_even(6)) \n",
    "print(\"Is 7 even?\", NumberCheck.is_even(7))  "
   ]
  },
  {
   "cell_type": "markdown",
   "id": "7444e343",
   "metadata": {},
   "source": [
    "C.Q 3: Static Method with Instance \n",
    "> Program calling static method through an object"
   ]
  },
  {
   "cell_type": "code",
   "execution_count": 14,
   "id": "fe0b245a",
   "metadata": {},
   "outputs": [
    {
     "name": "stdout",
     "output_type": "stream",
     "text": [
      "Multiplication: 12\n"
     ]
    }
   ],
   "source": [
    "class Calculator: \n",
    "    @staticmethod \n",
    "    def multiply(a, b): \n",
    "        return a * b \n",
    "calc = Calculator() \n",
    "print(\"Multiplication:\", calc.multiply(4, 3)) "
   ]
  },
  {
   "cell_type": "markdown",
   "id": "6785d056",
   "metadata": {},
   "source": [
    "#### **Topic 4: __init__ Method** "
   ]
  },
  {
   "cell_type": "markdown",
   "id": "bf5b8ca7",
   "metadata": {},
   "source": [
    "C.Q 1: Basic init Example \n",
    "> Program showing use of __init__ method \n",
    "> __init__ is automatically called when an object is created"
   ]
  },
  {
   "cell_type": "code",
   "execution_count": 12,
   "id": "297aeeaa",
   "metadata": {},
   "outputs": [
    {
     "name": "stdout",
     "output_type": "stream",
     "text": [
      "Name: Ali\n",
      "Roll Number: 101\n"
     ]
    }
   ],
   "source": [
    " \n",
    "class Student: \n",
    "    def __init__(self, name, roll): \n",
    "        self.name = name \n",
    "        self.roll = roll \n",
    "        \n",
    "s1 = Student(\"Ali\", 101) \n",
    "print(\"Name:\", s1.name) \n",
    "print(\"Roll Number:\", s1.roll) "
   ]
  },
  {
   "cell_type": "markdown",
   "id": "00e554dd",
   "metadata": {},
   "source": [
    "C.Q 2: init Method with Default Value \n",
    "> Program with default values in __init__"
   ]
  },
  {
   "cell_type": "code",
   "execution_count": null,
   "id": "b564608b",
   "metadata": {},
   "outputs": [
    {
     "name": "stdout",
     "output_type": "stream",
     "text": [
      "Brand: HP\n",
      "RAM: 8GB\n"
     ]
    }
   ],
   "source": [
    "class Laptop: \n",
    "    def __init__(self, brand, ram=\"8GB\"): \n",
    "        self.brand = brand\n",
    "        self.ram = ram \n",
    "        \n",
    "lap = Laptop(\"HP\") \n",
    "print(\"Brand:\", lap.brand) \n",
    "print(\"RAM:\", lap.ram) "
   ]
  },
  {
   "cell_type": "markdown",
   "id": "9a7502ee",
   "metadata": {},
   "source": [
    "C.Q 3: Initialize Object Data Through init\n",
    "> Program to initialize employee data using __init__ "
   ]
  },
  {
   "cell_type": "code",
   "execution_count": 19,
   "id": "7c5b6a01",
   "metadata": {},
   "outputs": [
    {
     "name": "stdout",
     "output_type": "stream",
     "text": [
      "Name: Sara, Department: HR, Salary: 75000\n"
     ]
    }
   ],
   "source": [
    "class Employee: \n",
    "    def __init__(self, name, dept, salary): \n",
    "        self.name = name \n",
    "        self.dept = dept \n",
    "        self.salary = salary \n",
    "\n",
    "    def show_info(self):\n",
    "        print(f\"Name: {self.name}, Department: {self.dept}, Salary: {self.salary}\")\n",
    "\n",
    "emp = Employee(\"Sara\", \"HR\", 75000) \n",
    "emp.show_info() "
   ]
  },
  {
   "cell_type": "markdown",
   "id": "455ad3f0",
   "metadata": {},
   "source": [
    "### **Topic 5: Property Decorators (@property)**"
   ]
  },
  {
   "cell_type": "markdown",
   "id": "7256a5db",
   "metadata": {},
   "source": [
    "C.Q 1: Basic Property Example \n",
    "> Program using @property to access a method like an attribute"
   ]
  },
  {
   "cell_type": "code",
   "execution_count": 14,
   "id": "5cd86244",
   "metadata": {},
   "outputs": [
    {
     "name": "stdout",
     "output_type": "stream",
     "text": [
      "Area of circle: 78.5 cm^2\n"
     ]
    }
   ],
   "source": [
    "class Circle: \n",
    "    def __init__(self, radius): \n",
    "        self.radius = radius \n",
    "\n",
    "    @property \n",
    "    def area(self): \n",
    "        return 3.14 * (self.radius ** 2) \n",
    "    \n",
    "c = Circle(5) \n",
    "print(\"Area of circle:\", c.area, 'cm^2') "
   ]
  },
  {
   "cell_type": "markdown",
   "id": "b0d84e7f",
   "metadata": {},
   "source": [
    "C.Q 2: Getter and Setter with Property \n",
    "> Program showing getter and setter using property "
   ]
  },
  {
   "cell_type": "code",
   "execution_count": 20,
   "id": "07839ec7",
   "metadata": {},
   "outputs": [
    {
     "name": "stdout",
     "output_type": "stream",
     "text": [
      "Name: Ali\n",
      "Updated Name: Sara\n"
     ]
    }
   ],
   "source": [
    "\n",
    "class Person: \n",
    "    def __init__(self, name): \n",
    "        self._name = name \n",
    "\n",
    "    @property \n",
    "    def name(self): \n",
    "        return self._name \n",
    "\n",
    "    @name.setter \n",
    "    def name(self, value): \n",
    "        self._name = value \n",
    "\n",
    "p = Person(\"Ali\") \n",
    "print(\"Name:\", p.name) \n",
    "p.name = \"Sara\" \n",
    "print(\"Updated Name:\", p.name) "
   ]
  },
  {
   "cell_type": "markdown",
   "id": "19b0a019",
   "metadata": {},
   "source": [
    "C.Q 3: Property to Control Access \n",
    "> Program to restrict invalid values using property "
   ]
  },
  {
   "cell_type": "code",
   "execution_count": 16,
   "id": "b857b8c0",
   "metadata": {},
   "outputs": [
    {
     "name": "stdout",
     "output_type": "stream",
     "text": [
      "Marks: 85\n",
      "Updated Marks: 95\n"
     ]
    }
   ],
   "source": [
    "class Student:\n",
    "    def __init__(self, marks):\n",
    "        self._marks = marks\n",
    "\n",
    "    @property\n",
    "    def marks(self):\n",
    "        return self._marks\n",
    "    \n",
    "    @marks.setter\n",
    "    def marks(self, value):\n",
    "        if 0 <= value <= 100:\n",
    "            self._marks = value\n",
    "        else:\n",
    "            raise ValueError(\"Invalid marks.\")\n",
    "\n",
    "s = Student(85) \n",
    "print(\"Marks:\", s.marks) \n",
    "# s.marks = 110  # invalid \n",
    "s.marks = 95   # valid \n",
    "print(\"Updated Marks:\", s.marks) "
   ]
  }
 ],
 "metadata": {
  "kernelspec": {
   "display_name": "ashna",
   "language": "python",
   "name": "python3"
  },
  "language_info": {
   "codemirror_mode": {
    "name": "ipython",
    "version": 3
   },
   "file_extension": ".py",
   "mimetype": "text/x-python",
   "name": "python",
   "nbconvert_exporter": "python",
   "pygments_lexer": "ipython3",
   "version": "3.11.9"
  }
 },
 "nbformat": 4,
 "nbformat_minor": 5
}
