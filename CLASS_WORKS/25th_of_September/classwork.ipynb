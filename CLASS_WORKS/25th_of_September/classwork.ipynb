{
 "cells": [
  {
   "cell_type": "markdown",
   "id": "7b389f7c",
   "metadata": {},
   "source": [
    "# **1. Variables**"
   ]
  },
  {
   "cell_type": "code",
   "execution_count": 1,
   "id": "eb2424ce",
   "metadata": {},
   "outputs": [
    {
     "name": "stdout",
     "output_type": "stream",
     "text": [
      "Ashna\n"
     ]
    }
   ],
   "source": [
    "# Program to store a name in variable and print \n",
    "name = \"Ashna\" \n",
    "print(name) "
   ]
  },
  {
   "cell_type": "code",
   "execution_count": 2,
   "id": "5efa8ec1",
   "metadata": {},
   "outputs": [
    {
     "name": "stdout",
     "output_type": "stream",
     "text": [
      "My name is Ashna and I am 18 years old.\n"
     ]
    }
   ],
   "source": [
    "# C.Q 2: Store your age in a variable age and print: My name is Ali and I am 20 years old. \n",
    "# Program to display name and age \n",
    "name = \"Ashna\" \n",
    "age = 18 \n",
    "print(\"My name is\", name, \"and I am\", age, \"years old.\") "
   ]
  },
  {
   "cell_type": "code",
   "execution_count": 3,
   "id": "ec67801d",
   "metadata": {},
   "outputs": [
    {
     "name": "stdout",
     "output_type": "stream",
     "text": [
      "a = 10\n",
      "b = 5\n"
     ]
    }
   ],
   "source": [
    "# C.Q 3: Swap values of two variables a = 5, b = 10 without retyping. \n",
    "# Program to swap variables \n",
    "a = 5 \n",
    "b = 10 \n",
    "a, b = b, a \n",
    "print(\"a =\", a) \n",
    "print(\"b =\", b) "
   ]
  },
  {
   "cell_type": "markdown",
   "id": "cc69ef3e",
   "metadata": {},
   "source": [
    "# **2. Data Types (int, float, str, bool)**"
   ]
  },
  {
   "cell_type": "code",
   "execution_count": 4,
   "id": "4327e78d",
   "metadata": {},
   "outputs": [
    {
     "name": "stdout",
     "output_type": "stream",
     "text": [
      "<class 'int'>\n",
      "<class 'float'>\n",
      "<class 'str'>\n",
      "<class 'bool'>\n"
     ]
    }
   ],
   "source": [
    "# C.Q 1: Check the type of these variables (10, 12.5, \"Python\", True). \n",
    "# Program to check variable types \n",
    "x = 10 \n",
    "y = 12.5 \n",
    "z = \"Python\" \n",
    "w = True \n",
    "print(type(x)) \n",
    "print(type(y)) \n",
    "print(type(z)) \n",
    "print(type(w)) "
   ]
  },
  {
   "cell_type": "code",
   "execution_count": 5,
   "id": "cf299b76",
   "metadata": {},
   "outputs": [
    {
     "name": "stdout",
     "output_type": "stream",
     "text": [
      "<class 'int'>\n",
      "<class 'float'>\n",
      "<class 'str'>\n",
      "<class 'bool'>\n"
     ]
    }
   ],
   "source": [
    "# C.Q 2: Make your own 4 variables (int, float, str, bool) and print their types. \n",
    "# Program to create variables of different types \n",
    "\n",
    "roll_no = 101 \n",
    "percentage = 85.6 \n",
    "student_name = \"Sara\" \n",
    "is_present = False \n",
    "print(type(roll_no)) \n",
    "print(type(percentage)) \n",
    "print(type(student_name)) \n",
    "print(type(is_present)) "
   ]
  },
  {
   "cell_type": "markdown",
   "id": "06a12acc",
   "metadata": {},
   "source": [
    "# **3. Type Conversion**"
   ]
  },
  {
   "cell_type": "code",
   "execution_count": 6,
   "id": "3d9f1777",
   "metadata": {},
   "outputs": [
    {
     "name": "stdout",
     "output_type": "stream",
     "text": [
      "5.0\n",
      "5\n"
     ]
    }
   ],
   "source": [
    "# C.Q 1: Convert an integer 5 into float and string. \n",
    "# Program for type conversion \n",
    "num = 5 \n",
    "print(float(num)) \n",
    "print(str(num)) "
   ]
  },
  {
   "cell_type": "code",
   "execution_count": 11,
   "id": "797866fc",
   "metadata": {},
   "outputs": [
    {
     "name": "stdout",
     "output_type": "stream",
     "text": [
      "number = 100\n",
      "150\n",
      "1005\n"
     ]
    }
   ],
   "source": [
    "# C.Q 2: Convert \"100\" (string) into integer and add 50. \n",
    "# Program to convert string to int \n",
    "num_str = \"100\" \n",
    "num_int = int(num_str)\n",
    "\n",
    "print(f\"number = {num_int}\")\n",
    "print(num_int + 50)\n",
    "print(num_str + \"5\")"
   ]
  },
  {
   "cell_type": "code",
   "execution_count": 8,
   "id": "1d083a66",
   "metadata": {},
   "outputs": [
    {
     "name": "stdout",
     "output_type": "stream",
     "text": [
      "1\n",
      "False\n"
     ]
    }
   ],
   "source": [
    "# Q 3: Convert True to integer and 0 to boolean. \n",
    "# Program to convert boolean and integer \n",
    "print(int(True))   # True becomes 1 \n",
    "print(bool(0))\n",
    "     # 0 becomes False "
   ]
  },
  {
   "cell_type": "markdown",
   "id": "4e919424",
   "metadata": {},
   "source": [
    "# **4. Basic Operators**"
   ]
  },
  {
   "cell_type": "code",
   "execution_count": 12,
   "id": "e7f18e13",
   "metadata": {},
   "outputs": [
    {
     "name": "stdout",
     "output_type": "stream",
     "text": [
      "Addition: 19\n",
      "Subtraction: 11\n",
      "Multiplication: 60\n",
      "Division: 3.75\n"
     ]
    }
   ],
   "source": [
    "# C.Q 1: Perform +, -, *, / on numbers 15 and 4. \n",
    "# Program to perform arithmetic operations \n",
    "a = 15 \n",
    "b = 4 \n",
    "print(\"Addition:\", a + b) \n",
    "print(\"Subtraction:\", a - b) \n",
    "print(\"Multiplication:\", a * b) \n",
    "print(\"Division:\", a / b) "
   ]
  },
  {
   "cell_type": "code",
   "execution_count": null,
   "id": "b67a6d61",
   "metadata": {},
   "outputs": [],
   "source": [
    "# C.Q 2: Use modulus (%) to check remainder of 17 ÷ 3. \n",
    "# Program to find remainder \n",
    "print(17 % 3) \n",
    "\n"
   ]
  },
  {
   "cell_type": "code",
   "execution_count": 13,
   "id": "fd0e89d4",
   "metadata": {},
   "outputs": [
    {
     "name": "stdout",
     "output_type": "stream",
     "text": [
      "32\n"
     ]
    }
   ],
   "source": [
    "# C.Q 3: Show power 2 ** 5. \n",
    "# Program to calculate power \n",
    "print(2 ** 5) "
   ]
  },
  {
   "cell_type": "markdown",
   "id": "9348d0ba",
   "metadata": {},
   "source": [
    "# **5. Input/Output**"
   ]
  },
  {
   "cell_type": "code",
   "execution_count": 14,
   "id": "76b9041e",
   "metadata": {},
   "outputs": [
    {
     "name": "stdout",
     "output_type": "stream",
     "text": [
      "Hello Ashna welcome to Python class!\n"
     ]
    }
   ],
   "source": [
    "# C.Q 1: Ask user for their name and greet them. \n",
    "# Program to take input and display greeting \n",
    "\n",
    "name = input(\"Enter your name: \") \n",
    "print(\"Hello\", name, \"welcome to Python class!\") "
   ]
  },
  {
   "cell_type": "code",
   "execution_count": 15,
   "id": "f9cea97e",
   "metadata": {},
   "outputs": [
    {
     "name": "stdout",
     "output_type": "stream",
     "text": [
      "Sum is: 30\n"
     ]
    }
   ],
   "source": [
    "# C.Q 2: Take two numbers as input and print their sum. \n",
    "# Program to take two numbers and add them \n",
    "num1 = int(input(\"Enter first number: \")) \n",
    "num2 = int(input(\"Enter second number: \")) \n",
    "print(\"Sum is:\", num1 + num2) "
   ]
  },
  {
   "cell_type": "code",
   "execution_count": 17,
   "id": "a55b2f2e",
   "metadata": {},
   "outputs": [
    {
     "name": "stdout",
     "output_type": "stream",
     "text": [
      "Your age is: 18\n"
     ]
    }
   ],
   "source": [
    "# C.Q 3: Input your birth year and calculate your current age. \n",
    "# Program to calculate age from birth year \n",
    "birth_year = int(input(\"Enter your birth year: \")) \n",
    "current_year = 2025 \n",
    "age = current_year - birth_year \n",
    "print(\"Your age is:\", age) "
   ]
  }
 ],
 "metadata": {
  "kernelspec": {
   "display_name": "ashna",
   "language": "python",
   "name": "python3"
  },
  "language_info": {
   "codemirror_mode": {
    "name": "ipython",
    "version": 3
   },
   "file_extension": ".py",
   "mimetype": "text/x-python",
   "name": "python",
   "nbconvert_exporter": "python",
   "pygments_lexer": "ipython3",
   "version": "3.11.9"
  }
 },
 "nbformat": 4,
 "nbformat_minor": 5
}
