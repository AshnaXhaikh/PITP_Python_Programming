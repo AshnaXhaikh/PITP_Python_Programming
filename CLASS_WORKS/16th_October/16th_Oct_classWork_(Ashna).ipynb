{
 "cells": [
  {
   "cell_type": "markdown",
   "id": "ad5cb60b",
   "metadata": {},
   "source": [
    "## **1) Defining Class**"
   ]
  },
  {
   "cell_type": "code",
   "execution_count": null,
   "id": "7aca3d29",
   "metadata": {},
   "outputs": [
    {
     "name": "stdout",
     "output_type": "stream",
     "text": [
      "Class student has been defined!\n"
     ]
    }
   ],
   "source": [
    "class Student:\n",
    "    # pass means no content yet\n",
    "    pass\n",
    "\n",
    "print(\"Class student has been defined!\")"
   ]
  },
  {
   "cell_type": "markdown",
   "id": "a2b3a8a4",
   "metadata": {},
   "source": [
    "Q 2: Define a Class with One Attribute"
   ]
  },
  {
   "cell_type": "code",
   "execution_count": 3,
   "id": "3cc37565",
   "metadata": {},
   "outputs": [
    {
     "name": "stdout",
     "output_type": "stream",
     "text": [
      "Animal species: Cat\n"
     ]
    }
   ],
   "source": [
    "class Animal:\n",
    "    def __init__(self, species):\n",
    "        self.species = species\n",
    "\n",
    "animal1 = Animal(\"Cat\")\n",
    "print(f\"Animal species: {animal1.species}\")"
   ]
  },
  {
   "cell_type": "markdown",
   "id": "118bf823",
   "metadata": {},
   "source": [
    "C.Q 3: Define a Class with a Method "
   ]
  },
  {
   "cell_type": "code",
   "execution_count": 4,
   "id": "b7f28499",
   "metadata": {},
   "outputs": [
    {
     "name": "stdout",
     "output_type": "stream",
     "text": [
      "Welcome !\n"
     ]
    }
   ],
   "source": [
    "# class that has a method\n",
    "class Message:\n",
    "    def display(self):\n",
    "        print(\"Welcome !\")\n",
    "\n",
    "\n",
    "msg = Message()\n",
    "msg.display()"
   ]
  },
  {
   "cell_type": "markdown",
   "id": "3fb35b3c",
   "metadata": {},
   "source": [
    "## **2: Creating Objects**"
   ]
  },
  {
   "cell_type": "markdown",
   "id": "9079db89",
   "metadata": {},
   "source": [
    "Q 1: Create a Single Object "
   ]
  },
  {
   "cell_type": "code",
   "execution_count": 5,
   "id": "437cdbe1",
   "metadata": {},
   "outputs": [
    {
     "name": "stdout",
     "output_type": "stream",
     "text": [
      "Car brand: Corolla\n"
     ]
    }
   ],
   "source": [
    "# create a single object of a class\n",
    "class Car:\n",
    "    def __init__(self, brand):\n",
    "        self.brand = brand\n",
    "\n",
    "c1 = Car(\"Corolla\")\n",
    "print(f\"Car brand: {c1.brand}\")"
   ]
  },
  {
   "cell_type": "markdown",
   "id": "c4d47e1d",
   "metadata": {},
   "source": [
    "Q 2: Create Multiple Objects "
   ]
  },
  {
   "cell_type": "code",
   "execution_count": 6,
   "id": "d56d45cf",
   "metadata": {},
   "outputs": [
    {
     "name": "stdout",
     "output_type": "stream",
     "text": [
      "Student 1: Alina\n",
      "Student 2: Sara\n"
     ]
    }
   ],
   "source": [
    "class Student:\n",
    "    def __init__(self, name):\n",
    "        self.name = name\n",
    "\n",
    "s1 = Student(\"Alina\")\n",
    "s2 = Student(\"Sara\")\n",
    "\n",
    "print(\"Student 1:\", s1.name) \n",
    "print(\"Student 2:\", s2.name) "
   ]
  },
  {
   "cell_type": "markdown",
   "id": "78a92e50",
   "metadata": {},
   "source": [
    "C.Q 3: Objects with Different Data "
   ]
  },
  {
   "cell_type": "code",
   "execution_count": 9,
   "id": "bc528b61",
   "metadata": {},
   "outputs": [],
   "source": [
    "class Book:\n",
    "    def __init__(self, title, author, publishing_year):\n",
    "        self.title = title\n",
    "        self.author = author\n",
    "        self.publish = publishing_year\n",
    "\n",
    "b1 = Book(\"Python fundamentals\", \"John\", 2000)\n",
    "b2 = Book(\"Data Science and Machine learning\", \"Ashna Imtiaz\", 2030)"
   ]
  },
  {
   "cell_type": "code",
   "execution_count": 12,
   "id": "89f45e1e",
   "metadata": {},
   "outputs": [
    {
     "name": "stdout",
     "output_type": "stream",
     "text": [
      "Python fundamentals by John\n",
      "Data Science and Machine learning by Ashna Imtiaz \n",
      "publishing year:  2030\n"
     ]
    }
   ],
   "source": [
    "print(b1.title, \"by\", b1.author) \n",
    "print(b2.title, \"by\", b2.author, \"\\npublishing year: \", b2.publish) "
   ]
  },
  {
   "cell_type": "markdown",
   "id": "d4e1c093",
   "metadata": {},
   "source": [
    "## **Topic 3: Understanding self**"
   ]
  },
  {
   "cell_type": "markdown",
   "id": "36d1d2ad",
   "metadata": {},
   "source": [
    "C.Q 1: Demonstrate self"
   ]
  },
  {
   "cell_type": "code",
   "execution_count": 13,
   "id": "776dd016",
   "metadata": {},
   "outputs": [],
   "source": [
    "class Person:\n",
    "    def __init__(self, name):\n",
    "        self.name = name\n",
    "    \n",
    "    def greet(self):\n",
    "        print(f\"Hello! my name is {self.name}\")"
   ]
  },
  {
   "cell_type": "code",
   "execution_count": 14,
   "id": "a204abf1",
   "metadata": {},
   "outputs": [],
   "source": [
    "p1 = Person(\"Zain\") \n",
    "p2 = Person(\"Ayesha\") "
   ]
  },
  {
   "cell_type": "code",
   "execution_count": 15,
   "id": "c10296ea",
   "metadata": {},
   "outputs": [
    {
     "name": "stdout",
     "output_type": "stream",
     "text": [
      "Hello! my name is Zain\n"
     ]
    }
   ],
   "source": [
    "p1.greet()"
   ]
  },
  {
   "cell_type": "code",
   "execution_count": 17,
   "id": "2b77aa05",
   "metadata": {},
   "outputs": [
    {
     "name": "stdout",
     "output_type": "stream",
     "text": [
      "Hello! my name is Ayesha\n"
     ]
    }
   ],
   "source": [
    "p2.greet()"
   ]
  },
  {
   "cell_type": "code",
   "execution_count": 18,
   "id": "51fb30ad",
   "metadata": {},
   "outputs": [
    {
     "data": {
      "text/plain": [
       "('Zain', 'Ayesha')"
      ]
     },
     "execution_count": 18,
     "metadata": {},
     "output_type": "execute_result"
    }
   ],
   "source": [
    "p1.name, p2.name"
   ]
  },
  {
   "cell_type": "markdown",
   "id": "d1fceab5",
   "metadata": {},
   "source": [
    "C.Q 2: Show Difference Between Objects Using self "
   ]
  },
  {
   "cell_type": "code",
   "execution_count": 19,
   "id": "99b300a6",
   "metadata": {},
   "outputs": [],
   "source": [
    "# each object has its own `self` data\n",
    "class Student:\n",
    "    def __init__(self, name, age):\n",
    "        self.name = name\n",
    "        self.age = age\n",
    "    \n",
    "    def info(self):\n",
    "        print(f\"Name: {self.name}, Age: {self.age}\")"
   ]
  },
  {
   "cell_type": "code",
   "execution_count": 20,
   "id": "e73e8290",
   "metadata": {},
   "outputs": [
    {
     "name": "stdout",
     "output_type": "stream",
     "text": [
      "Name: Ali, Age: 20\n",
      "Name: Sara, Age: 22\n"
     ]
    }
   ],
   "source": [
    "s1 = Student(\"Ali\", 20) \n",
    "s2 = Student(\"Sara\", 22) \n",
    "s1.info() \n",
    "s2.info() "
   ]
  },
  {
   "cell_type": "markdown",
   "id": "37b90eb8",
   "metadata": {},
   "source": [
    "C.Q 3: self Refers to Current Object "
   ]
  },
  {
   "cell_type": "code",
   "execution_count": 21,
   "id": "59e15fda",
   "metadata": {},
   "outputs": [
    {
     "name": "stdout",
     "output_type": "stream",
     "text": [
      "The memory ID of this object is : 1941131351248\n",
      "The memory ID of this object is : 1941132006416\n"
     ]
    }
   ],
   "source": [
    "class Example:\n",
    "    def show_id(self):\n",
    "        print(f\"The memory ID of this object is : {id(self)}\")\n",
    "\n",
    "obj1 = Example()\n",
    "obj2 = Example()\n",
    "\n",
    "obj1.show_id()\n",
    "obj2.show_id()"
   ]
  },
  {
   "cell_type": "markdown",
   "id": "c862cc2d",
   "metadata": {},
   "source": [
    "## **4: Attributes and Methods**"
   ]
  },
  {
   "cell_type": "markdown",
   "id": "2b1da176",
   "metadata": {},
   "source": [
    "Q1 Define class with Attributes"
   ]
  },
  {
   "cell_type": "code",
   "execution_count": 23,
   "id": "8659d7e2",
   "metadata": {},
   "outputs": [
    {
     "name": "stdout",
     "output_type": "stream",
     "text": [
      "Laptop Brand: HP\n",
      "Laptop RAM: 8GB\n"
     ]
    }
   ],
   "source": [
    "class Laptop:\n",
    "    def __init__(self, brand, ram):\n",
    "        self.brand = brand\n",
    "        self.ram = ram\n",
    "\n",
    "lap1 = Laptop(\"HP\", \"8GB\")\n",
    "print(f\"Laptop Brand: {lap1.brand}\")\n",
    "print(f\"Laptop RAM: {lap1.ram}\")"
   ]
  },
  {
   "cell_type": "markdown",
   "id": "3015f416",
   "metadata": {},
   "source": [
    "Q 2: Add Method to Perform Action"
   ]
  },
  {
   "cell_type": "code",
   "execution_count": 24,
   "id": "047aa351",
   "metadata": {},
   "outputs": [
    {
     "name": "stdout",
     "output_type": "stream",
     "text": [
      "Area of rectangle: 15\n"
     ]
    }
   ],
   "source": [
    "# prog to show method performing action\n",
    "class Rectangle:\n",
    "    def __init__(self, length, width):\n",
    "        self.length = length\n",
    "        self.width = width\n",
    "    \n",
    "    def area(self):\n",
    "        print(f\"Area of rectangle: {self.length * self.width}\")\n",
    "\n",
    "r1 = Rectangle(5, 3)\n",
    "r1.area()"
   ]
  },
  {
   "cell_type": "markdown",
   "id": "4411f9e0",
   "metadata": {},
   "source": [
    "Q 3: Modify Attribute Value Using Method"
   ]
  },
  {
   "cell_type": "code",
   "execution_count": 25,
   "id": "c9cdc822",
   "metadata": {},
   "outputs": [
    {
     "name": "stdout",
     "output_type": "stream",
     "text": [
      "Before update: 50000\n",
      "After Update:60000\n"
     ]
    }
   ],
   "source": [
    "# program to update an attribute using method\n",
    "\n",
    "class Employee:\n",
    "    def __init__(self, name, salary):\n",
    "        self.name = name\n",
    "        self.salary = salary\n",
    "\n",
    "    def update_salary(self, new_salary):\n",
    "        self.salary = new_salary\n",
    "\n",
    "emp1 = Employee(\"Alvina\", 50000)\n",
    "print(f\"Before update: {emp1.salary}\")\n",
    "\n",
    "emp1.update_salary(60000)\n",
    "print(f\"After Update:{emp1.salary}\")"
   ]
  }
 ],
 "metadata": {
  "kernelspec": {
   "display_name": "ashna",
   "language": "python",
   "name": "python3"
  },
  "language_info": {
   "codemirror_mode": {
    "name": "ipython",
    "version": 3
   },
   "file_extension": ".py",
   "mimetype": "text/x-python",
   "name": "python",
   "nbconvert_exporter": "python",
   "pygments_lexer": "ipython3",
   "version": "3.11.9"
  }
 },
 "nbformat": 4,
 "nbformat_minor": 5
}
