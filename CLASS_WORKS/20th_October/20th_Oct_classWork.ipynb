{
 "cells": [
  {
   "cell_type": "markdown",
   "id": "292bd2a2",
   "metadata": {},
   "source": [
    "## **PITP Class Work (20-10-2025) by Ashna Imtiaz**"
   ]
  },
  {
   "cell_type": "markdown",
   "id": "f01fd99c",
   "metadata": {},
   "source": [
    "### **TOPIC 1: SINGLE AND MULTIPLE INHERITANCE**"
   ]
  },
  {
   "cell_type": "markdown",
   "id": "65228900",
   "metadata": {},
   "source": [
    "C.Q 1: Single Inheritance. Accessing Parent Method  "
   ]
  },
  {
   "cell_type": "code",
   "execution_count": 4,
   "id": "744a3024",
   "metadata": {},
   "outputs": [],
   "source": [
    "# program to demonstrate single inheritance\n",
    "# the child class inherits from the Parent class\n",
    "\n",
    "class Animal:\n",
    "    def speak(self):\n",
    "        print(\"Animals make different sounds.\")\n",
    "\n",
    "    \n",
    "class Dog(Animal):\n",
    "    def bark(self):\n",
    "        print(\"Dog says: Woof! Woof!\")"
   ]
  },
  {
   "cell_type": "code",
   "execution_count": 3,
   "id": "830a7c3e",
   "metadata": {},
   "outputs": [
    {
     "name": "stdout",
     "output_type": "stream",
     "text": [
      "Animals make different sounds.\n",
      "Woof! Woof!\n"
     ]
    }
   ],
   "source": [
    "# create object of child class\n",
    "dog = Dog()\n",
    "dog.speak() # inheritance method\n",
    "dog.bark() #child's own method"
   ]
  },
  {
   "cell_type": "markdown",
   "id": "0bbc204f",
   "metadata": {},
   "source": [
    "C.Q 2: Single Inheritance, Using Attributes"
   ]
  },
  {
   "cell_type": "code",
   "execution_count": 6,
   "id": "85dc55ed",
   "metadata": {},
   "outputs": [],
   "source": [
    "# program to demonstrate single inheritance with attributes\n",
    "\n",
    "class Person:\n",
    "    def __init__(self, name):\n",
    "        self.name = name\n",
    "\n",
    "class Student(Person):\n",
    "    def show(self):\n",
    "        print(f\"Student Name: {self.name}\")"
   ]
  },
  {
   "cell_type": "code",
   "execution_count": 7,
   "metadata": {},
   "outputs": [
    {
     "name": "stdout",
     "output_type": "stream",
     "text": [
      "Student Name: Ashna\n"
     ]
    }
   ],
   "source": [
    "# Create Object\n",
    "student1 = Student(\"Ashna\")\n",
    "student1.show()"
   ]
  },
  {
   "cell_type": "markdown",
   "id": "9423456a",
   "metadata": {},
   "source": [
    "C.Q3: Multiple Inheritance. Combining Features\n"
   ]
  },
  {
   "cell_type": "code",
   "execution_count": null,
   "id": "0ce13dd5",
   "metadata": {},
   "outputs": [],
   "source": [
    "# program to demonstrate Multiple inheritance\n",
    "# child class inherits from two parent classes\n",
    "\n",
    "class Father:\n",
    "    def driving(self):\n",
    "        print(\"Father can drive a car.\")\n",
    "\n",
    "class Mother:\n",
    "    def cooking(self):\n",
    "        print(\"Mother can cook food.\")"
   ]
  },
  {
   "cell_type": "code",
   "execution_count": 9,
   "id": "67e069f8",
   "metadata": {},
   "outputs": [
    {
     "name": "stdout",
     "output_type": "stream",
     "text": [
      "Father can drive a car.\n",
      "Mother can cook food.\n",
      "Child loves playing games.\n"
     ]
    }
   ],
   "source": [
    "class Child(Father, Mother):\n",
    "    def playing(self):\n",
    "        print(\"Child loves playing games.\")\n",
    "    \n",
    "# create objects\n",
    "c = Child()\n",
    "c.driving()\n",
    "c.cooking()\n",
    "c.playing()"
   ]
  },
  {
   "cell_type": "markdown",
   "id": "7617895e",
   "metadata": {},
   "source": [
    "### **Topic 3: Polymorphism**"
   ]
  },
  {
   "cell_type": "markdown",
   "id": "bd89284e",
   "metadata": {},
   "source": [
    "C. Q1: Polymorphism Using Same Method in Different Classes"
   ]
  },
  {
   "cell_type": "code",
   "execution_count": 10,
   "id": "6f397961",
   "metadata": {},
   "outputs": [
    {
     "name": "stdout",
     "output_type": "stream",
     "text": [
      "Cat says: Meow!\n",
      "Dog says: Woof!\n"
     ]
    }
   ],
   "source": [
    "# program to demonstrate Polymorphism with same method name\n",
    "\n",
    "class Cat:\n",
    "    def sound(self):\n",
    "        print(\"Cat says: Meow!\")\n",
    "\n",
    "class Dog:\n",
    "    def sound(self):\n",
    "        print(\"Dog says: Woof!\")\n",
    "    \n",
    "# Loop through different objects\n",
    "for pet in [Cat(), Dog()]:\n",
    "    pet.sound()"
   ]
  },
  {
   "cell_type": "markdown",
   "id": "ca6f50ce",
   "metadata": {},
   "source": [
    "C. Q 2: Polymorphism Using Function"
   ]
  },
  {
   "cell_type": "code",
   "execution_count": 16,
   "id": "0b26cc8f",
   "metadata": {},
   "outputs": [],
   "source": [
    "# program to show polymorphism using a single function\n",
    "class Car:\n",
    "    def move(self):\n",
    "        print(\"Car drives on road.\")\n",
    "    \n",
    "class Boat:\n",
    "    def move(self):\n",
    "        print(\"Boat sails on water.\")\n",
    "\n",
    "class Aeroplane:\n",
    "    def move(self):\n",
    "        print(\"Aeroplane flies in the sky.\")"
   ]
  },
  {
   "cell_type": "code",
   "execution_count": 17,
   "id": "0e17d9e4",
   "metadata": {},
   "outputs": [
    {
     "name": "stdout",
     "output_type": "stream",
     "text": [
      "Car drives on road.\n",
      "Boat sails on water.\n",
      "Aeroplane flies in the sky.\n"
     ]
    }
   ],
   "source": [
    "def travel(vehicle):\n",
    "    vehicle.move()\n",
    "\n",
    "# pass different objects to same function\n",
    "travel(Car())\n",
    "travel(Boat())\n",
    "travel(Aeroplane())"
   ]
  },
  {
   "cell_type": "markdown",
   "id": "2592cdb1",
   "metadata": {},
   "source": [
    "C. Q 3: Polymorphism Using Inheritance and Overriding"
   ]
  },
  {
   "cell_type": "code",
   "execution_count": 18,
   "id": "d82c849d",
   "metadata": {},
   "outputs": [],
   "source": [
    "# program showing polymorphism through Method Overriding\n",
    "\n",
    "class Bird:\n",
    "    def fly(self):\n",
    "        print(\"Some birds can fly.\")\n",
    "\n",
    "class Sparrow(Bird):\n",
    "    def fly(self):\n",
    "        print(\"Sparrow flies high.\")\n",
    "\n",
    "class Penguin(Bird):\n",
    "    def fly(self):\n",
    "        print(\"Penguin cannot fly.\")\n"
   ]
  },
  {
   "cell_type": "code",
   "execution_count": 19,
   "id": "29956daf",
   "metadata": {},
   "outputs": [
    {
     "name": "stdout",
     "output_type": "stream",
     "text": [
      "Sparrow flies high.\n",
      "Penguin cannot fly.\n"
     ]
    }
   ],
   "source": [
    "# loop through objects\n",
    "for bird in [Sparrow(), Penguin()]:\n",
    "    bird.fly()"
   ]
  },
  {
   "cell_type": "markdown",
   "id": "61b5e7a2",
   "metadata": {},
   "source": [
    "-----------------------------------------"
   ]
  }
 ],
 "metadata": {
  "kernelspec": {
   "display_name": "ashna",
   "language": "python",
   "name": "python3"
  },
  "language_info": {
   "codemirror_mode": {
    "name": "ipython",
    "version": 3
   },
   "file_extension": ".py",
   "mimetype": "text/x-python",
   "name": "python",
   "nbconvert_exporter": "python",
   "pygments_lexer": "ipython3",
   "version": "3.11.9"
  }
 },
 "nbformat": 4,
 "nbformat_minor": 5
}
