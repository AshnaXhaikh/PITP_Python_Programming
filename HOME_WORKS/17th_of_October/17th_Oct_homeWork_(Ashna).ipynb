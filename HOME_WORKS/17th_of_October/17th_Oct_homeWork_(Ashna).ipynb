{
 "cells": [
  {
   "cell_type": "markdown",
   "id": "47955561",
   "metadata": {},
   "source": [
    "## **PITP Homework Questions (17-10-2025) by Ashna Imtiaz**"
   ]
  },
  {
   "cell_type": "code",
   "execution_count": 1,
   "id": "35725e66",
   "metadata": {},
   "outputs": [
    {
     "name": "stdout",
     "output_type": "stream",
     "text": [
      "Car Brand: Toyota, Model: 1234\n"
     ]
    }
   ],
   "source": [
    "class Car:\n",
    "    def __init__(self, brand, model):\n",
    "        self.brand = brand\n",
    "        self.model = model\n",
    "    \n",
    "    def display(self):\n",
    "        print(f\"Car Brand: {self.brand}, Model: {self.model}\")\n",
    "\n",
    "myCar = Car(\"Toyota\", \"1234\")\n",
    "myCar.display()"
   ]
  },
  {
   "cell_type": "code",
   "execution_count": 2,
   "id": "59028527",
   "metadata": {},
   "outputs": [],
   "source": [
    "class Account:\n",
    "    def __init__(self, account_number, balance):\n",
    "        self.account_number = account_number\n",
    "        self.balance = balance\n",
    "\n",
    "    def deposit(self, amount):\n",
    "        self.balance += amount\n",
    "        print(f\"Deposited: {amount}. New Balance: {self.balance}\")\n",
    "    \n",
    "    def withdraw(self, amount):\n",
    "        if amount > self.balance: \n",
    "            print(\"Insufficient funds\")\n",
    "        else:\n",
    "            self.balance -= amount\n",
    "            print(f\"Withdrew: {amount}. New Balance: {self.balance}\")"
   ]
  },
  {
   "cell_type": "code",
   "execution_count": 3,
   "id": "2e548c91",
   "metadata": {},
   "outputs": [
    {
     "name": "stdout",
     "output_type": "stream",
     "text": [
      "Deposited: 500. New Balance: 1500\n",
      "Withdrew: 200. New Balance: 1300\n"
     ]
    }
   ],
   "source": [
    "# example usage\n",
    "myAccount = Account(\"123424252\", 1000)\n",
    "myAccount.deposit(500)\n",
    "myAccount.withdraw(200)"
   ]
  },
  {
   "cell_type": "code",
   "execution_count": 5,
   "id": "2e4e7c51",
   "metadata": {},
   "outputs": [
    {
     "name": "stdout",
     "output_type": "stream",
     "text": [
      "Perimeter: 30m\n"
     ]
    }
   ],
   "source": [
    "# 3) \n",
    "class Rectangle:\n",
    "    def __init__(self, length, width):\n",
    "        self.length = length\n",
    "        self.width  = width\n",
    "    \n",
    "    def perimeter(self):\n",
    "        print(f\"Perimeter: {2 * (self.length + self.width)}m\")\n",
    "\n",
    "# usage example\n",
    "rect = Rectangle(10, 5)\n",
    "rect.perimeter()\n",
    "    \n"
   ]
  },
  {
   "cell_type": "markdown",
   "id": "eced8f9f",
   "metadata": {},
   "source": [
    "#### **b) Class Methods**"
   ]
  },
  {
   "cell_type": "code",
   "execution_count": 7,
   "id": "935760e7",
   "metadata": {},
   "outputs": [
    {
     "name": "stdout",
     "output_type": "stream",
     "text": [
      "InnovateTech\n"
     ]
    }
   ],
   "source": [
    "class Company:\n",
    "    company_name = \"TechCorp\"\n",
    "    # class method to modify class variable\n",
    "    @classmethod\n",
    "    def set_company_name(cls, name):\n",
    "        cls.company_name = name\n",
    "\n",
    "# usage example\n",
    "Company.set_company_name(\"InnovateTech\")\n",
    "print(Company.company_name)"
   ]
  },
  {
   "cell_type": "markdown",
   "id": "f74df13f",
   "metadata": {},
   "source": [
    "2. Create a class School with a class method change_principal(). "
   ]
  },
  {
   "cell_type": "code",
   "execution_count": 8,
   "id": "b52b3e31",
   "metadata": {},
   "outputs": [
    {
     "name": "stdout",
     "output_type": "stream",
     "text": [
      "MS. Johnson\n"
     ]
    }
   ],
   "source": [
    "# 2. Create a class School with a class method change_principal(). \n",
    "class School:\n",
    "    principal_name = \"Mr. Smith\"\n",
    "\n",
    "    @classmethod\n",
    "    def change_principal(cls, new_name):\n",
    "        cls.principal_name = new_name\n",
    "\n",
    "    # usage example \n",
    "School.change_principal(\"MS. Johnson\")\n",
    "print(School.principal_name)"
   ]
  },
  {
   "cell_type": "markdown",
   "id": "e51e65aa",
   "metadata": {},
   "source": [
    "3. Create a class Mobile with a class variable brand and a class method to display \n",
    "the brand. "
   ]
  },
  {
   "cell_type": "code",
   "execution_count": null,
   "id": "c224135a",
   "metadata": {},
   "outputs": [
    {
     "name": "stdout",
     "output_type": "stream",
     "text": [
      "iPhone\n"
     ]
    }
   ],
   "source": [
    "class Mobile:\n",
    "    brand = \"Samsung\"\n",
    "    @classmethod\n",
    "    def set_brand(cls, new_brand):\n",
    "        cls.new_brand = new_brand\n",
    "# usage example\n",
    "Mobile.set_brand(\"iPhone\")\n",
    "print(Mobile.new_brand)\n"
   ]
  },
  {
   "cell_type": "markdown",
   "id": "56f8198e",
   "metadata": {},
   "source": [
    "### **c. Static Methods**"
   ]
  },
  {
   "cell_type": "code",
   "execution_count": 14,
   "id": "e52b6dab",
   "metadata": {},
   "outputs": [
    {
     "name": "stdout",
     "output_type": "stream",
     "text": [
      "25\n"
     ]
    }
   ],
   "source": [
    "class Math:\n",
    "    @staticmethod\n",
    "    def square(num):\n",
    "        return num**2\n",
    "\n",
    "# usage example\n",
    "result = Math.square(5)\n",
    "print(result)"
   ]
  },
  {
   "cell_type": "markdown",
   "id": "89a0672a",
   "metadata": {},
   "source": [
    "2. Create a static method that checks whether a number is positive, negative, or \n",
    "zero. \n"
   ]
  },
  {
   "cell_type": "code",
   "execution_count": null,
   "id": "d5eba0d3",
   "metadata": {},
   "outputs": [],
   "source": [
    "# 2. Create a static method that checks whether a number is positive, negative, or \n",
    "# zero. \n",
    "class NumberCheck:\n",
    "    @staticmethod\n",
    "    def check_number(num):\n",
    "        if num > 0:\n",
    "            return \"Positive\"\n",
    "        elif num < 0:\n",
    "            return \"Negative\"\n",
    "        else:\n",
    "            return \"Zero\"\n",
    "        \n",
    "\n",
    "# usage example\n",
    "status = NumberCheck.check_number(-10)\n",
    "print(status)"
   ]
  },
  {
   "cell_type": "markdown",
   "id": "a3622691",
   "metadata": {},
   "source": [
    "3. Create a class Temperature with a static method to convert Celsius to \n",
    "Fahrenheit. "
   ]
  },
  {
   "cell_type": "code",
   "execution_count": 17,
   "id": "b25e989c",
   "metadata": {},
   "outputs": [
    {
     "name": "stdout",
     "output_type": "stream",
     "text": [
      "25°C is 77.0°F\n"
     ]
    }
   ],
   "source": [
    "class Temperature:\n",
    "    @staticmethod\n",
    "    def celsius_to_fahrenheit(celsius):\n",
    "        return (celsius * 9/5) + 32\n",
    "# usage example\n",
    "temp_c = 25\n",
    "temp_f = Temperature.celsius_to_fahrenheit(temp_c)\n",
    "print(f\"{temp_c}°C is {temp_f}°F\")"
   ]
  },
  {
   "cell_type": "markdown",
   "id": "0016b3ec",
   "metadata": {},
   "source": [
    "### **d. __init__ Method**"
   ]
  },
  {
   "cell_type": "code",
   "execution_count": 18,
   "id": "d9d73526",
   "metadata": {},
   "outputs": [
    {
     "name": "stdout",
     "output_type": "stream",
     "text": [
      "Employee Name: Alice, ID: D2413, Department: HR\n"
     ]
    }
   ],
   "source": [
    "class Employee:\n",
    "    def __init__(self, name, id, department):\n",
    "        self.name = name\n",
    "        self.id = id\n",
    "        self.department = department\n",
    "\n",
    "# usage example\n",
    "emp1 = Employee(\"Alice\", \"D2413\", \"HR\")\n",
    "print(f\"Employee Name: {emp1.name}, ID: {emp1.id}, Department: {emp1.department}\")"
   ]
  },
  {
   "cell_type": "code",
   "execution_count": 20,
   "id": "3ca6ef76",
   "metadata": {},
   "outputs": [
    {
     "name": "stdout",
     "output_type": "stream",
     "text": [
      "Book Title: 1984, Author: George Orwell\n"
     ]
    }
   ],
   "source": [
    "class Book:\n",
    "    def __init__(self, title, author):\n",
    "        self.title = title\n",
    "        self.author = author\n",
    "\n",
    "# usage example \n",
    "book1 = Book(\"1984\", \"George Orwell\")\n",
    "print(f\"Book Title: {book1.title}, Author: {book1.author}\")"
   ]
  },
  {
   "cell_type": "code",
   "execution_count": 23,
   "metadata": {},
   "outputs": [
    {
     "name": "stdout",
     "output_type": "stream",
     "text": [
      "Laptop Brand: Dell \n",
      "Price: 80000\n"
     ]
    }
   ],
   "source": [
    "class Laptop:\n",
    "    def __init__(self, brand, price):\n",
    "        self.brand = brand \n",
    "        self.price = price \n",
    "    \n",
    "# usage example\n",
    "Laptop1 = Laptop(\"Dell\", 80000)\n",
    "print(f\"Laptop Brand: {Laptop1.brand} \\nPrice: {Laptop1.price}\")"
   ]
  },
  {
   "cell_type": "markdown",
   "id": "88ef280e",
   "metadata": {},
   "source": [
    "### **Property Decorators**"
   ]
  },
  {
   "cell_type": "markdown",
   "id": "04cae5f3",
   "metadata": {},
   "source": [
    "1. Create a class Square with a property area that returns side × side. "
   ]
  },
  {
   "cell_type": "code",
   "execution_count": 26,
   "id": "eb4a12b4",
   "metadata": {},
   "outputs": [
    {
     "name": "stdout",
     "output_type": "stream",
     "text": [
      "Area of square with side length `4` is 16.\n"
     ]
    }
   ],
   "source": [
    "class Square:\n",
    "    def __init__(self, side_length):\n",
    "        self.side_length = side_length\n",
    "    \n",
    "    @property\n",
    "    def area(self):\n",
    "        return self.side_length**2\n",
    "\n",
    "# usage example\n",
    "square1 = Square(4)\n",
    "print(f\"Area of square with side length `{square1.side_length}` is {square1.area}.\")"
   ]
  },
  {
   "cell_type": "markdown",
   "id": "0df7b80b",
   "metadata": {},
   "source": [
    "2. Create a class Temperature with a property that converts Celsius to Fahrenheit."
   ]
  },
  {
   "cell_type": "code",
   "execution_count": 27,
   "id": "b8428f8d",
   "metadata": {},
   "outputs": [
    {
     "name": "stdout",
     "output_type": "stream",
     "text": [
      "25°C is 77.0°F\n"
     ]
    }
   ],
   "source": [
    "class Temperature:\n",
    "    @staticmethod\n",
    "    def celsius_to_fahrenheit(celsius):\n",
    "        return (celsius * 9/5) + 32\n",
    "    \n",
    "# usage example\n",
    "temp_c = 25\n",
    "temp_f = Temperature.celsius_to_fahrenheit(temp_c)\n",
    "print(f\"{temp_c}°C is {temp_f}°F\")"
   ]
  },
  {
   "cell_type": "code",
   "execution_count": 29,
   "metadata": {},
   "outputs": [
    {
     "name": "stdout",
     "output_type": "stream",
     "text": [
      "Person's age: 25\n"
     ]
    }
   ],
   "source": [
    "# 3. Create a class Person with a property age that prevents setting a negative value \n",
    "class Person:\n",
    "    def __init__(self, age):\n",
    "        self.age = age \n",
    "    \n",
    "    @property\n",
    "    def age(self):\n",
    "        return self._age\n",
    "    \n",
    "    @age.setter\n",
    "    def age(self, value):\n",
    "        if value < 0:\n",
    "            raise ValueError(\"Age cannot be negative\")\n",
    "        self._age = value\n",
    "# usage example\n",
    "person1 = Person(25)\n",
    "print(f\"Person's age: {person1.age}\") # here we used getter"
   ]
  },
  {
   "cell_type": "markdown",
   "id": "4f5eadf5",
   "metadata": {},
   "source": [
    "# --------End-----------"
   ]
  }
 ],
 "metadata": {
  "kernelspec": {
   "display_name": "ashna",
   "language": "python",
   "name": "python3"
  },
  "language_info": {
   "codemirror_mode": {
    "name": "ipython",
    "version": 3
   },
   "file_extension": ".py",
   "mimetype": "text/x-python",
   "name": "python",
   "nbconvert_exporter": "python",
   "pygments_lexer": "ipython3",
   "version": "3.11.9"
  }
 },
 "nbformat": 4,
 "nbformat_minor": 5
}
