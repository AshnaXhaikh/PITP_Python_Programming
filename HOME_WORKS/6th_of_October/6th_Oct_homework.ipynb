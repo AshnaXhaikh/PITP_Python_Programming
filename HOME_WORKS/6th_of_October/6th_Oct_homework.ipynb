{
 "cells": [
  {
   "cell_type": "markdown",
   "id": "a9871af5",
   "metadata": {},
   "source": [
    "# **PITP Homework Questions (06-10-2025)**"
   ]
  },
  {
   "cell_type": "markdown",
   "id": "b42ef6e9",
   "metadata": {},
   "source": [
    "### **a. List Operations**"
   ]
  },
  {
   "cell_type": "markdown",
   "id": "809f441f",
   "metadata": {},
   "source": [
    "1. Create a list of 5 cities and print them one by one. \n",
    "\n",
    "2. Write a program to add 3 new items in a list and then remove one of them. \n",
    "\n",
    "3. Write a program to find the maximum and minimum values from a list of numbers. "
   ]
  },
  {
   "cell_type": "code",
   "execution_count": 1,
   "id": "bd04e9c3",
   "metadata": {},
   "outputs": [
    {
     "name": "stdout",
     "output_type": "stream",
     "text": [
      "Mirpurkhas\n",
      "Hyderabad\n",
      "Karachi\n",
      "Lahore\n",
      "Islamabad\n"
     ]
    }
   ],
   "source": [
    "# 1) iterate over the list of cities\n",
    "cities = [\"Mirpurkhas\", \"Hyderabad\", \"Karachi\", \"Lahore\", \"Islamabad\"]\n",
    "for city in cities:\n",
    "    print(city)"
   ]
  },
  {
   "cell_type": "code",
   "execution_count": 4,
   "id": "479ab8ca",
   "metadata": {},
   "outputs": [
    {
     "name": "stdout",
     "output_type": "stream",
     "text": [
      "number of cities: 7\n",
      "['Mirpurkhas', 'Hyderabad', 'Karachi', 'Lahore', 'Islamabad', 'Peshawar', 'Multan']\n"
     ]
    }
   ],
   "source": [
    "# 2) add 3 items in a list then remove one item from the list\n",
    "cities = [\"Mirpurkhas\", \"Hyderabad\", \"Karachi\", \"Lahore\", \"Islamabad\"]\n",
    "cities.append(\"Peshawar\")\n",
    "cities.append(\"Quetta\")\n",
    "cities.append(\"Multan\")\n",
    "cities.remove(\"Quetta\")\n",
    "\n",
    "print(f\"number of cities: {len(cities)}\")\n",
    "print(cities)"
   ]
  },
  {
   "cell_type": "code",
   "execution_count": 7,
   "id": "d903a10f",
   "metadata": {},
   "outputs": [
    {
     "name": "stdout",
     "output_type": "stream",
     "text": [
      "max number is: 10\n",
      "min number is: 2\n"
     ]
    }
   ],
   "source": [
    "#) find max and min number number from a list\n",
    "nums = [10, 2, 8, 4, 9]\n",
    "\n",
    "max = max(nums)\n",
    "min = min(nums)\n",
    "\n",
    "print(f\"max number is: {max}\")\n",
    "print(f\"min number is: {min}\")"
   ]
  },
  {
   "cell_type": "markdown",
   "id": "36273348",
   "metadata": {},
   "source": [
    "### **b. Slicing** \n",
    "\n",
    "\n",
    "1. Create a list of 10 numbers and print only the middle 4 numbers using slicing. \n",
    "\n",
    "2. Write a program to reverse a list using slicing. \n",
    "\n",
    "3. Write a program to print every third element from a list. "
   ]
  },
  {
   "cell_type": "code",
   "execution_count": 8,
   "id": "6007cae5",
   "metadata": {},
   "outputs": [
    {
     "name": "stdout",
     "output_type": "stream",
     "text": [
      "Middle four numbers: [4, 5, 6, 7]\n"
     ]
    }
   ],
   "source": [
    "# 1) Create a list of 10 numbers and print only the middle 4 numbers using slicing.\n",
    "numbers = [1, 2, 3, 4, 5, 6, 7, 8, 9, 10]\n",
    "mid_four = numbers[3:7]\n",
    "print(f\"Middle four numbers: {mid_four}\")"
   ]
  },
  {
   "cell_type": "code",
   "execution_count": 12,
   "id": "b7ce7a65",
   "metadata": {},
   "outputs": [
    {
     "name": "stdout",
     "output_type": "stream",
     "text": [
      "Reversed list: [10, 9, 8, 7, 6, 5, 4, 3, 2, 1]\n"
     ]
    }
   ],
   "source": [
    "# 2) Write a program to reverse a list using slicing.\n",
    "reversed_nums = numbers[::-1]\n",
    "print(f\"Reversed list: {reversed_nums}\")"
   ]
  },
  {
   "cell_type": "code",
   "execution_count": 18,
   "metadata": {},
   "outputs": [
    {
     "name": "stdout",
     "output_type": "stream",
     "text": [
      "Every third element: [3, 6, 9]\n"
     ]
    }
   ],
   "source": [
    "# 3) Write a program to print every third element from a list\n",
    "every_third = numbers[2::3]\n",
    "print(f\"Every third element: {every_third}\")"
   ]
  },
  {
   "cell_type": "markdown",
   "id": "f698de89",
   "metadata": {},
   "source": [
    "# **c. List Comprehensions**"
   ]
  },
  {
   "cell_type": "markdown",
   "id": "a8fdd642",
   "metadata": {},
   "source": [
    "1. Write a program using list comprehension to create a list of even numbers from 1 to 20. \n",
    "\n",
    "2. Write a program using list comprehension to create a list of numbers greater than 50 \n",
    "from [10, 60, 75, 20, 90, 30]. \n",
    "\n",
    "3. Write a program using list comprehension to convert [\"cat\", \"dog\", \"rat\"] into \n",
    "uppercase. "
   ]
  },
  {
   "cell_type": "code",
   "execution_count": 21,
   "id": "4fb7af33",
   "metadata": {},
   "outputs": [
    {
     "name": "stdout",
     "output_type": "stream",
     "text": [
      "Even numbers from 1 to 20: \n",
      "[2, 4, 6, 8, 10, 12, 14, 16, 18, 20]\n"
     ]
    }
   ],
   "source": [
    "# 1) Write a program using list comprehension to create a list of even numbers from 1 to 20.as_integer_ratio\n",
    "even_nums = [evens for evens in range(1, 21) if evens % 2 ==0]\n",
    "print(f\"Even numbers from 1 to 20: \\n{even_nums}\")"
   ]
  },
  {
   "cell_type": "code",
   "execution_count": 22,
   "id": "f3c515f9",
   "metadata": {},
   "outputs": [
    {
     "name": "stdout",
     "output_type": "stream",
     "text": [
      "list of numbers greater than 50: \n",
      "[60, 75, 90]\n"
     ]
    }
   ],
   "source": [
    "# 2) list of numbers greater than 50 from  [10, 60, 75, 20, 90, 30]. \n",
    "list1 =  [10, 60, 75, 20, 90, 30]\n",
    "print(f\"list of numbers greater than 50: \\n{[nums for nums in list1 if nums > 50]}\")"
   ]
  },
  {
   "cell_type": "code",
   "execution_count": 24,
   "id": "74232719",
   "metadata": {},
   "outputs": [
    {
     "name": "stdout",
     "output_type": "stream",
     "text": [
      "lower_case list: ['cat', 'dog', 'rat']\n",
      "upper case list: ['CAT', 'DOG', 'RAT']\n"
     ]
    }
   ],
   "source": [
    "# 3) Write a program to convert the given list into uppercase (using list comprehension)\n",
    "LC_list =  [\"cat\", \"dog\", \"rat\"] \n",
    "UC_list = [ele.upper() for ele in LC_list]\n",
    "\n",
    "print(f\"lower_case list: {LC_list}\")\n",
    "print(f\"upper case list: {UC_list}\")"
   ]
  },
  {
   "cell_type": "markdown",
   "id": "53b3c052",
   "metadata": {},
   "source": [
    "### **d. Tuple Packing & Unpacking**"
   ]
  },
  {
   "cell_type": "markdown",
   "id": "0be193eb",
   "metadata": {},
   "source": [
    "1. Create a tuple with 3 subjects and unpack them into separate variables.\n",
    "\n",
    "2. Create a tuple (1, 2, 3, 4, 5, 6) and unpack it using the * operator to capture the middle \n",
    "values in a list. \n",
    "\n",
    "3. Write a program to swap three variables using tuple unpacking. "
   ]
  },
  {
   "cell_type": "code",
   "execution_count": 25,
   "id": "0f870eb8",
   "metadata": {},
   "outputs": [
    {
     "name": "stdout",
     "output_type": "stream",
     "text": [
      "physics, maths, chemistry\n"
     ]
    }
   ],
   "source": [
    "subjects = (\"physics\", \"maths\", \"chemistry\")\n",
    "a, b, c = subjects\n",
    "print(f\"{a}, {b}, {c}\")"
   ]
  },
  {
   "cell_type": "code",
   "execution_count": 28,
   "id": "738f3fc2",
   "metadata": {},
   "outputs": [
    {
     "name": "stdout",
     "output_type": "stream",
     "text": [
      "tuple: (1, 2, 3, 4, 5, 6) \n",
      "middle values: [2, 3, 4, 5]\n"
     ]
    }
   ],
   "source": [
    "Nums = (1, 2, 3, 4, 5, 6)\n",
    "first, *mid, last = Nums\n",
    "\n",
    "print(f\"tuple: {Nums} \\nmiddle values: {mid}\")"
   ]
  },
  {
   "cell_type": "code",
   "execution_count": 36,
   "id": "001df811",
   "metadata": {},
   "outputs": [
    {
     "name": "stdout",
     "output_type": "stream",
     "text": [
      "a = Ashna, b = Imtiaz, c = Xhaikh\n"
     ]
    }
   ],
   "source": [
    "#  swap three variables `using tuple unpacking`.\n",
    "\n",
    "a, b, c = \"Ashna\", \"Imtiaz\", \"Xhaikh\"\n",
    "\n",
    "print(f\"a = {a}, b = {b}, c = {c}\")\n"
   ]
  },
  {
   "cell_type": "code",
   "execution_count": 37,
   "id": "9628c2cd",
   "metadata": {},
   "outputs": [
    {
     "name": "stdout",
     "output_type": "stream",
     "text": [
      "After swapping: a = Xhaikh, b = Ashna, c = Imtiaz\n"
     ]
    }
   ],
   "source": [
    "a, b, c = c, a, b # <- swapped using tuple-unpacking\n",
    "\n",
    "print(f\"After swapping: a = {a}, b = {b}, c = {c}\")\n"
   ]
  },
  {
   "cell_type": "markdown",
   "id": "daf1040e",
   "metadata": {},
   "source": [
    "### **e. Immutable vs Mutable**"
   ]
  },
  {
   "cell_type": "markdown",
   "id": "212a2811",
   "metadata": {},
   "source": [
    "1. Write a program that changes the second element of a list and shows the updated list. \n",
    "\n",
    "2. Try to change a value in a tuple and observe the error message. \n",
    "\n",
    "3. Write a short program that explains why tuples are safer than lists for storing fixed \n",
    "data like months of the year"
   ]
  },
  {
   "cell_type": "code",
   "execution_count": null,
   "id": "e4769c22",
   "metadata": {},
   "outputs": [
    {
     "name": "stdout",
     "output_type": "stream",
     "text": [
      "updated colors:  ['red', 'green', 'blue']\n"
     ]
    }
   ],
   "source": [
    "# change the 2nd element\n",
    "colors = [\"red\", \"black\", \"blue\"]\n",
    "\n",
    "# change the second element\n",
    "colors[1] = \"green\"\n",
    "print(\"updated colors: \", colors)\n"
   ]
  },
  {
   "cell_type": "code",
   "execution_count": null,
   "id": "9d8f567e",
   "metadata": {},
   "outputs": [
    {
     "ename": "TypeError",
     "evalue": "'tuple' object does not support item assignment",
     "output_type": "error",
     "traceback": [
      "\u001b[31m---------------------------------------------------------------------------\u001b[39m",
      "\u001b[31mTypeError\u001b[39m                                 Traceback (most recent call last)",
      "\u001b[36mCell\u001b[39m\u001b[36m \u001b[39m\u001b[32mIn[42]\u001b[39m\u001b[32m, line 4\u001b[39m\n\u001b[32m      1\u001b[39m rgb_tuple = (\u001b[33m\"\u001b[39m\u001b[33mred\u001b[39m\u001b[33m\"\u001b[39m, \u001b[33m\"\u001b[39m\u001b[33mgreen\u001b[39m\u001b[33m\"\u001b[39m, \u001b[33m\"\u001b[39m\u001b[33mblue\u001b[39m\u001b[33m\"\u001b[39m)\n\u001b[32m      3\u001b[39m \u001b[38;5;66;03m# try to change a value in tuple and observe the error\u001b[39;00m\n\u001b[32m----> \u001b[39m\u001b[32m4\u001b[39m \u001b[43mrgb_tuple\u001b[49m\u001b[43m[\u001b[49m\u001b[32;43m1\u001b[39;49m\u001b[43m]\u001b[49m = \u001b[33m\"\u001b[39m\u001b[33mblack\u001b[39m\u001b[33m\"\u001b[39m\n",
      "\u001b[31mTypeError\u001b[39m: 'tuple' object does not support item assignment"
     ]
    }
   ],
   "source": [
    "rgb_tuple = (\"red\", \"green\", \"blue\")\n",
    "\n",
    "# 2) try to change a value in tuple and observe the error\n",
    "rgb_tuple[1] = \"black\"\n"
   ]
  },
  {
   "cell_type": "code",
   "execution_count": 68,
   "id": "5d2a228a",
   "metadata": {},
   "outputs": [
    {
     "name": "stdout",
     "output_type": "stream",
     "text": [
      "Error: 'tuple' object does not support item assignment. \n",
      "Tuple are immutable, cannot change its elements.\n"
     ]
    }
   ],
   "source": [
    "# handle this error using try and except block\n",
    "try:\n",
    "    rgb_tuple[1] = \"black\"\n",
    "except TypeError as e:\n",
    "    print(f\"Error: {e}. \\nTuple are immutable, cannot change its elements.\")"
   ]
  },
  {
   "cell_type": "code",
   "execution_count": 70,
   "id": "18261233",
   "metadata": {},
   "outputs": [
    {
     "name": "stdout",
     "output_type": "stream",
     "text": [
      "Modified list: ['Jan', 'February', 'March', 'April', 'May', 'June', 'July', 'August', 'September', 'October', 'November', 'December']\n"
     ]
    }
   ],
   "source": [
    "# program to explain why tuples are safer than lists for storing fixed \n",
    "# data like months of the year \n",
    "\n",
    "# Using a list\n",
    "months_list = [\"January\", \"February\", \"March\", \"April\", \"May\", \"June\",\n",
    "               \"July\", \"August\", \"September\", \"October\", \"November\", \"December\"]\n",
    "\n",
    "# try to modify the list\n",
    "months_list[0] = \"Jan\"  \n",
    "print(\"Modified list:\", months_list)\n",
    "\n",
    "\n"
   ]
  },
  {
   "cell_type": "code",
   "execution_count": 71,
   "id": "46e473f4",
   "metadata": {},
   "outputs": [
    {
     "name": "stdout",
     "output_type": "stream",
     "text": [
      "Error: 'tuple' object does not support item assignment\n",
      "Tuple remains unchanged: ('January', 'February', 'March', 'April', 'May', 'June', 'July', 'August', 'September', 'October', 'November', 'December')\n"
     ]
    }
   ],
   "source": [
    "# Using a tuple\n",
    "months_tuple = (\"January\", \"February\", \"March\", \"April\", \"May\", \"June\",\n",
    "                \"July\", \"August\", \"September\", \"October\", \"November\", \"December\")\n",
    "\n",
    "# Trying to modify the tuple\n",
    "try:\n",
    "    months_tuple[0] = \"Jan\"\n",
    "except TypeError as e:\n",
    "    print(\"Error:\", e)\n",
    "\n",
    "print(\"Tuple remains unchanged:\", months_tuple)\n"
   ]
  }
 ],
 "metadata": {
  "kernelspec": {
   "display_name": "ashna",
   "language": "python",
   "name": "python3"
  },
  "language_info": {
   "codemirror_mode": {
    "name": "ipython",
    "version": 3
   },
   "file_extension": ".py",
   "mimetype": "text/x-python",
   "name": "python",
   "nbconvert_exporter": "python",
   "pygments_lexer": "ipython3",
   "version": "3.11.9"
  }
 },
 "nbformat": 4,
 "nbformat_minor": 5
}
