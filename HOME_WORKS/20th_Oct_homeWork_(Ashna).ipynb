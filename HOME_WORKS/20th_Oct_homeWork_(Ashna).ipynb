{
 "cells": [
  {
   "cell_type": "markdown",
   "id": "537ebb52",
   "metadata": {},
   "source": [
    "## **PITP Homework Questions (20-10-2025) by Ashna Imtiaz**"
   ]
  },
  {
   "cell_type": "markdown",
   "id": "9247e9c2",
   "metadata": {},
   "source": [
    "### **1. SINGLE INHERITANCE**"
   ]
  },
  {
   "cell_type": "markdown",
   "id": "51ea6830",
   "metadata": {},
   "source": [
    "H.Q 1: Student Information \n",
    "\n",
    "Create a base class Person with attributes name and age. \n",
    "\n",
    "Then make a subclass Student that adds an attribute grade. \n",
    "\n",
    "Write methods to display information from both classes. "
   ]
  },
  {
   "cell_type": "code",
   "execution_count": 3,
   "id": "f02d0df5",
   "metadata": {},
   "outputs": [
    {
     "name": "stdout",
     "output_type": "stream",
     "text": [
      "Name: Alice, Age: 20, Grade: A\n"
     ]
    }
   ],
   "source": [
    "class Person:\n",
    "    def __init__(self, name, age):\n",
    "        self.name = name\n",
    "        self.age = age\n",
    "\n",
    "# making a sub class student that adds an attribute grade.\n",
    "class Student(Person):\n",
    "    def __init__(self, name, age, grade):\n",
    "        # calling the constructor of the parent class\n",
    "        super().__init__(name, age)\n",
    "        self.grade = grade\n",
    "\n",
    "    # write a method to display student details\n",
    "    def display(self):\n",
    "        print(f\"Name: {self.name}, Age: {self.age}, Grade: {self.grade}\")\n",
    "\n",
    "\n",
    "# create an instance of Student\n",
    "student1 = Student(\"Alice\", 20, \"A\")\n",
    "student1.display()"
   ]
  },
  {
   "cell_type": "markdown",
   "id": "ac9cba75",
   "metadata": {},
   "source": [
    "H.Q 2: Employee Details \n",
    "\n",
    "Write a program where a Company class has a method show_company() that displays \n",
    "company name. \n",
    "\n",
    "A subclass Employee inherits it and adds an employee_info() method that shows employee \n",
    "details"
   ]
  },
  {
   "cell_type": "code",
   "execution_count": null,
   "id": "291d81d6",
   "metadata": {},
   "outputs": [
    {
     "name": "stdout",
     "output_type": "stream",
     "text": [
      "Employee Name: Bob, \n",
      "Employee ID: E123\n",
      "Company Name: Tech Solutions\n"
     ]
    }
   ],
   "source": [
    "class Company:\n",
    "    def __init__(self, company_name):\n",
    "        self.company_name = company_name\n",
    "    \n",
    "    def show_company(self):\n",
    "        print(f\"Company Name: {self.company_name}\")\n",
    "\n",
    "class Employee(Company):\n",
    "    def __init__(self, company_name, employee_name, employee_id):\n",
    "        super().__init__(company_name)\n",
    "        self.employee_name = employee_name\n",
    "        self.employee_id = employee_id\n",
    "\n",
    "    def employee_info(self):\n",
    "        print(f\"Employee Name: {self.employee_name}, \\nEmployee ID: {self.employee_id}\")\n",
    "        # print(f\"Company Name: {self.company_name}\")\n",
    "        self.show_company()\n",
    "\n",
    "# create an instance of employee\n",
    "emp1 = Employee(\"Tech Solutions\", \"Bob\", \"E123\")\n",
    "emp1.employee_info()\n"
   ]
  },
  {
   "cell_type": "markdown",
   "id": "f3956650",
   "metadata": {},
   "source": [
    "H.Q 3: Book and Author \n",
    "\n",
    "Make a parent class Author with a method show_author().\n",
    " \n",
    "A subclass Book should inherit and display both book title and author name using \n",
    "inheritance. "
   ]
  },
  {
   "cell_type": "code",
   "execution_count": null,
   "id": "17a21351",
   "metadata": {},
   "outputs": [
    {
     "name": "stdout",
     "output_type": "stream",
     "text": [
      "Book Title: Harry Potter and the Sorcerer's Stone\n",
      "Author Name: J.K Rowling\n",
      "Author Name: J.K Rowling\n"
     ]
    }
   ],
   "source": [
    "class Author:\n",
    "    def __init__(self, name):\n",
    "        self.name = name\n",
    "\n",
    "    def show_author(self):\n",
    "        print(f\"Author Name: {self.name}\")\n",
    "\n",
    "class Book(Author):\n",
    "    def __init__(self, name, book_title):\n",
    "        super().__init__(name)\n",
    "        self.book_title = book_title\n",
    "    \n",
    "    def book_info(self):\n",
    "        print(f\"Book Title: {self.book_title}\")\n",
    "        # print(f\"Author Name: {self.name}\")\n",
    "        self.show_author()\n",
    "\n",
    "# create an instance of Book\n",
    "book1 = Book(\"J.K Rowling\", \"Harry Potter and the Sorcerer's Stone\")\n",
    "book1.book_info()"
   ]
  },
  {
   "cell_type": "markdown",
   "id": "7f6d8fa8",
   "metadata": {},
   "source": [
    "### **2. MULTIPLE INHERITANCE**"
   ]
  },
  {
   "cell_type": "markdown",
   "id": "ac8873e7",
   "metadata": {},
   "source": [
    "H.Q 1: Teacher and Researcher \n",
    "\n",
    "Create two classes Teacher and Researcher, each with their own method. \n",
    "\n",
    "A third class Professor should inherit from both and display information from each parent."
   ]
  },
  {
   "cell_type": "code",
   "execution_count": 23,
   "id": "e9f7ebf9",
   "metadata": {},
   "outputs": [
    {
     "name": "stdout",
     "output_type": "stream",
     "text": [
      "Teaching students...\n",
      "Conducting research...\n",
      "Managing department...\n"
     ]
    }
   ],
   "source": [
    "class Teacher:\n",
    "    def teach(self):\n",
    "        print(\"Teaching students...\")\n",
    "\n",
    "class Researcher:\n",
    "    def research(self):\n",
    "        print(\"Conducting research...\")\n",
    "\n",
    "class Professor(Teacher, Researcher):\n",
    "    def manage_department(self):\n",
    "        print(\"Managing department...\")\n",
    "\n",
    "# create an instance of professor\n",
    "prof = Professor()\n",
    "prof.teach()\n",
    "prof.research()\n",
    "prof.manage_department()"
   ]
  },
  {
   "cell_type": "markdown",
   "id": "73101e46",
   "metadata": {},
   "source": [
    "H.Q 2: Engine and Body \n",
    "\n",
    "Write two parent classes — Engine (with engine_info()) and Body (with body_info()). \n",
    "\n",
    "A child class Car inherits from both and prints details from both classes. "
   ]
  },
  {
   "cell_type": "code",
   "execution_count": 32,
   "id": "12a1c053",
   "metadata": {},
   "outputs": [
    {
     "name": "stdout",
     "output_type": "stream",
     "text": [
      "This is a car with the following details:\n",
      "The engine is V8\n",
      "The body is sedan type\n"
     ]
    }
   ],
   "source": [
    "class Engine:\n",
    "    def engine_info(self):\n",
    "        print(\"The engine is V8\")\n",
    "    \n",
    "class Body:\n",
    "    def body_info(self):\n",
    "        print(\"The body is sedan type\")\n",
    "\n",
    "class Car(Engine, Body):\n",
    "    def car_info(self):\n",
    "        print(\"This is a car with the following details:\")\n",
    "\n",
    "# create an instance of Car\n",
    "car1 = Car()\n",
    "car1.car_info()\n",
    "car1.engine_info()\n",
    "car1.body_info()"
   ]
  },
  {
   "cell_type": "markdown",
   "id": "932ecf39",
   "metadata": {},
   "source": [
    "H.Q 3: Father and Mother \n",
    "\n",
    "Make two parent classes Father and Mother, each having a method (show_father() and show_mother()). \n",
    "\n",
    "A Child class inherits both and adds its own method show_child() to print a message \n",
    "combining all three. "
   ]
  },
  {
   "cell_type": "code",
   "execution_count": 38,
   "id": "7e920c69",
   "metadata": {},
   "outputs": [
    {
     "name": "stdout",
     "output_type": "stream",
     "text": [
      "This is the child.\n",
      "This is the father.\n",
      "This is the mother.\n"
     ]
    }
   ],
   "source": [
    "class Father:\n",
    "    def show_father(self):\n",
    "        print(\"This is the father.\")\n",
    "\n",
    "class Mother:\n",
    "    def show_mother(self):\n",
    "        print(\"This is the mother.\")\n",
    "\n",
    "class Child(Father, Mother):\n",
    "    def show_child(self):\n",
    "        print(\"This is the child.\")\n",
    "        self.show_father()\n",
    "        self.show_mother()\n",
    "\n",
    "# create an instance of Child\n",
    "child1 = Child()\n",
    "child1.show_child()\n"
   ]
  },
  {
   "cell_type": "markdown",
   "id": "7b4d4335",
   "metadata": {},
   "source": [
    "### **3. POLYMORPHISM**"
   ]
  },
  {
   "cell_type": "markdown",
   "id": "6bf20a9a",
   "metadata": {},
   "source": [
    "H.Q 1: Shape Area Calculation\n",
    "\n",
    "Create a base class Shape with a method area(). \n",
    "\n",
    "Override it in Rectangle and Circle subclasses to calculate and print their specific areas. "
   ]
  },
  {
   "cell_type": "code",
   "execution_count": 42,
   "id": "ac55e9d5",
   "metadata": {},
   "outputs": [
    {
     "name": "stdout",
     "output_type": "stream",
     "text": [
      "Area of Rectangle: 50cm²\n",
      "Area of Circle: 153.86cm²\n"
     ]
    }
   ],
   "source": [
    "class Shape:\n",
    "    def area(self):\n",
    "        pass\n",
    "\n",
    "class Rectangle(Shape):\n",
    "    def __init__(self, width, height):\n",
    "        self.width = width\n",
    "        self.height = height\n",
    "\n",
    "    def area(self):\n",
    "        return self.width * self.height\n",
    "    \n",
    "class Circle(Shape):\n",
    "    def __init__(self, radius):\n",
    "        self.radius = radius\n",
    "    \n",
    "    def area(self):\n",
    "        return 3.14 * self.radius * self.radius\n",
    "\n",
    "# create instances of Rectangle and Circle\n",
    "rect = Rectangle(5, 10)\n",
    "circle = Circle(7)\n",
    "print(f\"Area of Rectangle: {rect.area()}cm²\")\n",
    "print(f\"Area of Circle: {circle.area()}cm²\")"
   ]
  },
  {
   "cell_type": "code",
   "execution_count": 44,
   "id": "9876101c",
   "metadata": {},
   "outputs": [],
   "source": [
    "def make_sound(animal):\n",
    "    animal.sound()\n",
    "\n",
    "class Dog:\n",
    "    def sound(self):\n",
    "        print(\"Woof Woof!\")\n",
    "\n",
    "class Cat:\n",
    "    def sound(self):\n",
    "        print(\"Meow Meow!\")\n",
    "\n",
    "class Cow:\n",
    "    def sound(self):\n",
    "        print(\"Moo Moo!\")\n",
    "\n"
   ]
  },
  {
   "cell_type": "code",
   "execution_count": 45,
   "id": "5d8f3493",
   "metadata": {},
   "outputs": [
    {
     "name": "stdout",
     "output_type": "stream",
     "text": [
      "Woof Woof!\n",
      "Meow Meow!\n",
      "Moo Moo!\n"
     ]
    }
   ],
   "source": [
    "# create instances of Dog, Cat, and Cow\n",
    "dog = Dog()\n",
    "cat = Cat()\n",
    "cow = Cow()\n",
    "\n",
    "make_sound(dog)\n",
    "make_sound(cat)\n",
    "make_sound(cow)"
   ]
  },
  {
   "cell_type": "markdown",
   "id": "30ebca15",
   "metadata": {},
   "source": [
    "H.Q 3: Employee Work Types \n",
    "\n",
    "Create a parent class Employee with a method work(). \n",
    "\n",
    "Then make subclasses Manager, Developer, and Intern, each overriding work() to print their \n",
    "role. \n",
    "\n",
    "Loop through all three objects and call work(). "
   ]
  },
  {
   "cell_type": "code",
   "execution_count": 47,
   "id": "b465c314",
   "metadata": {},
   "outputs": [],
   "source": [
    "# Create a parent class Employee with a method work(). \n",
    "\n",
    "class Employee:\n",
    "    def work(self):\n",
    "        print(\"Employee is working.\")\n",
    "\n",
    "# Then make subclasses Manager, Developer, and Intern, each overriding work() to print their \n",
    "# role. \n",
    "class Manager(Employee):\n",
    "    def work(self):\n",
    "        print(\"Manager is managing the team.\")\n",
    "\n",
    "class Developer(Employee):\n",
    "    def work(self):\n",
    "        print(\"Developer is writing code.\")\n",
    "\n",
    "class Intern(Employee):\n",
    "    def work(self):\n",
    "        print(\"Intern is learning and assisting.\")\n"
   ]
  },
  {
   "cell_type": "code",
   "execution_count": 48,
   "id": "59229015",
   "metadata": {},
   "outputs": [
    {
     "name": "stdout",
     "output_type": "stream",
     "text": [
      "Manager is managing the team.\n",
      "Developer is writing code.\n",
      "Intern is learning and assisting.\n"
     ]
    }
   ],
   "source": [
    "# Loop through all three objects and call work(). \n",
    "for emp in [Manager(), Developer(), Intern()]:\n",
    "    emp.work()"
   ]
  },
  {
   "cell_type": "markdown",
   "id": "d244235b",
   "metadata": {},
   "source": [
    "----------------------------------------"
   ]
  }
 ],
 "metadata": {
  "kernelspec": {
   "display_name": "ashna",
   "language": "python",
   "name": "python3"
  },
  "language_info": {
   "codemirror_mode": {
    "name": "ipython",
    "version": 3
   },
   "file_extension": ".py",
   "mimetype": "text/x-python",
   "name": "python",
   "nbconvert_exporter": "python",
   "pygments_lexer": "ipython3",
   "version": "3.11.9"
  }
 },
 "nbformat": 4,
 "nbformat_minor": 5
}
