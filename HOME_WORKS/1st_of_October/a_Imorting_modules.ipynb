{
 "cells": [
  {
   "cell_type": "markdown",
   "id": "edd5ba9e",
   "metadata": {},
   "source": [
    "# **a) Importing Modules**"
   ]
  },
  {
   "cell_type": "markdown",
   "id": "3726d268",
   "metadata": {},
   "source": [
    "1. Write a program using the math module to calculate: \n",
    "   - Square root of 25 \n",
    "   - Value of π \n",
    "   - Cosine of 0 \n"
   ]
  },
  {
   "cell_type": "markdown",
   "id": "6ec52d35",
   "metadata": {},
   "source": [
    "for sqrt -> math.sqrt()\n",
    "\n",
    "for pi -> math.pi\n",
    "\n",
    "for cosine -> math.cos()"
   ]
  },
  {
   "cell_type": "code",
   "execution_count": 1,
   "id": "5901a99b",
   "metadata": {},
   "outputs": [
    {
     "name": "stdout",
     "output_type": "stream",
     "text": [
      "Square root of 25 is: 5.0\n",
      "Value of π is: 3.141592653589793\n",
      "Cosine of 0 is: 1.0\n"
     ]
    }
   ],
   "source": [
    "# 1) sqrt of 25\n",
    "import math\n",
    "print(f\"Square root of 25 is: {math.sqrt(25)}\")\n",
    "\n",
    "# 2) value of pi\n",
    "print(f\"Value of π is: {math.pi}\")\n",
    "\n",
    "# 3) cosine of 0\n",
    "print(f\"Cosine of 0 is: {math.cos(0)}\")"
   ]
  },
  {
   "cell_type": "markdown",
   "id": "c9ed336c",
   "metadata": {},
   "source": [
    "2. Write a program using the random module to generate 5 random numbers between 1 \n",
    "and 100. "
   ]
  },
  {
   "cell_type": "code",
   "execution_count": 2,
   "id": "573d4fdd",
   "metadata": {},
   "outputs": [
    {
     "name": "stdout",
     "output_type": "stream",
     "text": [
      "Random number 1: 97\n",
      "Random number 2: 49\n",
      "Random number 3: 24\n",
      "Random number 4: 57\n",
      "Random number 5: 26\n"
     ]
    }
   ],
   "source": [
    "import random\n",
    "\n",
    "for i in range(5):\n",
    "    print(f\"Random number {i+1}: {random.randint(1, 100)}\")"
   ]
  },
  {
   "cell_type": "markdown",
   "id": "c9f13100",
   "metadata": {},
   "source": [
    "3. Write a program to import the datetime module and print today’s date. "
   ]
  },
  {
   "cell_type": "code",
   "execution_count": 6,
   "id": "5ea13858",
   "metadata": {},
   "outputs": [
    {
     "name": "stdout",
     "output_type": "stream",
     "text": [
      "Current date and time: 2025-10-01 23:23:14.375667\n"
     ]
    }
   ],
   "source": [
    "import datetime\n",
    "\n",
    "now = datetime.datetime.now()\n",
    "\n",
    "print(f\"Current date and time: {now}\")\n",
    "\n"
   ]
  },
  {
   "cell_type": "code",
   "execution_count": 7,
   "id": "3d7da5bc",
   "metadata": {},
   "outputs": [
    {
     "name": "stdout",
     "output_type": "stream",
     "text": [
      "Date: 01-10-2025\n",
      "Time: 23:23:36\n"
     ]
    }
   ],
   "source": [
    "import datetime\n",
    "\n",
    "# 1. Get the current date and time\n",
    "now = datetime.datetime.now()\n",
    "\n",
    "# 2. Define the desired format strings using strftime() codes:\n",
    "# Date Format: %d (day with leading zero), %m (month with leading zero), %Y (four-digit year)\n",
    "date_format = now.strftime(\"Date: %d-%m-%Y\")\n",
    "\n",
    "# Time Format: %H (hour 24-hour clock with leading zero), %M (minute with leading zero), %S (second with leading zero)\n",
    "time_format = now.strftime(\"Time: %H:%M:%S\")\n",
    "\n",
    "# 3. Print the results\n",
    "print(date_format)\n",
    "print(time_format)\n"
   ]
  }
 ],
 "metadata": {
  "kernelspec": {
   "display_name": "ashna",
   "language": "python",
   "name": "python3"
  },
  "language_info": {
   "codemirror_mode": {
    "name": "ipython",
    "version": 3
   },
   "file_extension": ".py",
   "mimetype": "text/x-python",
   "name": "python",
   "nbconvert_exporter": "python",
   "pygments_lexer": "ipython3",
   "version": "3.11.9"
  }
 },
 "nbformat": 4,
 "nbformat_minor": 5
}
