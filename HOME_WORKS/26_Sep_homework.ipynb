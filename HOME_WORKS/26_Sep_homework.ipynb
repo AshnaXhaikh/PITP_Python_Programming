{
 "cells": [
  {
   "cell_type": "markdown",
   "id": "ceee235b",
   "metadata": {},
   "source": [
    "# **Conditional Statements**"
   ]
  },
  {
   "cell_type": "markdown",
   "id": "b1d5b6cd",
   "metadata": {},
   "source": [
    "####  a) program to check if a person is eligible to vote "
   ]
  },
  {
   "cell_type": "code",
   "execution_count": 1,
   "id": "65dcdc5c",
   "metadata": {},
   "outputs": [
    {
     "name": "stdout",
     "output_type": "stream",
     "text": [
      "Since your age is 18,\n",
      "You are eligible to vote!\n"
     ]
    }
   ],
   "source": [
    "age = int(input(\"Enter your age in numbers: \"))\n",
    "print(f\"Since your age is {age},\")\n",
    "if age >= 18:\n",
    "    print(\"You are eligible to vote!\")\n",
    "else: \n",
    "    print(\"You are not eligible to vote!\")"
   ]
  },
  {
   "cell_type": "markdown",
   "id": "22f30537",
   "metadata": {},
   "source": [
    "#### b) Check Weather"
   ]
  },
  {
   "cell_type": "code",
   "execution_count": 2,
   "id": "5da02dff",
   "metadata": {},
   "outputs": [
    {
     "name": "stdout",
     "output_type": "stream",
     "text": [
      "Temperature = 20\n",
      "Normal Weather\n"
     ]
    }
   ],
   "source": [
    "temp = int(input(\"Enter temperature: \"))\n",
    "print(f\"Temperature = {temp}\")\n",
    "if temp >= 30:\n",
    "    print(\"It's Hot\")\n",
    "elif 20 <= temp <= 29:\n",
    "    print(\"Normal Weather\")\n",
    "else:\n",
    "    print(\"It's Cold\")\n"
   ]
  },
  {
   "cell_type": "markdown",
   "id": "cfe79560",
   "metadata": {},
   "source": [
    "#### c) program to check if a number is positive, negative, or zero. "
   ]
  },
  {
   "cell_type": "code",
   "execution_count": 3,
   "id": "9cf19140",
   "metadata": {},
   "outputs": [
    {
     "name": "stdout",
     "output_type": "stream",
     "text": [
      "The number is positive\n"
     ]
    }
   ],
   "source": [
    "# Check if no is Positive, Negative, or Zero\n",
    "num = float(input(\"Enter a number: \"))\n",
    "if num > 0:\n",
    "    print(\"The number is positive\")\n",
    "elif num < 0:\n",
    "    print(\"The number is negative\")\n",
    "else: \n",
    "    print(\"The number is zero\")"
   ]
  },
  {
   "cell_type": "markdown",
   "id": "3f912a15",
   "metadata": {},
   "source": [
    "#### d) Write a program to check if a year is a leap year. "
   ]
  },
  {
   "cell_type": "markdown",
   "id": "64cc2ff1",
   "metadata": {},
   "source": [
    "#### **Leap Year Logic**\n",
    "\n",
    "A year is considered a **leap year** if **any one** of the following conditions is true:\n",
    "\n",
    "1. **Divisible by 400**  \n",
    "   - `year % 400 == 0` → Leap year  \n",
    "\n",
    "2. **Divisible by 4 but NOT divisible by 100**  \n",
    "   - `(year % 4 == 0) and (year % 100 != 0)` → Leap year  \n",
    "\n",
    "Otherwise, it is **not** a leap year."
   ]
  },
  {
   "cell_type": "code",
   "execution_count": 4,
   "id": "b9002ae3",
   "metadata": {},
   "outputs": [
    {
     "name": "stdout",
     "output_type": "stream",
     "text": [
      "2020 is a leap year.\n"
     ]
    }
   ],
   "source": [
    "year = int(input(\"Enter a year: \"))\n",
    "if (year % 400 == 0) or ((year % 4 == 0) and (year % 100 != 0)):\n",
    "    print(f\"{year} is a leap year.\")\n",
    "else: \n",
    "    print(f\"{year} is not a leap year.\")"
   ]
  },
  {
   "cell_type": "markdown",
   "id": "c423e51e",
   "metadata": {},
   "source": [
    "#### e) Write a program to compare three numbers and print the largest. "
   ]
  },
  {
   "cell_type": "code",
   "execution_count": 5,
   "id": "0d920597",
   "metadata": {},
   "outputs": [
    {
     "name": "stdout",
     "output_type": "stream",
     "text": [
      "The largest number is: 10.0\n"
     ]
    }
   ],
   "source": [
    "# Input three numbers\n",
    "a = float(input(\"Enter first number: \"))\n",
    "b = float(input(\"Enter second number: \"))\n",
    "c = float(input(\"Enter third number: \"))\n",
    "\n",
    "if a >= b and a >= c:\n",
    "    largest = a\n",
    "elif b >= a and b >= c:\n",
    "    largest = b\n",
    "else: \n",
    "    largest = c\n",
    "\n",
    "print(f\"The largest number is: {largest}\")"
   ]
  },
  {
   "cell_type": "markdown",
   "id": "cd18ba4e",
   "metadata": {},
   "source": [
    "# **2. Loops**"
   ]
  },
  {
   "cell_type": "markdown",
   "id": "335948e5",
   "metadata": {},
   "source": [
    "#### a) Print the sum of numbers from 1 to 50. "
   ]
  },
  {
   "cell_type": "code",
   "execution_count": 6,
   "id": "0e10a2e9",
   "metadata": {},
   "outputs": [
    {
     "name": "stdout",
     "output_type": "stream",
     "text": [
      "Sum = 1275\n"
     ]
    }
   ],
   "source": [
    "sum = 0\n",
    "for i in range(1, 51):\n",
    "    sum += i\n",
    "print(\"Sum =\", sum)"
   ]
  },
  {
   "cell_type": "markdown",
   "id": "90ba26a5",
   "metadata": {},
   "source": [
    "#### b) Print all odd numbers between 1 and 20 using a for loop. "
   ]
  },
  {
   "cell_type": "code",
   "execution_count": 7,
   "id": "65aa5e61",
   "metadata": {},
   "outputs": [
    {
     "name": "stdout",
     "output_type": "stream",
     "text": [
      "Odd numbers b/w 1 to 20: \n",
      "1\n",
      "3\n",
      "5\n",
      "7\n",
      "9\n",
      "11\n",
      "13\n",
      "15\n",
      "17\n",
      "19\n"
     ]
    }
   ],
   "source": [
    "print(\"Odd numbers b/w 1 to 20: \")\n",
    "for i in range(1, 21):\n",
    "    if i % 2 != 0:\n",
    "        print(i)"
   ]
  },
  {
   "cell_type": "markdown",
   "id": "9893117b",
   "metadata": {},
   "source": [
    "#### c) Ask the user for a number and print its multiplication table up to 20. "
   ]
  },
  {
   "cell_type": "code",
   "execution_count": 8,
   "id": "f31a45d1",
   "metadata": {},
   "outputs": [
    {
     "name": "stdout",
     "output_type": "stream",
     "text": [
      "10 x 1 = 10\n",
      "10 x 2 = 20\n",
      "10 x 3 = 30\n",
      "10 x 4 = 40\n",
      "10 x 5 = 50\n",
      "10 x 6 = 60\n",
      "10 x 7 = 70\n",
      "10 x 8 = 80\n",
      "10 x 9 = 90\n",
      "10 x 10 = 100\n",
      "10 x 11 = 110\n",
      "10 x 12 = 120\n",
      "10 x 13 = 130\n",
      "10 x 14 = 140\n",
      "10 x 15 = 150\n",
      "10 x 16 = 160\n",
      "10 x 17 = 170\n",
      "10 x 18 = 180\n",
      "10 x 19 = 190\n",
      "10 x 20 = 200\n"
     ]
    }
   ],
   "source": [
    "num = int(input(\"enter a num: \"))\n",
    "\n",
    "for i in range(1, 21):\n",
    "    result = num * i\n",
    "    print(f\"{num} x {i} = {result}\")"
   ]
  },
  {
   "cell_type": "markdown",
   "id": "eaad1f19",
   "metadata": {},
   "source": [
    "#### d) factorial of a number\n",
    "The factorial of a non-negative integer n is the product of all positive integers from 1 up to n."
   ]
  },
  {
   "cell_type": "code",
   "execution_count": 9,
   "id": "89451222",
   "metadata": {},
   "outputs": [
    {
     "name": "stdout",
     "output_type": "stream",
     "text": [
      "10! = 3628800\n"
     ]
    }
   ],
   "source": [
    "num = int(input(\"Enter a number: \"))\n",
    "\n",
    "factorial = 1\n",
    "\n",
    "if num < 0:\n",
    "    print(\"factorial is not defined!\")\n",
    "\n",
    "elif num == 0 or num == 1:\n",
    "    print(f\"{num}! = {factorial}\")\n",
    "    \n",
    "else: \n",
    "    for i in range(1, num+1):\n",
    "        factorial *= i\n",
    "    print(f\"{num}! = {factorial}\")\n",
    "    "
   ]
  },
  {
   "cell_type": "markdown",
   "id": "b0c80ccc",
   "metadata": {},
   "source": [
    "#### e) Print numbers from 100 down to 1 using a while loop. "
   ]
  },
  {
   "cell_type": "code",
   "execution_count": 10,
   "id": "33b0fea5",
   "metadata": {},
   "outputs": [
    {
     "name": "stdout",
     "output_type": "stream",
     "text": [
      "100, 99, 98, 97, 96, 95, 94, 93, 92, 91, 90, 89, 88, 87, 86, 85, 84, 83, 82, 81, 80, 79, 78, 77, 76, 75, 74, 73, 72, 71, 70, 69, 68, 67, 66, 65, 64, 63, 62, 61, 60, 59, 58, 57, 56, 55, 54, 53, 52, 51, 50, 49, 48, 47, 46, 45, 44, 43, 42, 41, 40, 39, 38, 37, 36, 35, 34, 33, 32, 31, 30, 29, 28, 27, 26, 25, 24, 23, 22, 21, 20, 19, 18, 17, 16, 15, 14, 13, 12, 11, 10, 9, 8, 7, 6, 5, 4, 3, 2, 1, "
     ]
    }
   ],
   "source": [
    "i = 100\n",
    "while i > 0:\n",
    "    print(i, end=\", \")\n",
    "    i -= 1 "
   ]
  },
  {
   "cell_type": "markdown",
   "id": "2387842e",
   "metadata": {},
   "source": [
    "# **Break and Continue**"
   ]
  },
  {
   "cell_type": "markdown",
   "id": "e6e85e37",
   "metadata": {},
   "source": [
    "#### a) Write a program that prints numbers from 1 to 10 but stops completely when it reaches 8."
   ]
  },
  {
   "cell_type": "code",
   "execution_count": 11,
   "id": "8313e163",
   "metadata": {},
   "outputs": [
    {
     "name": "stdout",
     "output_type": "stream",
     "text": [
      "1\n",
      "2\n",
      "3\n",
      "4\n",
      "5\n",
      "6\n",
      "7\n",
      "8\n"
     ]
    }
   ],
   "source": [
    "for i in range(1, 11):\n",
    "    print(i)\n",
    "    if i == 8:\n",
    "        break"
   ]
  },
  {
   "cell_type": "markdown",
   "id": "e1615ba6",
   "metadata": {},
   "source": [
    "#### b) Write a program that prints numbers from 1 to 20 but skips multiples of 3."
   ]
  },
  {
   "cell_type": "code",
   "execution_count": 12,
   "id": "362c3cd0",
   "metadata": {},
   "outputs": [
    {
     "name": "stdout",
     "output_type": "stream",
     "text": [
      "1\n",
      "2\n",
      "4\n",
      "5\n",
      "7\n",
      "8\n",
      "10\n",
      "11\n",
      "13\n",
      "14\n",
      "16\n",
      "17\n",
      "19\n",
      "20\n"
     ]
    }
   ],
   "source": [
    "for i in range(1, 21):\n",
    "    if i % 3 != 0:\n",
    "        print(i)"
   ]
  },
  {
   "cell_type": "markdown",
   "id": "b0202c92",
   "metadata": {},
   "source": [
    "#### c) Write a program that keeps asking the user for numbers until the user enters 0 (use break). "
   ]
  },
  {
   "cell_type": "code",
   "execution_count": 13,
   "id": "ace3ef85",
   "metadata": {},
   "outputs": [
    {
     "name": "stdout",
     "output_type": "stream",
     "text": [
      "You entered: 19\n",
      "You entered: 5\n",
      "You entered: 9\n",
      "Exit the loop.\n"
     ]
    }
   ],
   "source": [
    "while True:\n",
    "    num = int(input(\"Enter a number (0 to exit): \"))\n",
    "\n",
    "    if num == 0:\n",
    "        print(\"Exit the loop.\")\n",
    "        break\n",
    "\n",
    "    print(f\"You entered: {num}\")"
   ]
  },
  {
   "cell_type": "markdown",
   "id": "b0248820",
   "metadata": {},
   "source": [
    "#### d) Print numbers from 1 to 15 but skip printing 7 and 13 (use continue). "
   ]
  },
  {
   "cell_type": "code",
   "execution_count": 14,
   "id": "c5098f06",
   "metadata": {},
   "outputs": [
    {
     "name": "stdout",
     "output_type": "stream",
     "text": [
      "1\n",
      "2\n",
      "3\n",
      "4\n",
      "5\n",
      "6\n",
      "\n",
      "8\n",
      "9\n",
      "10\n",
      "11\n",
      "12\n",
      "\n",
      "14\n",
      "15\n"
     ]
    }
   ],
   "source": [
    "for i in range(1, 16):\n",
    "    if i == 7 or i == 13:\n",
    "        print()\n",
    "        continue\n",
    "    print(i)\n"
   ]
  },
  {
   "cell_type": "markdown",
   "id": "38993b4e",
   "metadata": {},
   "source": [
    "The End!"
   ]
  }
 ],
 "metadata": {
  "kernelspec": {
   "display_name": "ashna",
   "language": "python",
   "name": "python3"
  },
  "language_info": {
   "codemirror_mode": {
    "name": "ipython",
    "version": 3
   },
   "file_extension": ".py",
   "mimetype": "text/x-python",
   "name": "python",
   "nbconvert_exporter": "python",
   "pygments_lexer": "ipython3",
   "version": "3.11.9"
  }
 },
 "nbformat": 4,
 "nbformat_minor": 5
}
