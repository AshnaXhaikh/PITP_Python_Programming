{
 "cells": [
  {
   "cell_type": "markdown",
   "id": "a33d9663",
   "metadata": {},
   "source": [
    "# **PITP Homework Questions (29-09-2025)**"
   ]
  },
  {
   "cell_type": "markdown",
   "id": "18b55182",
   "metadata": {},
   "source": [
    "### **a) Defining Functions**\n",
    "1. Write a function display_message() that prints \"I am learning Python functions\". "
   ]
  },
  {
   "cell_type": "code",
   "execution_count": 1,
   "id": "c2cefaab",
   "metadata": {},
   "outputs": [
    {
     "name": "stdout",
     "output_type": "stream",
     "text": [
      "I am learning Python functions.\n"
     ]
    }
   ],
   "source": [
    "def display_message():\n",
    "    print(\"I am learning Python functions.\")\n",
    "\n",
    "display_message()"
   ]
  },
  {
   "cell_type": "markdown",
   "id": "2ebb2c04",
   "metadata": {},
   "source": [
    "2. Write a function say_hello() that asks for the user’s name and prints \"Hello <name>\". "
   ]
  },
  {
   "cell_type": "code",
   "execution_count": 3,
   "id": "9772ace8",
   "metadata": {},
   "outputs": [
    {
     "name": "stdout",
     "output_type": "stream",
     "text": [
      "Hello Ashna\n"
     ]
    }
   ],
   "source": [
    "def say_hello(name):\n",
    "    print(f\"Hello {name}\")\n",
    "\n",
    "say_hello(\"Ashna\")\n"
   ]
  },
  {
   "cell_type": "markdown",
   "id": "5198c6e2",
   "metadata": {},
   "source": [
    "# **b. Parameters**"
   ]
  },
  {
   "cell_type": "markdown",
   "id": "da9a122a",
   "metadata": {},
   "source": [
    "1. Write a function that takes two numbers and prints their difference. "
   ]
  },
  {
   "cell_type": "code",
   "execution_count": 4,
   "metadata": {},
   "outputs": [
    {
     "name": "stdout",
     "output_type": "stream",
     "text": [
      "5 - 9 = -4\n"
     ]
    }
   ],
   "source": [
    "def difference(a, b):\n",
    "    print(f\"{a} - {b} = {a-b}\")\n",
    "\n",
    "difference(5, 9)"
   ]
  },
  {
   "cell_type": "markdown",
   "id": "484953b3",
   "metadata": {},
   "source": [
    "2. Write a function that takes name and age as parameters and prints: \n",
    "\"My name is Yahya and I am 20 years old.\" "
   ]
  },
  {
   "cell_type": "code",
   "execution_count": 5,
   "metadata": {},
   "outputs": [
    {
     "name": "stdout",
     "output_type": "stream",
     "text": [
      "My name is Ashna and I am 18 years old.\n"
     ]
    }
   ],
   "source": [
    "def Name_Age(name, age):\n",
    "    print(f\"My name is {name} and I am {age} years old.\")\n",
    "\n",
    "Name_Age(\"Ashna\", 18)"
   ]
  },
  {
   "cell_type": "markdown",
   "id": "67673b44",
   "metadata": {},
   "source": [
    "# **c. Return Values**"
   ]
  },
  {
   "cell_type": "markdown",
   "id": "ece9f86c",
   "metadata": {},
   "source": [
    "1. Write a function that takes a number and returns its square. "
   ]
  },
  {
   "cell_type": "code",
   "execution_count": 6,
   "id": "18899045",
   "metadata": {},
   "outputs": [
    {
     "data": {
      "text/plain": [
       "16"
      ]
     },
     "execution_count": 6,
     "metadata": {},
     "output_type": "execute_result"
    }
   ],
   "source": [
    "def square(num):\n",
    "    sq = num*num\n",
    "    return sq\n",
    "\n",
    "square(4)"
   ]
  },
  {
   "cell_type": "markdown",
   "id": "ff184846",
   "metadata": {},
   "source": [
    "2. Write a function that takes three numbers and returns their average. "
   ]
  },
  {
   "cell_type": "code",
   "execution_count": 8,
   "id": "27b212b6",
   "metadata": {},
   "outputs": [
    {
     "data": {
      "text/plain": [
       "2.0"
      ]
     },
     "execution_count": 8,
     "metadata": {},
     "output_type": "execute_result"
    }
   ],
   "source": [
    "def average(a, b, c):\n",
    "    sum = a + b + c\n",
    "    return sum / 3\n",
    "\n",
    "average(2, 2, 2)"
   ]
  },
  {
   "cell_type": "code",
   "execution_count": 10,
   "id": "7c048970",
   "metadata": {},
   "outputs": [
    {
     "name": "stdout",
     "output_type": "stream",
     "text": [
      "13 is Prime.\n"
     ]
    }
   ],
   "source": [
    "def is_prime(n):\n",
    "    if n <= 1:\n",
    "        return False\n",
    "    \n",
    "    #Check divisibility from 2 to n-1\n",
    "    for i in range(2, n):\n",
    "        if n % i == 0:\n",
    "            return False\n",
    "    return True\n",
    "\n",
    "n = 13\n",
    "\n",
    "def Prime(num)\n",
    "if (is_prime(n)):\n",
    "    print(f\"{n} is Prime.\")\n",
    "else:\n",
    "    print(f\"{n} is not Prime.\")\n"
   ]
  },
  {
   "cell_type": "markdown",
   "id": "a57b764f",
   "metadata": {},
   "source": [
    "# **d. Variable Scope**"
   ]
  },
  {
   "cell_type": "markdown",
   "id": "44c84a5c",
   "metadata": {},
   "source": [
    "1. Write a program that shows the difference between local and global variable. "
   ]
  },
  {
   "cell_type": "code",
   "execution_count": null,
   "id": "c7c271ba",
   "metadata": {},
   "outputs": [
    {
     "name": "stdout",
     "output_type": "stream",
     "text": [
      "Inside function:\n",
      "Local: I am a local variable\n",
      "Global: I am a global variable\n",
      "Outside function:\n",
      "Global: I am a global variable\n"
     ]
    }
   ],
   "source": [
    "# Global variable\n",
    "global_var = 'I am a global variable'\n",
    "\n",
    "def show_scope():\n",
    "    local_var = 'I am a local variable'  # Local variable\n",
    "    print('Inside function:')\n",
    "    print('Local:', local_var)\n",
    "    print('Global:', global_var)\n",
    "\n",
    "show_scope()\n",
    "print('Outside function:')\n",
    "# local_var is not accessible here, will cause error if used\n",
    "print('Global:', global_var)\n"
   ]
  },
  {
   "cell_type": "code",
   "execution_count": 22,
   "id": "703fb03d",
   "metadata": {},
   "outputs": [
    {
     "name": "stdout",
     "output_type": "stream",
     "text": [
      "local count: 5\n",
      "global count: 5\n"
     ]
    }
   ],
   "source": [
    "count = 0\n",
    "def update():\n",
    "    global count\n",
    "    for i in range(5):\n",
    "        count += 1\n",
    "    \n",
    "    print(\"local count:\", count)\n",
    "update()\n",
    "print(\"global count:\", count)\n"
   ]
  }
 ],
 "metadata": {
  "kernelspec": {
   "display_name": "ashna",
   "language": "python",
   "name": "python3"
  },
  "language_info": {
   "codemirror_mode": {
    "name": "ipython",
    "version": 3
   },
   "file_extension": ".py",
   "mimetype": "text/x-python",
   "name": "python",
   "nbconvert_exporter": "python",
   "pygments_lexer": "ipython3",
   "version": "3.11.9"
  }
 },
 "nbformat": 4,
 "nbformat_minor": 5
}
