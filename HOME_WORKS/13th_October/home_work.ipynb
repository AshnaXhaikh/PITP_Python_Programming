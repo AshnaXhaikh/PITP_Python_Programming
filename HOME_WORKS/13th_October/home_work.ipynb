{
  "cells": [
    {
      "cell_type": "markdown",
      "id": "67bdb387",
      "metadata": {
        "id": "67bdb387"
      },
      "source": [
        "## **a. Key Value Pairs**"
      ]
    },
    {
      "cell_type": "markdown",
      "id": "a503a840",
      "metadata": {
        "id": "a503a840"
      },
      "source": [
        "1. Create a dictionary of 3 friends and their favorite colors. Print each friend’s name with\n",
        "their color."
      ]
    },
    {
      "cell_type": "code",
      "execution_count": 1,
      "id": "c1bfe0d6",
      "metadata": {
        "colab": {
          "base_uri": "https://localhost:8080/"
        },
        "id": "c1bfe0d6",
        "outputId": "18c37755-f03e-4c01-9b49-42b647784a5a"
      },
      "outputs": [
        {
          "output_type": "stream",
          "name": "stdout",
          "text": [
            "Zara's favorite color is Blue.\n",
            "Sara's favorite color is Green.\n",
            "Aisha's favorite color is Red.\n"
          ]
        }
      ],
      "source": [
        "# Create a dictionary of friends and their favorite colors\n",
        "friends_colors = {\n",
        "    \"Zara\": \"Blue\",\n",
        "    \"Sara\": \"Green\",\n",
        "    \"Aisha\": \"Red\"\n",
        "}\n",
        "for frnd, clr in friends_colors.items():\n",
        "    print(f\"{frnd}'s favorite color is {clr}.\")"
      ]
    },
    {
      "cell_type": "markdown",
      "id": "ea02438d",
      "metadata": {
        "id": "ea02438d"
      },
      "source": [
        "2. Add a new key-value pair to your dictionary and then remove one existing key."
      ]
    },
    {
      "cell_type": "code",
      "execution_count": 2,
      "id": "00dcb917",
      "metadata": {
        "colab": {
          "base_uri": "https://localhost:8080/"
        },
        "id": "00dcb917",
        "outputId": "e5eb8d49-6d6c-4a87-dbbc-549f82535b43"
      },
      "outputs": [
        {
          "output_type": "stream",
          "name": "stdout",
          "text": [
            "Updated dictionary: {'Zara': 'Blue', 'Aisha': 'Red', 'Alice': 'Black'}\n"
          ]
        }
      ],
      "source": [
        "friends_colors['Alice'] = \"Black\" # adding a new key-value pair\n",
        "\n",
        "del friends_colors[\"Sara\"]\n",
        "\n",
        "print(f\"Updated dictionary: {friends_colors}\")\n",
        "\n"
      ]
    },
    {
      "cell_type": "markdown",
      "id": "98253aa7",
      "metadata": {
        "id": "98253aa7"
      },
      "source": [
        "3. Write a program to find the total number of keys in a dictionary."
      ]
    },
    {
      "cell_type": "code",
      "execution_count": 3,
      "metadata": {
        "colab": {
          "base_uri": "https://localhost:8080/"
        },
        "id": "BsdMbfodr-Xs",
        "outputId": "63ea9afb-0406-4229-917e-7b70ad731054"
      },
      "outputs": [
        {
          "output_type": "stream",
          "name": "stdout",
          "text": [
            "Total number of keys: 3\n"
          ]
        }
      ],
      "source": [
        "total_keys = len(friends_colors)\n",
        "print(f\"Total number of keys: {total_keys}\")"
      ],
      "id": "BsdMbfodr-Xs"
    },
    {
      "cell_type": "markdown",
      "id": "846fe032",
      "metadata": {
        "id": "846fe032"
      },
      "source": [
        "## **b. Dictionary Methods**"
      ]
    },
    {
      "cell_type": "markdown",
      "id": "69b67a55",
      "metadata": {
        "id": "69b67a55"
      },
      "source": [
        "1. Create a dictionary of countries and capitals. Use .keys() to print all country names."
      ]
    },
    {
      "cell_type": "code",
      "execution_count": 4,
      "id": "fbcb3b2a",
      "metadata": {
        "colab": {
          "base_uri": "https://localhost:8080/"
        },
        "id": "fbcb3b2a",
        "outputId": "4f8ba43f-d289-4de2-fd8a-74be41c2a0fd"
      },
      "outputs": [
        {
          "output_type": "stream",
          "name": "stdout",
          "text": [
            "Countries: dict_keys(['Pakistan', 'France', 'Japan', 'Canada'])\n"
          ]
        }
      ],
      "source": [
        "countries = {\n",
        "    \"Pakistan\": \"Islamabad\",\n",
        "    \"France\": \"Paris\",\n",
        "    \"Japan\": \"Tokyo\",\n",
        "    \"Canada\": \"Ottawa\"\n",
        "}\n",
        "\n",
        "# print all country names\n",
        "print(f\"Countries: {countries.keys()}\")"
      ]
    },
    {
      "cell_type": "markdown",
      "id": "96335ab1",
      "metadata": {
        "id": "96335ab1"
      },
      "source": [
        "2. Write a program to remove an item using .pop() and then clear the dictionary using\n",
        ".clear()."
      ]
    },
    {
      "cell_type": "code",
      "execution_count": 5,
      "metadata": {
        "colab": {
          "base_uri": "https://localhost:8080/"
        },
        "id": "ptDd2AZbr-Xv",
        "outputId": "477ad1be-844c-4762-f3c3-67e7a8f11211"
      },
      "outputs": [
        {
          "output_type": "stream",
          "name": "stdout",
          "text": [
            "After removing France: {'Pakistan': 'Islamabad', 'Japan': 'Tokyo', 'Canada': 'Ottawa'}\n",
            "After clearing: {}\n"
          ]
        }
      ],
      "source": [
        "# remove one country using pop()\n",
        "countries.pop(\"France\")\n",
        "print(f\"After removing France: {countries}\")\n",
        "\n",
        "# clear all items\n",
        "countries.clear()\n",
        "print(f\"After clearing: {countries}\")"
      ],
      "id": "ptDd2AZbr-Xv"
    },
    {
      "cell_type": "markdown",
      "id": "df178d99",
      "metadata": {
        "id": "df178d99"
      },
      "source": [
        "3. Create a dictionary of student marks and use .get() to safely access a key that may not\n",
        "exist."
      ]
    },
    {
      "cell_type": "code",
      "execution_count": 8,
      "metadata": {
        "colab": {
          "base_uri": "https://localhost:8080/"
        },
        "id": "xB6LoAtRr-Xv",
        "outputId": "c919a613-4ebf-4685-8836-8b9004abb368"
      },
      "outputs": [
        {
          "output_type": "stream",
          "name": "stdout",
          "text": [
            "Alice's mark: Not Found\n",
            "Zara's mark: 95\n"
          ]
        }
      ],
      "source": [
        "std_marks = {\n",
        "    \"Sara\": 85,\n",
        "    \"Zara\": 95,\n",
        "    \"Alisha\": 90\n",
        "}\n",
        "\n",
        "# accessing a key that does not exists\n",
        "print(f\"Alice's mark: {std_marks.get(\"Alice\", \"Not Found\")}\")\n",
        "print(f\"Zara's mark: {std_marks.get(\"Zara\")}\")"
      ],
      "id": "xB6LoAtRr-Xv"
    },
    {
      "cell_type": "markdown",
      "id": "6227ed0c",
      "metadata": {
        "id": "6227ed0c"
      },
      "source": [
        "## **c. Set Operations**"
      ]
    },
    {
      "cell_type": "markdown",
      "id": "f423592b",
      "metadata": {
        "id": "f423592b"
      },
      "source": [
        "1. Create two sets of even and odd numbers (1–10). Find their union and intersection."
      ]
    },
    {
      "cell_type": "code",
      "execution_count": 11,
      "id": "c87b8058",
      "metadata": {
        "colab": {
          "base_uri": "https://localhost:8080/"
        },
        "id": "c87b8058",
        "outputId": "dfbe0f68-efe7-4c58-efa8-d299c90b6823"
      },
      "outputs": [
        {
          "output_type": "stream",
          "name": "stdout",
          "text": [
            "Union: {1, 2, 3, 4, 5, 6, 7, 8, 9, 10}\n",
            "Intersection: set()\n"
          ]
        }
      ],
      "source": [
        "even = {n for n in range(1, 11) if n % 2 == 0}\n",
        "odd = {n for n in range(1, 11) if n % 2 != 0}\n",
        "\n",
        "union = even.union(odd)\n",
        "intersection = even.intersection(odd)\n",
        "\n",
        "print(f\"Union: {union}\")\n",
        "print(f\"Intersection: {intersection}\")"
      ]
    },
    {
      "cell_type": "markdown",
      "id": "c6315d83",
      "metadata": {
        "id": "c6315d83"
      },
      "source": [
        "2. Create a set of your favorite fruits and another of tropical fruits. Find the difference."
      ]
    },
    {
      "cell_type": "code",
      "execution_count": 15,
      "id": "dde9818f",
      "metadata": {
        "colab": {
          "base_uri": "https://localhost:8080/"
        },
        "id": "dde9818f",
        "outputId": "b9e853d0-a7e1-443e-c1dd-8a6d962040e8"
      },
      "outputs": [
        {
          "output_type": "stream",
          "name": "stdout",
          "text": [
            "Set of Favorite Fruits (F): {'appla', 'orange', 'mango', 'pineapple', 'kiwi'}\n",
            "Set of Tropical Fruits (T): {'coconut', 'pineapple', 'papaya'}\n",
            "\n",
            "Difference (F - T): {'appla', 'orange', 'mango', 'kiwi'}\n"
          ]
        }
      ],
      "source": [
        "fav_fruits = {\"appla\", \"orange\", \"mango\", \"kiwi\", \"pineapple\"}\n",
        "tropical = {\"pineapple\", \"papaya\", \"coconut\"}\n",
        "\n",
        "# find the difference (F - T)\n",
        "diff = fav_fruits.difference(tropical)\n",
        "\n",
        "# Print the results\n",
        "print(\"Set of Favorite Fruits (F):\", fav_fruits)\n",
        "print(\"Set of Tropical Fruits (T):\", tropical)\n",
        "print(\"\\nDifference (F - T):\", diff)"
      ]
    },
    {
      "cell_type": "markdown",
      "id": "79c8728d",
      "metadata": {
        "id": "79c8728d"
      },
      "source": [
        "3. Write a program to check if a number exists in a set."
      ]
    },
    {
      "cell_type": "code",
      "execution_count": null,
      "id": "3d3d0f71",
      "metadata": {
        "id": "3d3d0f71"
      },
      "outputs": [],
      "source": [
        "nums = {1, 2, 3, 4, 5}\n",
        "if 7 in nums:\n",
        "  print(f\"number exists!\")\n",
        "else:\n",
        "  print(\"number not exists\")"
      ]
    },
    {
      "cell_type": "markdown",
      "id": "a3ed99e1",
      "metadata": {
        "id": "a3ed99e1"
      },
      "source": [
        "## **d. Use Cases for Each Data Structure**"
      ]
    },
    {
      "cell_type": "markdown",
      "id": "ac4659e9",
      "metadata": {
        "id": "ac4659e9"
      },
      "source": [
        "1. Use a list to store the daily temperatures of a week and find the average."
      ]
    },
    {
      "cell_type": "code",
      "execution_count": 16,
      "id": "ebaeb693",
      "metadata": {
        "colab": {
          "base_uri": "https://localhost:8080/"
        },
        "id": "ebaeb693",
        "outputId": "088f6867-bea9-4e1d-db4e-9f9c96ce8861"
      },
      "outputs": [
        {
          "output_type": "stream",
          "name": "stdout",
          "text": [
            "Average Temperature: 23.71\n"
          ]
        }
      ],
      "source": [
        "# Store the daily temperatures for a week (in Celsius, for example)\n",
        "daily_temps = [22.5, 23.0, 21.5, 24.0, 25.5, 26.0, 23.5]\n",
        "\n",
        "\n",
        "# Calculate the average temperature\n",
        "avg_temp = sum(daily_temps) / len(daily_temps)\n",
        "\n",
        "# Print the results\n",
        "print(f\"Average Temperature: {avg_temp:.2f}\")"
      ]
    },
    {
      "cell_type": "markdown",
      "id": "5f73f8a0",
      "metadata": {
        "id": "5f73f8a0"
      },
      "source": [
        "2. Use a dictionary to store a product’s name, price, and quantity, then print all details."
      ]
    },
    {
      "cell_type": "code",
      "execution_count": 19,
      "id": "ddc4cd2f",
      "metadata": {
        "colab": {
          "base_uri": "https://localhost:8080/"
        },
        "id": "ddc4cd2f",
        "outputId": "cd40af08-fd8c-44bb-bc1c-723dbab72a46"
      },
      "outputs": [
        {
          "output_type": "stream",
          "name": "stdout",
          "text": [
            "--- Product Dictionary ---\n",
            "{'name': 'Wireless Headphones', 'price': 79.99, 'quantity': 150}\n",
            "\n",
            "--- Formatted Product Details ---\n",
            "Product Name: Wireless Headphones\n",
            "Price: $79.99\n",
            "Quantity in Stock: 150\n",
            "\n",
            "--- Details by Iteration (Key: Value) ---\n",
            "Name: Wireless Headphones\n",
            "Price: 79.99\n",
            "Quantity: 150\n"
          ]
        }
      ],
      "source": [
        "# Create a dictionary to store the product details\n",
        "product_details = {\n",
        "    \"name\": \"Wireless Headphones\",\n",
        "    \"price\": 79.99,\n",
        "    \"quantity\": 150\n",
        "}\n",
        "# 1. Print all details by printing the dictionary itself\n",
        "print(\"--- Product Dictionary ---\")\n",
        "print(product_details)\n",
        "\n",
        "# 2. Print details in a formatted, readable way\n",
        "print(\"\\n--- Formatted Product Details ---\")\n",
        "print(f\"Product Name: {product_details['name']}\")\n",
        "print(f\"Price: ${product_details['price']:.2f}\")\n",
        "print(f\"Quantity in Stock: {product_details['quantity']}\")\n",
        "\n",
        "# 3. Print details by iterating through the key-value pairs\n",
        "print(\"\\n--- Details by Iteration (Key: Value) ---\")\n",
        "for key, value in product_details.items():\n",
        "    # Capitalize the key for better readability in the output\n",
        "    print(f\"{key.capitalize()}: {value}\")"
      ]
    },
    {
      "cell_type": "markdown",
      "id": "f7d1c0d9",
      "metadata": {
        "id": "f7d1c0d9"
      },
      "source": [
        "3. Use a set to remove duplicate email addresses entered by a user."
      ]
    },
    {
      "cell_type": "code",
      "source": [
        "# The list of email addresses entered by the user (with duplicates)\n",
        "email_list_with_duplicates = [\n",
        "    \"user1@example.com\",\n",
        "    \"test@company.net\",\n",
        "    \"user1@example.com\",  # Duplicate\n",
        "    \"info@contact.org\",\n",
        "    \"admin@company.net\",\n",
        "    \"test@company.net\"    # Duplicate\n",
        "]\n",
        "\n",
        "print(\" Original List of Emails (with duplicates)\")\n",
        "print(email_list_with_duplicates)\n",
        "print(f\"Total entries: {len(email_list_with_duplicates)}\")\n",
        "\n",
        "# Convert the list to a set to automatically remove all duplicates\n",
        "unique_emails_set = set(email_list_with_duplicates)\n",
        "\n",
        "# Convert the set back to a list if an ordered sequence is required\n",
        "unique_emails_list = list(unique_emails_set)\n",
        "\n",
        "# Print the results\n",
        "print(\"\\nUnique Emails (as a List) \")\n",
        "print(unique_emails_list)\n",
        "print(f\"Total unique entries: {len(unique_emails_list)}\")"
      ],
      "metadata": {
        "colab": {
          "base_uri": "https://localhost:8080/"
        },
        "id": "zpGakOO9zv38",
        "outputId": "c5b1681d-37fa-4f3e-d964-fa95423f1319"
      },
      "id": "zpGakOO9zv38",
      "execution_count": 21,
      "outputs": [
        {
          "output_type": "stream",
          "name": "stdout",
          "text": [
            " Original List of Emails (with duplicates)\n",
            "['user1@example.com', 'test@company.net', 'user1@example.com', 'info@contact.org', 'admin@company.net', 'test@company.net']\n",
            "Total entries: 6\n",
            "\n",
            "Unique Emails (as a List) \n",
            "['info@contact.org', 'test@company.net', 'admin@company.net', 'user1@example.com']\n",
            "Total unique entries: 4\n"
          ]
        }
      ]
    }
  ],
  "metadata": {
    "kernelspec": {
      "display_name": "ashna",
      "language": "python",
      "name": "python3"
    },
    "language_info": {
      "name": "python",
      "version": "3.11.9"
    },
    "colab": {
      "provenance": []
    }
  },
  "nbformat": 4,
  "nbformat_minor": 5
}