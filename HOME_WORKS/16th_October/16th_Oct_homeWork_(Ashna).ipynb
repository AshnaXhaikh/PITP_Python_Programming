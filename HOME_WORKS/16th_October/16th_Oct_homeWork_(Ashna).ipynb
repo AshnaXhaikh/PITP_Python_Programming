{
 "cells": [
  {
   "cell_type": "markdown",
   "id": "9ed1da82",
   "metadata": {},
   "source": [
    "## **PITP Homework Questions (16-10-2025) by Ashna Imtiaz**"
   ]
  },
  {
   "cell_type": "markdown",
   "id": "b8608d85",
   "metadata": {},
   "source": [
    "### **Topic 1: Defining Classes**"
   ]
  },
  {
   "cell_type": "markdown",
   "id": "2cbb3c45",
   "metadata": {},
   "source": [
    "1. Define a class City with an attribute name and display it."
   ]
  },
  {
   "cell_type": "code",
   "execution_count": null,
   "id": "b4271ea6",
   "metadata": {},
   "outputs": [
    {
     "name": "stdout",
     "output_type": "stream",
     "text": [
      "My city name is Mirpurkhas\n"
     ]
    }
   ],
   "source": [
    "class City:\n",
    "    def __init__(self, name):\n",
    "        self.name = name\n",
    "\n",
    "# Create an object and display it\n",
    "myCity = City(\"Mirpurkhas\")\n",
    "print(f\"My city name is {myCity.name}\")"
   ]
  },
  {
   "cell_type": "markdown",
   "id": "24b22ff3",
   "metadata": {},
   "source": [
    "2. Define a class Fruit with an attribute color. Create two objects with different colors."
   ]
  },
  {
   "cell_type": "code",
   "execution_count": null,
   "metadata": {},
   "outputs": [
    {
     "name": "stdout",
     "output_type": "stream",
     "text": [
      "My favorite colors are Pink and Black.\n"
     ]
    }
   ],
   "source": [
    "class Fruit:\n",
    "    def __init__(self, color):\n",
    "        self.color = color\n",
    "\n",
    "\n",
    "pink = Fruit(\"Pink\")\n",
    "black = Fruit(\"Black\")\n",
    "\n",
    "print(f\"My favorite colors are {pink.color} and {black.color}.\")"
   ]
  },
  {
   "cell_type": "markdown",
   "id": "98f58a40",
   "metadata": {},
   "source": [
    "3. Create a class Car with a method start() that prints “Car Started”. "
   ]
  },
  {
   "cell_type": "code",
   "execution_count": null,
   "id": "b2ea2153",
   "metadata": {},
   "outputs": [
    {
     "name": "stdout",
     "output_type": "stream",
     "text": [
      "Car Started!\n",
      "Car Started!\n"
     ]
    }
   ],
   "source": [
    "class Car:\n",
    "    def start(self):\n",
    "        print(\"Car Started!\")\n",
    "\n",
    "car = Car()\n",
    "car.start()\n",
    "\n",
    "# or we can also do like this \n",
    "Car().start()"
   ]
  },
  {
   "cell_type": "markdown",
   "id": "9a789032",
   "metadata": {},
   "source": [
    "## **Topic 2: Creating Objects**"
   ]
  },
  {
   "cell_type": "markdown",
   "id": "79e31de9",
   "metadata": {},
   "source": [
    "1. Create a class Pen with an attribute color. Create two pen objects and display their colors. "
   ]
  },
  {
   "cell_type": "code",
   "execution_count": null,
   "id": "b92ed88f",
   "metadata": {},
   "outputs": [
    {
     "name": "stdout",
     "output_type": "stream",
     "text": [
      "1st pen color: Black\n",
      "2nd pen color: Blue\n"
     ]
    }
   ],
   "source": [
    "\n",
    "class Pen:\n",
    "    def __init__(self, color):\n",
    "        self.color = color\n",
    "\n",
    "\n",
    "pen1 = Pen(\"Black\")\n",
    "pen2 = Pen(\"Blue\")\n",
    "\n",
    "print(f\"1st pen color: {pen1.color}\")\n",
    "print(f\"2nd pen color: {pen2.color}\")"
   ]
  },
  {
   "cell_type": "markdown",
   "id": "610a5264",
   "metadata": {},
   "source": [
    "2. Create a class Teacher with attributes name and subject. Create two objects and print \n",
    "details. "
   ]
  },
  {
   "cell_type": "code",
   "execution_count": 17,
   "id": "44b2817c",
   "metadata": {},
   "outputs": [
    {
     "name": "stdout",
     "output_type": "stream",
     "text": [
      "Ayesha teaches English.\n"
     ]
    }
   ],
   "source": [
    "class Teacher:\n",
    "    def __init__(self, name, subject):\n",
    "        self.name = name\n",
    "        self.subject = subject\n",
    "    \n",
    "info= Teacher(\"Ayesha\", \"English\")\n",
    "\n",
    "print(f\"{info.name} teaches {info.subject}.\")"
   ]
  },
  {
   "cell_type": "markdown",
   "id": "a02dc39e",
   "metadata": {},
   "source": [
    "3. Create a class Mobile with attributes brand and price. Print details of two different \n",
    "mobiles."
   ]
  },
  {
   "cell_type": "code",
   "execution_count": null,
   "id": "ae47c55d",
   "metadata": {},
   "outputs": [
    {
     "name": "stdout",
     "output_type": "stream",
     "text": [
      "Brand: Vivo \n",
      "Price: 35000\n",
      "\n",
      "Brand: Samsung \n",
      "Price: 50000\n"
     ]
    }
   ],
   "source": [
    "class Mobile:\n",
    "    def __init__(self, brand, price):\n",
    "        self.brand = brand\n",
    "        self.price = price\n",
    "    \n",
    "    # method to display mobile details\n",
    "    def details(self):\n",
    "        print(f\"Brand: {self.brand} \\nPrice: {self.price}\")\n",
    "\n",
    "vivo = Mobile(\"Vivo\", 35000)\n",
    "samsung = Mobile(\"Samsung\", 50000)\n",
    "\n",
    "vivo.details()\n",
    "print()\n",
    "samsung.details()"
   ]
  },
  {
   "cell_type": "markdown",
   "id": "df6021b1",
   "metadata": {},
   "source": [
    "## **Topic 3: Understanding self**"
   ]
  },
  {
   "cell_type": "markdown",
   "id": "cdf3ba33",
   "metadata": {},
   "source": [
    "1. Create a class Dog with a method bark() that prints the dog’s name using self."
   ]
  },
  {
   "cell_type": "code",
   "execution_count": 22,
   "id": "45bd52a1",
   "metadata": {},
   "outputs": [
    {
     "name": "stdout",
     "output_type": "stream",
     "text": [
      "Dog's name: Baymax\n"
     ]
    }
   ],
   "source": [
    "class Dog:\n",
    "    def __init__(self, name):\n",
    "        self.name = name\n",
    "\n",
    "    def bark(self):\n",
    "        print(f\"Dog's name: {self.name}\")\n",
    "\n",
    "baymax = Dog(\"Baymax\")\n",
    "baymax.bark()"
   ]
  },
  {
   "cell_type": "markdown",
   "id": "675bb2ed",
   "metadata": {},
   "source": [
    "2. Create a class Player with attributes name and game, and a method intro() using self. "
   ]
  },
  {
   "cell_type": "code",
   "execution_count": 23,
   "id": "2f7499b2",
   "metadata": {},
   "outputs": [
    {
     "name": "stdout",
     "output_type": "stream",
     "text": [
      "Player: Ronaldo \n",
      "Game: Football\n"
     ]
    }
   ],
   "source": [
    "class Player:\n",
    "    def __init__(self, name, game):\n",
    "        self.name = name\n",
    "        self.game = game\n",
    "    \n",
    "    def intro(self):\n",
    "        print(f\"Player: {self.name} \\nGame: {self.game}\")\n",
    "\n",
    "fav_player = Player(\"Ronaldo\", \"Football\")\n",
    "fav_player.intro()"
   ]
  },
  {
   "cell_type": "markdown",
   "id": "f92cbab9",
   "metadata": {},
   "source": [
    "3. Write a class House with address as an attribute. Create two objects and print both \n",
    "addresses using self."
   ]
  },
  {
   "cell_type": "code",
   "execution_count": 24,
   "id": "e6d638f4",
   "metadata": {},
   "outputs": [
    {
     "name": "stdout",
     "output_type": "stream",
     "text": [
      "Address: JamnaDas Colony\n"
     ]
    }
   ],
   "source": [
    "class House:\n",
    "    def __init__(self, address):\n",
    "        self.address = address\n",
    "\n",
    "    def detail(self):\n",
    "        print(f\"Address: {self.address}\")\n",
    "\n",
    "myAddress = House(\"JamnaDas Colony\")\n",
    "myAddress.detail()"
   ]
  },
  {
   "cell_type": "markdown",
   "id": "3c5998c5",
   "metadata": {},
   "source": [
    "## **Topic 4: Attributes and Methods**"
   ]
  },
  {
   "cell_type": "markdown",
   "id": "40db970d",
   "metadata": {},
   "source": [
    "1. Create a class Circle with an attribute radius and a method to calculate area. "
   ]
  },
  {
   "cell_type": "code",
   "execution_count": 27,
   "id": "bc4018aa",
   "metadata": {},
   "outputs": [
    {
     "name": "stdout",
     "output_type": "stream",
     "text": [
      "Area of Circle: 153.94\n"
     ]
    }
   ],
   "source": [
    "class Circle:\n",
    "\n",
    "    def __init__(self, radius):\n",
    "        self.radius = radius\n",
    "    \n",
    "    def area(self):\n",
    "        area = 3.1417 * (self.radius**2)\n",
    "        print(f\"Area of Circle: {area:.2f}\")\n",
    "\n",
    "area = Circle(7)\n",
    "area.area()"
   ]
  },
  {
   "cell_type": "markdown",
   "id": "958ffca5",
   "metadata": {},
   "source": [
    "2. Create a class Student with attributes name and marks and a method to display details. "
   ]
  },
  {
   "cell_type": "code",
   "execution_count": 28,
   "id": "99b6b1a8",
   "metadata": {},
   "outputs": [
    {
     "name": "stdout",
     "output_type": "stream",
     "text": [
      "Student: Ashna \n",
      "Obtained Marks: 100\n"
     ]
    }
   ],
   "source": [
    "class Student:\n",
    "    def __init__(self, name, marks):\n",
    "        self.name = name\n",
    "        self.marks = marks\n",
    "\n",
    "    def details(self):\n",
    "        print(f\"Student: {self.name} \\nObtained Marks: {self.marks}\")\n",
    "\n",
    "Std1 = Student(\"Ashna\", 100)\n",
    "Std1.details()"
   ]
  },
  {
   "cell_type": "markdown",
   "id": "911d4a84",
   "metadata": {},
   "source": [
    "3. Create a class Calculator with two numbers and methods for addition and subtraction. "
   ]
  },
  {
   "cell_type": "code",
   "execution_count": 29,
   "id": "0120547c",
   "metadata": {},
   "outputs": [
    {
     "name": "stdout",
     "output_type": "stream",
     "text": [
      "18 + 20 = 38\n",
      "20 - 18 = 2\n"
     ]
    }
   ],
   "source": [
    "class Calculator:\n",
    "    def __init__(self, n1, n2):\n",
    "        self.n1 = n1\n",
    "        self.n2 = n2\n",
    "    \n",
    "    def addition(self):\n",
    "        result = self.n1 + self.n2\n",
    "        print(f\"{self.n1} + {self.n2} = {result}\")\n",
    "\n",
    "    def subtraction(self):\n",
    "        result = self.n1 - self.n2\n",
    "        print(f\"{self.n1} - {self.n2} = {result}\")\n",
    "\n",
    "add = Calculator(18, 20)\n",
    "sub = Calculator(20, 18)\n",
    "\n",
    "add.addition()\n",
    "sub.subtraction()"
   ]
  },
  {
   "cell_type": "code",
   "execution_count": null,
   "id": "ec9306fc",
   "metadata": {},
   "outputs": [],
   "source": []
  }
 ],
 "metadata": {
  "kernelspec": {
   "display_name": "ashna",
   "language": "python",
   "name": "python3"
  },
  "language_info": {
   "codemirror_mode": {
    "name": "ipython",
    "version": 3
   },
   "file_extension": ".py",
   "mimetype": "text/x-python",
   "name": "python",
   "nbconvert_exporter": "python",
   "pygments_lexer": "ipython3",
   "version": "3.11.9"
  }
 },
 "nbformat": 4,
 "nbformat_minor": 5
}
