{
 "cells": [
  {
   "cell_type": "markdown",
   "id": "6c3446b3",
   "metadata": {},
   "source": [
    "# 1. Variables"
   ]
  },
  {
   "cell_type": "code",
   "execution_count": null,
   "id": "8435853d",
   "metadata": {},
   "outputs": [
    {
     "name": "stdout",
     "output_type": "stream",
     "text": [
      "Mirpurkhas, Pakistan\n",
      "Mirpurkhas, Pakistan\n"
     ]
    }
   ],
   "source": [
    "# Store your city and country in variables and print them together. \n",
    "\n",
    "city = \"Mirpurkhas\"\n",
    "country = \"Pakistan\"\n",
    "\n",
    "print(city + \", \" + country)\n",
    "\n",
    "print(f\"{city}, {country}\")"
   ]
  },
  {
   "cell_type": "code",
   "execution_count": 5,
   "id": "b84b3d5c",
   "metadata": {},
   "outputs": [
    {
     "name": "stdout",
     "output_type": "stream",
     "text": [
      "Sum:  25\n",
      "Difference:  15\n",
      "Product:  100\n",
      "Quotient:  4.0\n"
     ]
    }
   ],
   "source": [
    "# Store two numbers in variables and print their sum, difference, product, and quotient. \n",
    "a = 20\n",
    "b = 5\n",
    "\n",
    "print(\"Sum: \", a + b)\n",
    "print(\"Difference: \", a-b)\n",
    "print(\"Product: \", a*b)\n",
    "print(\"Quotient: \", a/b)"
   ]
  },
  {
   "cell_type": "code",
   "execution_count": null,
   "id": "7ab9697c",
   "metadata": {},
   "outputs": [
    {
     "name": "stdout",
     "output_type": "stream",
     "text": [
      "My favorite movie is laal kabootar, starring Ahmed Ali, and I would rate it 7/10.\n"
     ]
    }
   ],
   "source": [
    "# Make variables for your favorite movie, favorite actor, and rating (out of 10) and display them in  sentence. \n",
    "favorite_movie = \"Remember the Goal\"\n",
    "favorite_actor = \"Dure Fishan\"\n",
    "rating = 9.5\n",
    "\n",
    "print(f\"My favorite movie is {favorite_movie}\")\n",
    "print(f\"I would rate the movie {rating}/10.\")\n",
    "print(f\"My favorite actor is {favorite_actor}\")\n",
    "\n"
   ]
  },
  {
   "cell_type": "markdown",
   "id": "850bcdd1",
   "metadata": {},
   "source": [
    "# 2. Data Types (int, float, str, bool) "
   ]
  },
  {
   "cell_type": "code",
   "execution_count": 8,
   "id": "ffff42c5",
   "metadata": {},
   "outputs": [
    {
     "name": "stdout",
     "output_type": "stream",
     "text": [
      "Name: Ashna, Type: <class 'str'>\n",
      "Age: 18, Type: <class 'int'>\n",
      "Height: 5.1, Type: <class 'float'>\n",
      "Is Student: True, Type: <class 'bool'>\n"
     ]
    }
   ],
   "source": [
    "# Create a program that asks for your name (string), age (integer), height (float), and whether \n",
    "# you are a student (boolean). Print all values with their types. \n",
    "name = input(\"Enter your name: \")\n",
    "age = int(input(\"Enter you age: \"))\n",
    "height = float(input(\"Enter your height in ft:\"))\n",
    "is_student = input(\"Are you a student? (yes/no): \").strip().lower() == 'yes'\n",
    "\n",
    "print(f\"Name: {name}, Type: {type(name)}\")\n",
    "print(f\"Age: {age}, Type: {type(age)}\")\n",
    "print(f\"Height: {height}, Type: {type(height)}\")\n",
    "print(f\"Is Student: {is_student}, Type: {type(is_student)}\")"
   ]
  },
  {
   "cell_type": "markdown",
   "id": "ee7df9c9",
   "metadata": {},
   "source": [
    "#### Predict the output of: \n",
    "o print(type(3.0)) \n",
    "\n",
    "o print(type(\"3\")) \n",
    "\n",
    "\n",
    "Answer: \n",
    "\n",
    "-> float\n",
    "\n",
    "-> str"
   ]
  },
  {
   "cell_type": "markdown",
   "id": "9d0fccb6",
   "metadata": {},
   "source": [
    "# 3. Type Conversion "
   ]
  },
  {
   "cell_type": "code",
   "execution_count": 14,
   "id": "767111e7",
   "metadata": {},
   "outputs": [
    {
     "name": "stdout",
     "output_type": "stream",
     "text": [
      "1st no:  2 \n",
      "2nd no:  4\n",
      "Befor conversion: \n",
      "Sum =  2 4\n",
      "After Conversion: \n",
      "The sum =  6\n"
     ]
    }
   ],
   "source": [
    "# Take user input of two numbers (as strings) and convert them into integers to add. \n",
    "num1 = input(\"Enter first number: \")\n",
    "num2 = input(\"Enter second number: \")\n",
    "\n",
    "print(\"1st no: \", num1)\n",
    "print(\"2nd no: \", num2)\n",
    "\n",
    "print(\"Befor conversion: \\nSum = \", num1 + num2)\n",
    "# Convert to Integer\n",
    "n1 = int(num1)\n",
    "n2 = int(num2)\n",
    "\n",
    "print(\"After Conversion: \\nThe sum = \", n1 + n2)"
   ]
  },
  {
   "cell_type": "code",
   "execution_count": 15,
   "id": "60661922",
   "metadata": {},
   "outputs": [
    {
     "name": "stdout",
     "output_type": "stream",
     "text": [
      "Float: 3.5, Type: <class 'float'>\n",
      "Integer: 3, Type: <class 'int'>\n",
      "String: 3.5, Type: <class 'str'>\n"
     ]
    }
   ],
   "source": [
    "# write a program that converts a float number into integer and string. Print all results. \n",
    "float_num = float(input(\"Enter a float number: \"))\n",
    "int_num = int(float_num)\n",
    "str_num = str(float_num)\n",
    "\n",
    "print(f\"Float: {float_num}, Type: {type(float_num)}\")\n",
    "print(f\"Integer: {int_num}, Type: {type(int_num)}\")\n",
    "print(f\"String: {str_num}, Type: {type(str_num)}\")"
   ]
  },
  {
   "cell_type": "markdown",
   "id": "eba67d76",
   "metadata": {},
   "source": [
    "# 4. Basic Operators "
   ]
  },
  {
   "cell_type": "code",
   "execution_count": 17,
   "id": "fe5f6afa",
   "metadata": {},
   "outputs": [
    {
     "name": "stdout",
     "output_type": "stream",
     "text": [
      "Addition:  62.0\n",
      "Subtraction:  38.0\n",
      "Multiplication:  600.0\n",
      "Division:  4.166666666666667\n",
      "Floor Division:  4.0\n",
      "Modulus:  2.0\n"
     ]
    }
   ],
   "source": [
    "# Ask the user for two numbers and show: Addition, Subtraction, Nultiplication, Division, Floor Division, Modulus.\n",
    "\n",
    "num1 = float(input(\"Enter a first number: \"))\n",
    "num2 = float(input(\"Enter a second number: \"))\n",
    "\n",
    "print(\"Addition: \", num1 + num2)\n",
    "print(\"Subtraction: \", num1 - num2)\n",
    "print(\"Multiplication: \", num1 * num2)\n",
    "print(\"Division: \", num1 / num2)\n",
    "print(\"Floor Division: \", num1 // num2)\n",
    "print(\"Modulus: \", num1 % num2)\n"
   ]
  },
  {
   "cell_type": "markdown",
   "id": "b3df70ea",
   "metadata": {},
   "source": [
    "# Calculate the area of rectangle"
   ]
  },
  {
   "cell_type": "code",
   "execution_count": 19,
   "id": "d4b8cafe",
   "metadata": {},
   "outputs": [
    {
     "name": "stdout",
     "output_type": "stream",
     "text": [
      "The area of the rectangle is: 32.0cm²\n"
     ]
    }
   ],
   "source": [
    "# Write a program to calculate the area of a rectangle (length × width). \n",
    "length = float(input(\"Enter the length of the rectangle: \"))\n",
    "width = float(input(\"Enter the width of the rectangle: \"))\n",
    "area = length * width\n",
    "print(f\"The area of the rectangle is: {area}cm²\")"
   ]
  },
  {
   "cell_type": "markdown",
   "id": "a206be85",
   "metadata": {},
   "source": [
    "# 5. Input/Output "
   ]
  },
  {
   "cell_type": "code",
   "execution_count": 20,
   "id": "74ecb3eb",
   "metadata": {},
   "outputs": [
    {
     "name": "stdout",
     "output_type": "stream",
     "text": [
      "Hello, Ashna ! You are 18 years old and your favorite color is purple.\n"
     ]
    }
   ],
   "source": [
    "name = input(\"Enter your name: \")\n",
    "age = int(input(\"Enter your age: \"))\n",
    "fav_color = input(\"Enter your favorite color: \")\n",
    "\n",
    "print(f\"Hello, {name}! You are {age} years old and your favorite color is {fav_color}.\")"
   ]
  },
  {
   "cell_type": "code",
   "execution_count": 23,
   "id": "e5a32786",
   "metadata": {},
   "outputs": [
    {
     "name": "stdout",
     "output_type": "stream",
     "text": [
      "Average: 15.5, Difference: 7.0\n"
     ]
    }
   ],
   "source": [
    "#  Ask the user for two numbers and print both the average and difference. \n",
    "num1 = float(input(\"Enter first number: \"))\n",
    "num1 = float(input(\"enter second number: \"))\n",
    "\n",
    "average = (num1 + num2) / 2\n",
    "\n",
    "# abs() to ensure non-negative difference\n",
    "difference = abs(num1 - num2) \n",
    "\n",
    "print(f\"Average: {average}, Difference: {difference}\")"
   ]
  },
  {
   "cell_type": "markdown",
   "id": "a679f5b6",
   "metadata": {},
   "source": [
    "## Create a small “Introduction Form” that asks for: \n",
    "o Name \n",
    "\n",
    "o Class \n",
    "\n",
    "o University \n",
    "\n",
    "o Hobby \n",
    "\n",
    "And prints them nicely"
   ]
  },
  {
   "cell_type": "code",
   "execution_count": 1,
   "id": "fa3ccab6",
   "metadata": {},
   "outputs": [
    {
     "name": "stdout",
     "output_type": "stream",
     "text": [
      "\n",
      "--- Introduction Form ---\n",
      "Name: Ashna \n",
      "Class: 12\n",
      "University: MPK University\n",
      "Hobby: Programming\n"
     ]
    }
   ],
   "source": [
    "# small “Introduction Form” that asks for: Name, Class, University, Hobby and prints them nicely\n",
    "\n",
    "name = input(\"Enter your name: \")\n",
    "class_name = input(\"Enter your class: \")\n",
    "university = input(\"Enter your university: \")\n",
    "hobby = input(\"Enter your hobby: \")\n",
    "\n",
    "print(\"\\n--- Introduction Form ---\")\n",
    "print(f\"Name: {name}\")\n",
    "print(f\"Class: {class_name}\")\n",
    "print(f\"University: {university}\")\n",
    "print(f\"Hobby: {hobby}\")"
   ]
  },
  {
   "cell_type": "code",
   "execution_count": null,
   "id": "53f89797",
   "metadata": {},
   "outputs": [],
   "source": []
  }
 ],
 "metadata": {
  "kernelspec": {
   "display_name": "ashna",
   "language": "python",
   "name": "python3"
  },
  "language_info": {
   "codemirror_mode": {
    "name": "ipython",
    "version": 3
   },
   "file_extension": ".py",
   "mimetype": "text/x-python",
   "name": "python",
   "nbconvert_exporter": "python",
   "pygments_lexer": "ipython3",
   "version": "3.11.9"
  }
 },
 "nbformat": 4,
 "nbformat_minor": 5
}
